{
 "cells": [
  {
   "cell_type": "code",
   "execution_count": 83,
   "metadata": {},
   "outputs": [
    {
     "name": "stdout",
     "output_type": "stream",
     "text": [
      "{1: 5.600140126113502, 2: 5.600180144115292, 3: 5.600220154107875, 4: 5.6001600960576345, 5: 5.600200100050025, 6: 5.600140056022409, 7: 5.600180054016205, 8: 5.6000200040008, 9: 5.6000600060006, 10: 5.6}\n"
     ]
    }
   ],
   "source": [
    "import random\n",
    "new_list = []\n",
    "interesting = {}\n",
    "def game(number):\n",
    "    max_pred = 10\n",
    "    min_pred = 0\n",
    "    #number = random.randint(min_pred, max_pred)\n",
    "    #number = 10\n",
    "    predict = 64 \n",
    "    count = 1\n",
    "    while number != predict:\n",
    "        count += 1\n",
    "        if number < predict:\n",
    "            max_pred = predict\n",
    "            predict = round((predict + min_pred) / 2)\n",
    "            \n",
    "        if number > predict:\n",
    "            min_pred = predict\n",
    "            predict = round((predict + max_pred)/ 2)\n",
    "    return (predict, count)\n",
    "            \n",
    "for i in range(1, 1001):\n",
    "    for j in range(1, 11):\n",
    "        new_list.append(game(j)[1])\n",
    "        interesting[j] = sum(new_list) / len(new_list)\n",
    "    \n",
    "    \n",
    "print(interesting)"
   ]
  }
 ],
 "metadata": {
  "kernelspec": {
   "display_name": "Python 3",
   "language": "python",
   "name": "python3"
  },
  "language_info": {
   "codemirror_mode": {
    "name": "ipython",
    "version": 3
   },
   "file_extension": ".py",
   "mimetype": "text/x-python",
   "name": "python",
   "nbconvert_exporter": "python",
   "pygments_lexer": "ipython3",
   "version": "3.8.3"
  }
 },
 "nbformat": 4,
 "nbformat_minor": 4
}
