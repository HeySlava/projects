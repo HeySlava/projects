{
 "cells": [
  {
   "cell_type": "code",
   "execution_count": 180,
   "metadata": {},
   "outputs": [
    {
     "name": "stdout",
     "output_type": "stream",
     "text": [
      "21\n",
      "Загаданное число 21 отгадали за 5 попыток\n"
     ]
    }
   ],
   "source": [
    "from random import randint\n",
    "def game100():\n",
    "    \n",
    "    number = randint(0, 100)\n",
    "    print(number)\n",
    "    maxp = 100\n",
    "    minp = 0\n",
    "    score = 1\n",
    "    start = maxp // 2\n",
    "    predict = start\n",
    "    \n",
    "    while number != predict:\n",
    "        if number > predict:\n",
    "            minp = predict\n",
    "            predict = (maxp - predict)//2 + predict\n",
    "        if number < predict:\n",
    "            maxp = predict\n",
    "            predict = (predict - minp) // 2\n",
    "        score += 1\n",
    "    print(\"Загаданное число {} отгадали за {} попыток\".format(predict, score))\n",
    "    \n",
    "\n",
    "game100()"
   ]
  }
 ],
 "metadata": {
  "kernelspec": {
   "display_name": "Python 3",
   "language": "python",
   "name": "python3"
  }
 },
 "nbformat": 4,
 "nbformat_minor": 4
}
