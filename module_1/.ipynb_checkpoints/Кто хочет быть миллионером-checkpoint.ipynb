{
 "cells": [
  {
   "cell_type": "code",
   "execution_count": 1,
   "metadata": {
    "_cell_guid": "b1076dfc-b9ad-4769-8c92-a6c4dae69d19",
    "_uuid": "8f2839f25d086af736a60e9eeb907d3b93b6e0e5",
    "colab": {},
    "colab_type": "code",
    "id": "U2D2gTdJVp90"
   },
   "outputs": [],
   "source": [
    "import numpy as np\n",
    "import pandas as pd\n",
    "import seaborn as sns\n",
    "import matplotlib.pyplot as plt\n",
    "from collections import Counter"
   ]
  },
  {
   "cell_type": "code",
   "execution_count": 2,
   "metadata": {
    "_cell_guid": "79c7e3d0-c299-4dcb-8224-4455121ee9b0",
    "_uuid": "d629ff2d2480ee46fbb7e2d37f6b5fab8052498a",
    "colab": {},
    "colab_type": "code",
    "id": "oyGfxL3eVp9-"
   },
   "outputs": [
    {
     "data": {
      "text/html": [
       "<div>\n",
       "<style scoped>\n",
       "    .dataframe tbody tr th:only-of-type {\n",
       "        vertical-align: middle;\n",
       "    }\n",
       "\n",
       "    .dataframe tbody tr th {\n",
       "        vertical-align: top;\n",
       "    }\n",
       "\n",
       "    .dataframe thead th {\n",
       "        text-align: right;\n",
       "    }\n",
       "</style>\n",
       "<table border=\"1\" class=\"dataframe\">\n",
       "  <thead>\n",
       "    <tr style=\"text-align: right;\">\n",
       "      <th></th>\n",
       "      <th>imdb_id</th>\n",
       "      <th>budget</th>\n",
       "      <th>revenue</th>\n",
       "      <th>original_title</th>\n",
       "      <th>cast</th>\n",
       "      <th>director</th>\n",
       "      <th>tagline</th>\n",
       "      <th>overview</th>\n",
       "      <th>runtime</th>\n",
       "      <th>genres</th>\n",
       "      <th>production_companies</th>\n",
       "      <th>release_date</th>\n",
       "      <th>vote_average</th>\n",
       "      <th>release_year</th>\n",
       "    </tr>\n",
       "  </thead>\n",
       "  <tbody>\n",
       "    <tr>\n",
       "      <th>1785</th>\n",
       "      <td>tt0368794</td>\n",
       "      <td>20000000</td>\n",
       "      <td>4001121</td>\n",
       "      <td>I'm Not There.</td>\n",
       "      <td>Cate Blanchett|Heath Ledger|Julianne Moore|Ben...</td>\n",
       "      <td>Todd Haynes</td>\n",
       "      <td>All I Can Do Is Be Me Whoever That Is</td>\n",
       "      <td>Six actors portray six personas of music legen...</td>\n",
       "      <td>135</td>\n",
       "      <td>Drama|Music</td>\n",
       "      <td>Endgame Entertainment|Rising Star|Killer Films...</td>\n",
       "      <td>10/1/2007</td>\n",
       "      <td>6.5</td>\n",
       "      <td>2007</td>\n",
       "    </tr>\n",
       "    <tr>\n",
       "      <th>904</th>\n",
       "      <td>tt0288477</td>\n",
       "      <td>35000000</td>\n",
       "      <td>68349884</td>\n",
       "      <td>Ghost Ship</td>\n",
       "      <td>Gabriel Byrne|Julianna Margulies|Desmond Harri...</td>\n",
       "      <td>Steve Beck</td>\n",
       "      <td>Sea Evil</td>\n",
       "      <td>After discovering a passenger ship missing sin...</td>\n",
       "      <td>91</td>\n",
       "      <td>Horror|Mystery|Thriller</td>\n",
       "      <td>Village Roadshow Pictures|NPV Entertainment|Da...</td>\n",
       "      <td>10/25/2002</td>\n",
       "      <td>5.2</td>\n",
       "      <td>2002</td>\n",
       "    </tr>\n",
       "    <tr>\n",
       "      <th>1582</th>\n",
       "      <td>tt0369339</td>\n",
       "      <td>65000000</td>\n",
       "      <td>217764291</td>\n",
       "      <td>Collateral</td>\n",
       "      <td>Tom Cruise|Jamie Foxx|Jada Pinkett Smith|Mark ...</td>\n",
       "      <td>Michael Mann</td>\n",
       "      <td>It started like any other night.</td>\n",
       "      <td>Cab driver Max picks up a man who offers him $...</td>\n",
       "      <td>120</td>\n",
       "      <td>Drama|Crime|Thriller</td>\n",
       "      <td>Paramount Pictures|DreamWorks SKG|Parkes/MacDo...</td>\n",
       "      <td>8/4/2004</td>\n",
       "      <td>6.7</td>\n",
       "      <td>2004</td>\n",
       "    </tr>\n",
       "    <tr>\n",
       "      <th>279</th>\n",
       "      <td>tt1111422</td>\n",
       "      <td>100000000</td>\n",
       "      <td>150166126</td>\n",
       "      <td>The Taking of Pelham 1 2 3</td>\n",
       "      <td>Denzel Washington|John Travolta|Luis GuzmÃ¡n|V...</td>\n",
       "      <td>Tony Scott</td>\n",
       "      <td>I can't get it out of my head. I'm gonna die t...</td>\n",
       "      <td>Armed men hijack a New York City subway train,...</td>\n",
       "      <td>106</td>\n",
       "      <td>Thriller|Drama|Crime</td>\n",
       "      <td>Columbia Pictures|Escape Artists|Scott Free Pr...</td>\n",
       "      <td>6/11/2009</td>\n",
       "      <td>6.1</td>\n",
       "      <td>2009</td>\n",
       "    </tr>\n",
       "    <tr>\n",
       "      <th>995</th>\n",
       "      <td>tt1397280</td>\n",
       "      <td>45000000</td>\n",
       "      <td>376141306</td>\n",
       "      <td>Taken 2</td>\n",
       "      <td>Liam Neeson|Maggie Grace|Famke Janssen|Rade Se...</td>\n",
       "      <td>Olivier Megaton</td>\n",
       "      <td>First they took his daughter. Now they're comi...</td>\n",
       "      <td>In Istanbul, retired CIA operative Bryan Mills...</td>\n",
       "      <td>91</td>\n",
       "      <td>Action|Thriller|Crime|Drama</td>\n",
       "      <td>Twentieth Century Fox Film Corporation|M6 Film...</td>\n",
       "      <td>9/27/2012</td>\n",
       "      <td>6.0</td>\n",
       "      <td>2012</td>\n",
       "    </tr>\n",
       "  </tbody>\n",
       "</table>\n",
       "</div>"
      ],
      "text/plain": [
       "        imdb_id     budget    revenue              original_title  \\\n",
       "1785  tt0368794   20000000    4001121              I'm Not There.   \n",
       "904   tt0288477   35000000   68349884                  Ghost Ship   \n",
       "1582  tt0369339   65000000  217764291                  Collateral   \n",
       "279   tt1111422  100000000  150166126  The Taking of Pelham 1 2 3   \n",
       "995   tt1397280   45000000  376141306                     Taken 2   \n",
       "\n",
       "                                                   cast         director  \\\n",
       "1785  Cate Blanchett|Heath Ledger|Julianne Moore|Ben...      Todd Haynes   \n",
       "904   Gabriel Byrne|Julianna Margulies|Desmond Harri...       Steve Beck   \n",
       "1582  Tom Cruise|Jamie Foxx|Jada Pinkett Smith|Mark ...     Michael Mann   \n",
       "279   Denzel Washington|John Travolta|Luis GuzmÃ¡n|V...       Tony Scott   \n",
       "995   Liam Neeson|Maggie Grace|Famke Janssen|Rade Se...  Olivier Megaton   \n",
       "\n",
       "                                                tagline  \\\n",
       "1785              All I Can Do Is Be Me Whoever That Is   \n",
       "904                                            Sea Evil   \n",
       "1582                   It started like any other night.   \n",
       "279   I can't get it out of my head. I'm gonna die t...   \n",
       "995   First they took his daughter. Now they're comi...   \n",
       "\n",
       "                                               overview  runtime  \\\n",
       "1785  Six actors portray six personas of music legen...      135   \n",
       "904   After discovering a passenger ship missing sin...       91   \n",
       "1582  Cab driver Max picks up a man who offers him $...      120   \n",
       "279   Armed men hijack a New York City subway train,...      106   \n",
       "995   In Istanbul, retired CIA operative Bryan Mills...       91   \n",
       "\n",
       "                           genres  \\\n",
       "1785                  Drama|Music   \n",
       "904       Horror|Mystery|Thriller   \n",
       "1582         Drama|Crime|Thriller   \n",
       "279          Thriller|Drama|Crime   \n",
       "995   Action|Thriller|Crime|Drama   \n",
       "\n",
       "                                   production_companies release_date  \\\n",
       "1785  Endgame Entertainment|Rising Star|Killer Films...    10/1/2007   \n",
       "904   Village Roadshow Pictures|NPV Entertainment|Da...   10/25/2002   \n",
       "1582  Paramount Pictures|DreamWorks SKG|Parkes/MacDo...     8/4/2004   \n",
       "279   Columbia Pictures|Escape Artists|Scott Free Pr...    6/11/2009   \n",
       "995   Twentieth Century Fox Film Corporation|M6 Film...    9/27/2012   \n",
       "\n",
       "      vote_average  release_year  \n",
       "1785           6.5          2007  \n",
       "904            5.2          2002  \n",
       "1582           6.7          2004  \n",
       "279            6.1          2009  \n",
       "995            6.0          2012  "
      ]
     },
     "execution_count": 2,
     "metadata": {},
     "output_type": "execute_result"
    }
   ],
   "source": [
    "data = pd.read_csv('movie_bd_v5.csv')\n",
    "data.sample(5)"
   ]
  },
  {
   "cell_type": "code",
   "execution_count": 0,
   "metadata": {
    "colab": {},
    "colab_type": "code",
    "id": "CoYUnagMVp-C"
   },
   "outputs": [],
   "source": [
    "data.describe()"
   ]
  },
  {
   "cell_type": "markdown",
   "metadata": {
    "colab_type": "text",
    "id": "DTIt7ezGVp-G"
   },
   "source": [
    "# Предобработка"
   ]
  },
  {
   "cell_type": "code",
   "execution_count": 3,
   "metadata": {
    "colab": {},
    "colab_type": "code",
    "id": "jNb40DwKVp-H"
   },
   "outputs": [],
   "source": [
    "answers = {} # создадим словарь для ответов\n",
    "\n",
    "Big_Profit_Ind = (data.loc[:, 'revenue'] - data.loc[:,'budget']).sort_values().index[-1]\n",
    "Min_Profit_Ind = (data.loc[:, 'revenue'] - data.loc[:,'budget']).sort_values().index[0]\n",
    "data9 = data.loc[data.loc[:,'release_year'] == 2008]"
   ]
  },
  {
   "cell_type": "markdown",
   "metadata": {
    "colab_type": "text",
    "id": "YxZaH-nPVp-L"
   },
   "source": [
    "# 1. У какого фильма из списка самый большой бюджет?"
   ]
  },
  {
   "cell_type": "markdown",
   "metadata": {
    "colab_type": "text",
    "id": "Nd-G5gX6Vp-M"
   },
   "source": [
    "Использовать варианты ответов в коде решения запрещено.    \n",
    "Вы думаете и в жизни у вас будут варианты ответов?)"
   ]
  },
  {
   "cell_type": "code",
   "execution_count": 4,
   "metadata": {
    "colab": {},
    "colab_type": "code",
    "id": "uVnXAY5RVp-O"
   },
   "outputs": [],
   "source": [
    "# в словарь вставляем номер вопроса и ваш ответ на него\n",
    "# Пример: \n",
    "answers['1'] = '2. Spider-Man 3 (tt0413300)'\n",
    "# запишите свой вариант ответа\n",
    "answers['1'] = 'tt1298650\tPirates of the Caribbean: On Stranger Tides'\n",
    "# если ответили верно, можете добавить комментарий со значком \"+\""
   ]
  },
  {
   "cell_type": "code",
   "execution_count": 5,
   "metadata": {
    "colab": {},
    "colab_type": "code",
    "id": "dZwb3m28Vp-S"
   },
   "outputs": [
    {
     "data": {
      "text/html": [
       "<div>\n",
       "<style scoped>\n",
       "    .dataframe tbody tr th:only-of-type {\n",
       "        vertical-align: middle;\n",
       "    }\n",
       "\n",
       "    .dataframe tbody tr th {\n",
       "        vertical-align: top;\n",
       "    }\n",
       "\n",
       "    .dataframe thead th {\n",
       "        text-align: right;\n",
       "    }\n",
       "</style>\n",
       "<table border=\"1\" class=\"dataframe\">\n",
       "  <thead>\n",
       "    <tr style=\"text-align: right;\">\n",
       "      <th></th>\n",
       "      <th>imdb_id</th>\n",
       "      <th>original_title</th>\n",
       "    </tr>\n",
       "  </thead>\n",
       "  <tbody>\n",
       "    <tr>\n",
       "      <th>723</th>\n",
       "      <td>tt1298650</td>\n",
       "      <td>Pirates of the Caribbean: On Stranger Tides</td>\n",
       "    </tr>\n",
       "  </tbody>\n",
       "</table>\n",
       "</div>"
      ],
      "text/plain": [
       "       imdb_id                               original_title\n",
       "723  tt1298650  Pirates of the Caribbean: On Stranger Tides"
      ]
     },
     "execution_count": 5,
     "metadata": {},
     "output_type": "execute_result"
    }
   ],
   "source": [
    "data.loc[data.loc[:,'budget'] == data.loc[:,'budget'].max(), ['imdb_id', 'original_title'] ]"
   ]
  },
  {
   "cell_type": "markdown",
   "metadata": {
    "colab_type": "text",
    "id": "K7L3nbRXVp-X"
   },
   "source": [
    "ВАРИАНТ 2"
   ]
  },
  {
   "cell_type": "code",
   "execution_count": 0,
   "metadata": {
    "colab": {},
    "colab_type": "code",
    "id": "OGaoQI7rVp-X"
   },
   "outputs": [],
   "source": [
    "# можно добавлять разные варианты решения"
   ]
  },
  {
   "cell_type": "markdown",
   "metadata": {
    "colab_type": "text",
    "id": "FNRbbI3vVp-c"
   },
   "source": [
    "# 2. Какой из фильмов самый длительный (в минутах)?"
   ]
  },
  {
   "cell_type": "code",
   "execution_count": 6,
   "metadata": {
    "colab": {},
    "colab_type": "code",
    "id": "vHAoEXNTVp-d"
   },
   "outputs": [],
   "source": [
    "# думаю логику работы с этим словарем вы уже поняли, \n",
    "# по этому не буду больше его дублировать\n",
    "answers['2'] = '1157\ttt0279111\tGods and Generals'"
   ]
  },
  {
   "cell_type": "code",
   "execution_count": 7,
   "metadata": {
    "colab": {},
    "colab_type": "code",
    "id": "ot-VX2XrVp-g"
   },
   "outputs": [
    {
     "data": {
      "text/html": [
       "<div>\n",
       "<style scoped>\n",
       "    .dataframe tbody tr th:only-of-type {\n",
       "        vertical-align: middle;\n",
       "    }\n",
       "\n",
       "    .dataframe tbody tr th {\n",
       "        vertical-align: top;\n",
       "    }\n",
       "\n",
       "    .dataframe thead th {\n",
       "        text-align: right;\n",
       "    }\n",
       "</style>\n",
       "<table border=\"1\" class=\"dataframe\">\n",
       "  <thead>\n",
       "    <tr style=\"text-align: right;\">\n",
       "      <th></th>\n",
       "      <th>imdb_id</th>\n",
       "      <th>original_title</th>\n",
       "    </tr>\n",
       "  </thead>\n",
       "  <tbody>\n",
       "    <tr>\n",
       "      <th>1157</th>\n",
       "      <td>tt0279111</td>\n",
       "      <td>Gods and Generals</td>\n",
       "    </tr>\n",
       "  </tbody>\n",
       "</table>\n",
       "</div>"
      ],
      "text/plain": [
       "        imdb_id     original_title\n",
       "1157  tt0279111  Gods and Generals"
      ]
     },
     "execution_count": 7,
     "metadata": {},
     "output_type": "execute_result"
    }
   ],
   "source": [
    "data.loc[data.loc[:,'runtime'] == data.loc[:,'runtime'].max(), ['imdb_id', 'original_title'] ]"
   ]
  },
  {
   "cell_type": "markdown",
   "metadata": {
    "colab_type": "text",
    "id": "bapLlpW8Vp-k"
   },
   "source": [
    "# 3. Какой из фильмов самый короткий (в минутах)?\n",
    "\n",
    "\n",
    "\n"
   ]
  },
  {
   "cell_type": "code",
   "execution_count": 8,
   "metadata": {},
   "outputs": [
    {
     "data": {
      "text/html": [
       "<div>\n",
       "<style scoped>\n",
       "    .dataframe tbody tr th:only-of-type {\n",
       "        vertical-align: middle;\n",
       "    }\n",
       "\n",
       "    .dataframe tbody tr th {\n",
       "        vertical-align: top;\n",
       "    }\n",
       "\n",
       "    .dataframe thead th {\n",
       "        text-align: right;\n",
       "    }\n",
       "</style>\n",
       "<table border=\"1\" class=\"dataframe\">\n",
       "  <thead>\n",
       "    <tr style=\"text-align: right;\">\n",
       "      <th></th>\n",
       "      <th>imdb_id</th>\n",
       "      <th>original_title</th>\n",
       "    </tr>\n",
       "  </thead>\n",
       "  <tbody>\n",
       "    <tr>\n",
       "      <th>768</th>\n",
       "      <td>tt1449283</td>\n",
       "      <td>Winnie the Pooh</td>\n",
       "    </tr>\n",
       "  </tbody>\n",
       "</table>\n",
       "</div>"
      ],
      "text/plain": [
       "       imdb_id   original_title\n",
       "768  tt1449283  Winnie the Pooh"
      ]
     },
     "execution_count": 8,
     "metadata": {},
     "output_type": "execute_result"
    }
   ],
   "source": [
    "data.loc[data.loc[:,'runtime'] == data.loc[:,'runtime'].min(), ['imdb_id', 'original_title'] ]"
   ]
  },
  {
   "cell_type": "code",
   "execution_count": 9,
   "metadata": {},
   "outputs": [],
   "source": [
    "answers['3'] = '768\ttt1449283\tWinnie the Pooh'"
   ]
  },
  {
   "cell_type": "markdown",
   "metadata": {
    "colab_type": "text",
    "id": "TfQbxbfNVp-p"
   },
   "source": [
    "# 4. Какова средняя длительность фильмов?\n"
   ]
  },
  {
   "cell_type": "code",
   "execution_count": 10,
   "metadata": {
    "colab": {},
    "colab_type": "code",
    "id": "5K6dKZYVVp-q"
   },
   "outputs": [
    {
     "data": {
      "text/plain": [
       "109.6585494970884"
      ]
     },
     "execution_count": 10,
     "metadata": {},
     "output_type": "execute_result"
    }
   ],
   "source": [
    "data.loc[:,'runtime'].mean()"
   ]
  },
  {
   "cell_type": "code",
   "execution_count": 79,
   "metadata": {},
   "outputs": [],
   "source": [
    "answers['4'] = '109.6585494970884'"
   ]
  },
  {
   "cell_type": "markdown",
   "metadata": {
    "colab_type": "text",
    "id": "r5TvbnT_Vp-u"
   },
   "source": [
    "# 5. Каково медианное значение длительности фильмов? "
   ]
  },
  {
   "cell_type": "code",
   "execution_count": 11,
   "metadata": {
    "colab": {},
    "colab_type": "code",
    "id": "iBROplKnVp-v"
   },
   "outputs": [
    {
     "data": {
      "text/plain": [
       "107.0"
      ]
     },
     "execution_count": 11,
     "metadata": {},
     "output_type": "execute_result"
    }
   ],
   "source": [
    "data.loc[:,'runtime'].median()"
   ]
  },
  {
   "cell_type": "code",
   "execution_count": 12,
   "metadata": {},
   "outputs": [],
   "source": [
    "answers['5'] = '107.0'"
   ]
  },
  {
   "cell_type": "markdown",
   "metadata": {
    "colab_type": "text",
    "id": "39P-deDSVp-y"
   },
   "source": [
    "# 6. Какой самый прибыльный фильм?\n",
    "#### Внимание! Здесь и далее под «прибылью» или «убытками» понимается разность между сборами и бюджетом фильма. (прибыль = сборы - бюджет) в нашем датасете это будет (profit = revenue - budget) "
   ]
  },
  {
   "cell_type": "code",
   "execution_count": 13,
   "metadata": {
    "colab": {},
    "colab_type": "code",
    "id": "UYZh4T9WVp-y"
   },
   "outputs": [
    {
     "data": {
      "text/plain": [
       "imdb_id           tt0499549\n",
       "original_title       Avatar\n",
       "Name: 239, dtype: object"
      ]
     },
     "execution_count": 13,
     "metadata": {},
     "output_type": "execute_result"
    }
   ],
   "source": [
    "data.iloc[Big_Profit_Ind,[0, 3]]"
   ]
  },
  {
   "cell_type": "code",
   "execution_count": 14,
   "metadata": {},
   "outputs": [],
   "source": [
    "answers['6'] = 'tt0499549 Avatar'"
   ]
  },
  {
   "cell_type": "markdown",
   "metadata": {
    "colab_type": "text",
    "id": "M99JmIX4Vp-2"
   },
   "source": [
    "# 7. Какой фильм самый убыточный? "
   ]
  },
  {
   "cell_type": "code",
   "execution_count": 15,
   "metadata": {
    "colab": {},
    "colab_type": "code",
    "id": "w-D2m4XPVp-3"
   },
   "outputs": [
    {
     "data": {
      "text/plain": [
       "imdb_id                 tt1210819\n",
       "original_title    The Lone Ranger\n",
       "Name: 1245, dtype: object"
      ]
     },
     "execution_count": 15,
     "metadata": {},
     "output_type": "execute_result"
    }
   ],
   "source": [
    "data.iloc[Min_Profit_Ind,[0,3]]"
   ]
  },
  {
   "cell_type": "code",
   "execution_count": 16,
   "metadata": {},
   "outputs": [],
   "source": [
    "answers['7'] = 'tt1210819 The Lone Ranger'"
   ]
  },
  {
   "cell_type": "markdown",
   "metadata": {
    "colab_type": "text",
    "id": "wEOM5ERVVp-6"
   },
   "source": [
    "# 8. У скольких фильмов из датасета объем сборов оказался выше бюджета?"
   ]
  },
  {
   "cell_type": "code",
   "execution_count": 17,
   "metadata": {
    "colab": {},
    "colab_type": "code",
    "id": "y00_7HD6Vp-7"
   },
   "outputs": [
    {
     "data": {
      "text/plain": [
       "(1478, 14)"
      ]
     },
     "execution_count": 17,
     "metadata": {},
     "output_type": "execute_result"
    }
   ],
   "source": [
    "(data.loc[data.loc[:, 'revenue'] > data.loc[:, 'budget'], :]).shape"
   ]
  },
  {
   "cell_type": "code",
   "execution_count": 18,
   "metadata": {},
   "outputs": [
    {
     "data": {
      "text/plain": [
       "{'1': 'tt1298650\\tPirates of the Caribbean: On Stranger Tides',\n",
       " '2': '1157\\ttt0279111\\tGods and Generals',\n",
       " '3': '768\\ttt1449283\\tWinnie the Pooh',\n",
       " '5': '107.0',\n",
       " '6': 'tt0499549 Avatar',\n",
       " '7': 'tt1210819 The Lone Ranger',\n",
       " '8': '1478'}"
      ]
     },
     "execution_count": 18,
     "metadata": {},
     "output_type": "execute_result"
    }
   ],
   "source": [
    "answers['8'] = '1478'"
   ]
  },
  {
   "cell_type": "markdown",
   "metadata": {
    "colab_type": "text",
    "id": "xhpspA9KVp_A"
   },
   "source": [
    "# 9. Какой фильм оказался самым кассовым в 2008 году?"
   ]
  },
  {
   "cell_type": "code",
   "execution_count": 20,
   "metadata": {
    "colab": {},
    "colab_type": "code",
    "id": "MoUyQr9RVp_B"
   },
   "outputs": [
    {
     "data": {
      "text/html": [
       "<div>\n",
       "<style scoped>\n",
       "    .dataframe tbody tr th:only-of-type {\n",
       "        vertical-align: middle;\n",
       "    }\n",
       "\n",
       "    .dataframe tbody tr th {\n",
       "        vertical-align: top;\n",
       "    }\n",
       "\n",
       "    .dataframe thead th {\n",
       "        text-align: right;\n",
       "    }\n",
       "</style>\n",
       "<table border=\"1\" class=\"dataframe\">\n",
       "  <thead>\n",
       "    <tr style=\"text-align: right;\">\n",
       "      <th></th>\n",
       "      <th>imdb_id</th>\n",
       "      <th>budget</th>\n",
       "      <th>revenue</th>\n",
       "      <th>original_title</th>\n",
       "      <th>cast</th>\n",
       "      <th>director</th>\n",
       "      <th>tagline</th>\n",
       "      <th>overview</th>\n",
       "      <th>runtime</th>\n",
       "      <th>genres</th>\n",
       "      <th>production_companies</th>\n",
       "      <th>release_date</th>\n",
       "      <th>vote_average</th>\n",
       "      <th>release_year</th>\n",
       "    </tr>\n",
       "  </thead>\n",
       "  <tbody>\n",
       "    <tr>\n",
       "      <th>599</th>\n",
       "      <td>tt0468569</td>\n",
       "      <td>185000000</td>\n",
       "      <td>1001921825</td>\n",
       "      <td>The Dark Knight</td>\n",
       "      <td>Christian Bale|Michael Caine|Heath Ledger|Aaro...</td>\n",
       "      <td>Christopher Nolan</td>\n",
       "      <td>Why So Serious?</td>\n",
       "      <td>Batman raises the stakes in his war on crime. ...</td>\n",
       "      <td>152</td>\n",
       "      <td>Drama|Action|Crime|Thriller</td>\n",
       "      <td>DC Comics|Legendary Pictures|Warner Bros.|Syncopy</td>\n",
       "      <td>7/16/2008</td>\n",
       "      <td>8.1</td>\n",
       "      <td>2008</td>\n",
       "    </tr>\n",
       "    <tr>\n",
       "      <th>600</th>\n",
       "      <td>tt0910970</td>\n",
       "      <td>180000000</td>\n",
       "      <td>521311860</td>\n",
       "      <td>WALLÂ·E</td>\n",
       "      <td>Ben Burtt|Elissa Knight|Jeff Garlin|Fred Willa...</td>\n",
       "      <td>Andrew Stanton</td>\n",
       "      <td>An adventure beyond the ordinar-E.</td>\n",
       "      <td>WALLÂ·E is the last robot left on an Earth tha...</td>\n",
       "      <td>98</td>\n",
       "      <td>Animation|Family</td>\n",
       "      <td>Walt Disney Pictures|Pixar Animation Studios</td>\n",
       "      <td>6/22/2008</td>\n",
       "      <td>7.6</td>\n",
       "      <td>2008</td>\n",
       "    </tr>\n",
       "    <tr>\n",
       "      <th>601</th>\n",
       "      <td>tt0371746</td>\n",
       "      <td>140000000</td>\n",
       "      <td>585174222</td>\n",
       "      <td>Iron Man</td>\n",
       "      <td>Robert Downey Jr.|Terrence Howard|Jeff Bridges...</td>\n",
       "      <td>Jon Favreau</td>\n",
       "      <td>Heroes aren't born. They're built.</td>\n",
       "      <td>After being held captive in an Afghan cave, bi...</td>\n",
       "      <td>126</td>\n",
       "      <td>Action|Science Fiction|Adventure</td>\n",
       "      <td>Marvel Studios</td>\n",
       "      <td>4/30/2008</td>\n",
       "      <td>7.3</td>\n",
       "      <td>2008</td>\n",
       "    </tr>\n",
       "    <tr>\n",
       "      <th>602</th>\n",
       "      <td>tt0936501</td>\n",
       "      <td>25000000</td>\n",
       "      <td>226830568</td>\n",
       "      <td>Taken</td>\n",
       "      <td>Liam Neeson|Famke Janssen|Maggie Grace|Katie C...</td>\n",
       "      <td>Pierre Morel</td>\n",
       "      <td>They took his daughter.  He'll take their lives.</td>\n",
       "      <td>While vacationing with a friend in Paris, an A...</td>\n",
       "      <td>93</td>\n",
       "      <td>Action|Thriller|Crime</td>\n",
       "      <td>Twentieth Century Fox Film Corporation|M6 Film...</td>\n",
       "      <td>2/18/2008</td>\n",
       "      <td>7.2</td>\n",
       "      <td>2008</td>\n",
       "    </tr>\n",
       "    <tr>\n",
       "      <th>603</th>\n",
       "      <td>tt0367882</td>\n",
       "      <td>185000000</td>\n",
       "      <td>786636033</td>\n",
       "      <td>Indiana Jones and the Kingdom of the Crystal S...</td>\n",
       "      <td>Harrison Ford|Cate Blanchett|Shia LaBeouf|Ray ...</td>\n",
       "      <td>Steven Spielberg</td>\n",
       "      <td>The adventure continues . . .</td>\n",
       "      <td>Set during the Cold War, the Soviets â€“ led b...</td>\n",
       "      <td>122</td>\n",
       "      <td>Adventure|Action</td>\n",
       "      <td>Lucasfilm|Paramount Pictures</td>\n",
       "      <td>5/21/2008</td>\n",
       "      <td>5.6</td>\n",
       "      <td>2008</td>\n",
       "    </tr>\n",
       "    <tr>\n",
       "      <th>...</th>\n",
       "      <td>...</td>\n",
       "      <td>...</td>\n",
       "      <td>...</td>\n",
       "      <td>...</td>\n",
       "      <td>...</td>\n",
       "      <td>...</td>\n",
       "      <td>...</td>\n",
       "      <td>...</td>\n",
       "      <td>...</td>\n",
       "      <td>...</td>\n",
       "      <td>...</td>\n",
       "      <td>...</td>\n",
       "      <td>...</td>\n",
       "      <td>...</td>\n",
       "    </tr>\n",
       "    <tr>\n",
       "      <th>715</th>\n",
       "      <td>tt0858479</td>\n",
       "      <td>7000000</td>\n",
       "      <td>10569964</td>\n",
       "      <td>Smart People</td>\n",
       "      <td>Dennis Quaid|Sarah Jessica Parker|Ellen Page|T...</td>\n",
       "      <td>Noam Murro</td>\n",
       "      <td>Sometimes the smartest people have the most to...</td>\n",
       "      <td>Professor Lawrence Wetherhold (Dennis Quaid) m...</td>\n",
       "      <td>95</td>\n",
       "      <td>Comedy|Drama|Romance</td>\n",
       "      <td>Miramax Films|Sherazade Film Development|Groun...</td>\n",
       "      <td>4/11/2008</td>\n",
       "      <td>5.5</td>\n",
       "      <td>2008</td>\n",
       "    </tr>\n",
       "    <tr>\n",
       "      <th>716</th>\n",
       "      <td>tt0410377</td>\n",
       "      <td>37000000</td>\n",
       "      <td>100076342</td>\n",
       "      <td>Nim's Island</td>\n",
       "      <td>Abigail Breslin|Jodie Foster|Gerard Butler|Mic...</td>\n",
       "      <td>Jennifer Flackett|Mark Levin</td>\n",
       "      <td>Your adventure starts here.</td>\n",
       "      <td>A young girl inhabits an isolated island with ...</td>\n",
       "      <td>96</td>\n",
       "      <td>Adventure|Comedy|Family|Fantasy</td>\n",
       "      <td>Walden Media</td>\n",
       "      <td>4/3/2008</td>\n",
       "      <td>5.5</td>\n",
       "      <td>2008</td>\n",
       "    </tr>\n",
       "    <tr>\n",
       "      <th>717</th>\n",
       "      <td>tt0465502</td>\n",
       "      <td>25000000</td>\n",
       "      <td>30000000</td>\n",
       "      <td>Igor</td>\n",
       "      <td>John Cusack|Myleene Klass|Robin Walsh|Matt McK...</td>\n",
       "      <td>Anthony Leondis</td>\n",
       "      <td>All men aren't created Evil.</td>\n",
       "      <td>Animated fable about a clichÃ© hunchbacked evi...</td>\n",
       "      <td>87</td>\n",
       "      <td>Animation|Comedy|Family|Fantasy</td>\n",
       "      <td>Exodus Film Group|Exodus Productions</td>\n",
       "      <td>9/19/2008</td>\n",
       "      <td>5.4</td>\n",
       "      <td>2008</td>\n",
       "    </tr>\n",
       "    <tr>\n",
       "      <th>718</th>\n",
       "      <td>tt0455538</td>\n",
       "      <td>27000000</td>\n",
       "      <td>17286299</td>\n",
       "      <td>How to Lose Friends &amp; Alienate People</td>\n",
       "      <td>Kelan Pannell|Janette Scott|Simon Pegg|Megan F...</td>\n",
       "      <td>Robert B. Weide</td>\n",
       "      <td>He's across the pond, and out of his depth.</td>\n",
       "      <td>A British writer struggles to fit in at a high...</td>\n",
       "      <td>110</td>\n",
       "      <td>Comedy|Romance|Drama</td>\n",
       "      <td>UK Film Council|Intandem Films|Aramid Entertai...</td>\n",
       "      <td>10/2/2008</td>\n",
       "      <td>6.0</td>\n",
       "      <td>2008</td>\n",
       "    </tr>\n",
       "    <tr>\n",
       "      <th>719</th>\n",
       "      <td>tt0494652</td>\n",
       "      <td>35000000</td>\n",
       "      <td>43650785</td>\n",
       "      <td>Welcome Home Roscoe Jenkins</td>\n",
       "      <td>Martin Lawrence|James Earl Jones|Margaret Aver...</td>\n",
       "      <td>Malcolm D. Lee</td>\n",
       "      <td>Roscoe Jenkins aims for the heartstrings and f...</td>\n",
       "      <td>Martin Lawrence leads an all-star cast, includ...</td>\n",
       "      <td>114</td>\n",
       "      <td>Comedy|Drama</td>\n",
       "      <td>Universal Pictures|Spyglass Entertainment</td>\n",
       "      <td>2/8/2008</td>\n",
       "      <td>6.1</td>\n",
       "      <td>2008</td>\n",
       "    </tr>\n",
       "  </tbody>\n",
       "</table>\n",
       "<p>121 rows × 14 columns</p>\n",
       "</div>"
      ],
      "text/plain": [
       "       imdb_id     budget     revenue  \\\n",
       "599  tt0468569  185000000  1001921825   \n",
       "600  tt0910970  180000000   521311860   \n",
       "601  tt0371746  140000000   585174222   \n",
       "602  tt0936501   25000000   226830568   \n",
       "603  tt0367882  185000000   786636033   \n",
       "..         ...        ...         ...   \n",
       "715  tt0858479    7000000    10569964   \n",
       "716  tt0410377   37000000   100076342   \n",
       "717  tt0465502   25000000    30000000   \n",
       "718  tt0455538   27000000    17286299   \n",
       "719  tt0494652   35000000    43650785   \n",
       "\n",
       "                                        original_title  \\\n",
       "599                                    The Dark Knight   \n",
       "600                                            WALLÂ·E   \n",
       "601                                           Iron Man   \n",
       "602                                              Taken   \n",
       "603  Indiana Jones and the Kingdom of the Crystal S...   \n",
       "..                                                 ...   \n",
       "715                                       Smart People   \n",
       "716                                       Nim's Island   \n",
       "717                                               Igor   \n",
       "718              How to Lose Friends & Alienate People   \n",
       "719                        Welcome Home Roscoe Jenkins   \n",
       "\n",
       "                                                  cast  \\\n",
       "599  Christian Bale|Michael Caine|Heath Ledger|Aaro...   \n",
       "600  Ben Burtt|Elissa Knight|Jeff Garlin|Fred Willa...   \n",
       "601  Robert Downey Jr.|Terrence Howard|Jeff Bridges...   \n",
       "602  Liam Neeson|Famke Janssen|Maggie Grace|Katie C...   \n",
       "603  Harrison Ford|Cate Blanchett|Shia LaBeouf|Ray ...   \n",
       "..                                                 ...   \n",
       "715  Dennis Quaid|Sarah Jessica Parker|Ellen Page|T...   \n",
       "716  Abigail Breslin|Jodie Foster|Gerard Butler|Mic...   \n",
       "717  John Cusack|Myleene Klass|Robin Walsh|Matt McK...   \n",
       "718  Kelan Pannell|Janette Scott|Simon Pegg|Megan F...   \n",
       "719  Martin Lawrence|James Earl Jones|Margaret Aver...   \n",
       "\n",
       "                         director  \\\n",
       "599             Christopher Nolan   \n",
       "600                Andrew Stanton   \n",
       "601                   Jon Favreau   \n",
       "602                  Pierre Morel   \n",
       "603              Steven Spielberg   \n",
       "..                            ...   \n",
       "715                    Noam Murro   \n",
       "716  Jennifer Flackett|Mark Levin   \n",
       "717               Anthony Leondis   \n",
       "718               Robert B. Weide   \n",
       "719                Malcolm D. Lee   \n",
       "\n",
       "                                               tagline  \\\n",
       "599                                    Why So Serious?   \n",
       "600                 An adventure beyond the ordinar-E.   \n",
       "601                 Heroes aren't born. They're built.   \n",
       "602   They took his daughter.  He'll take their lives.   \n",
       "603                      The adventure continues . . .   \n",
       "..                                                 ...   \n",
       "715  Sometimes the smartest people have the most to...   \n",
       "716                        Your adventure starts here.   \n",
       "717                       All men aren't created Evil.   \n",
       "718        He's across the pond, and out of his depth.   \n",
       "719  Roscoe Jenkins aims for the heartstrings and f...   \n",
       "\n",
       "                                              overview  runtime  \\\n",
       "599  Batman raises the stakes in his war on crime. ...      152   \n",
       "600  WALLÂ·E is the last robot left on an Earth tha...       98   \n",
       "601  After being held captive in an Afghan cave, bi...      126   \n",
       "602  While vacationing with a friend in Paris, an A...       93   \n",
       "603  Set during the Cold War, the Soviets â€“ led b...      122   \n",
       "..                                                 ...      ...   \n",
       "715  Professor Lawrence Wetherhold (Dennis Quaid) m...       95   \n",
       "716  A young girl inhabits an isolated island with ...       96   \n",
       "717  Animated fable about a clichÃ© hunchbacked evi...       87   \n",
       "718  A British writer struggles to fit in at a high...      110   \n",
       "719  Martin Lawrence leads an all-star cast, includ...      114   \n",
       "\n",
       "                               genres  \\\n",
       "599       Drama|Action|Crime|Thriller   \n",
       "600                  Animation|Family   \n",
       "601  Action|Science Fiction|Adventure   \n",
       "602             Action|Thriller|Crime   \n",
       "603                  Adventure|Action   \n",
       "..                                ...   \n",
       "715              Comedy|Drama|Romance   \n",
       "716   Adventure|Comedy|Family|Fantasy   \n",
       "717   Animation|Comedy|Family|Fantasy   \n",
       "718              Comedy|Romance|Drama   \n",
       "719                      Comedy|Drama   \n",
       "\n",
       "                                  production_companies release_date  \\\n",
       "599  DC Comics|Legendary Pictures|Warner Bros.|Syncopy    7/16/2008   \n",
       "600       Walt Disney Pictures|Pixar Animation Studios    6/22/2008   \n",
       "601                                     Marvel Studios    4/30/2008   \n",
       "602  Twentieth Century Fox Film Corporation|M6 Film...    2/18/2008   \n",
       "603                       Lucasfilm|Paramount Pictures    5/21/2008   \n",
       "..                                                 ...          ...   \n",
       "715  Miramax Films|Sherazade Film Development|Groun...    4/11/2008   \n",
       "716                                       Walden Media     4/3/2008   \n",
       "717               Exodus Film Group|Exodus Productions    9/19/2008   \n",
       "718  UK Film Council|Intandem Films|Aramid Entertai...    10/2/2008   \n",
       "719          Universal Pictures|Spyglass Entertainment     2/8/2008   \n",
       "\n",
       "     vote_average  release_year  \n",
       "599           8.1          2008  \n",
       "600           7.6          2008  \n",
       "601           7.3          2008  \n",
       "602           7.2          2008  \n",
       "603           5.6          2008  \n",
       "..            ...           ...  \n",
       "715           5.5          2008  \n",
       "716           5.5          2008  \n",
       "717           5.4          2008  \n",
       "718           6.0          2008  \n",
       "719           6.1          2008  \n",
       "\n",
       "[121 rows x 14 columns]"
      ]
     },
     "execution_count": 20,
     "metadata": {},
     "output_type": "execute_result"
    }
   ],
   "source": [
    "data9.loc"
   ]
  },
  {
   "cell_type": "markdown",
   "metadata": {
    "colab_type": "text",
    "id": "Zi4hDKidVp_F"
   },
   "source": [
    "# 10. Самый убыточный фильм за период с 2012 по 2014 г. (включительно)?\n"
   ]
  },
  {
   "cell_type": "code",
   "execution_count": 0,
   "metadata": {
    "colab": {},
    "colab_type": "code",
    "id": "XqyRmufJVp_F"
   },
   "outputs": [],
   "source": []
  },
  {
   "cell_type": "markdown",
   "metadata": {
    "colab_type": "text",
    "id": "EA7Sa9dkVp_I"
   },
   "source": [
    "# 11. Какого жанра фильмов больше всего?"
   ]
  },
  {
   "cell_type": "code",
   "execution_count": 0,
   "metadata": {
    "colab": {},
    "colab_type": "code",
    "id": "zsJAwJ8QVp_J"
   },
   "outputs": [],
   "source": [
    "# эту задачу тоже можно решать разными подходами, попробуй реализовать разные варианты\n",
    "# если будешь добавлять функцию - выноси ее в предобработку что в начале"
   ]
  },
  {
   "cell_type": "markdown",
   "metadata": {
    "colab_type": "text",
    "id": "Ax6g2C8SVp_M"
   },
   "source": [
    "ВАРИАНТ 2"
   ]
  },
  {
   "cell_type": "code",
   "execution_count": 0,
   "metadata": {
    "colab": {},
    "colab_type": "code",
    "id": "otO3SbrSVp_N"
   },
   "outputs": [],
   "source": []
  },
  {
   "cell_type": "markdown",
   "metadata": {
    "colab_type": "text",
    "id": "T9_bPWpkVp_Q"
   },
   "source": [
    "# 12. Фильмы какого жанра чаще всего становятся прибыльными? "
   ]
  },
  {
   "cell_type": "code",
   "execution_count": 0,
   "metadata": {
    "colab": {},
    "colab_type": "code",
    "id": "Tmt8MaK1Vp_R"
   },
   "outputs": [],
   "source": []
  },
  {
   "cell_type": "markdown",
   "metadata": {
    "colab_type": "text",
    "id": "0F23bgsDVp_U"
   },
   "source": [
    "# 13. У какого режиссера самые большие суммарные кассовые сбооры?"
   ]
  },
  {
   "cell_type": "code",
   "execution_count": 0,
   "metadata": {
    "colab": {},
    "colab_type": "code",
    "id": "K6Z3J8ygVp_X"
   },
   "outputs": [],
   "source": []
  },
  {
   "cell_type": "markdown",
   "metadata": {
    "colab_type": "text",
    "id": "PsYC9FgRVp_a"
   },
   "source": [
    "# 14. Какой режисер снял больше всего фильмов в стиле Action?"
   ]
  },
  {
   "cell_type": "code",
   "execution_count": 0,
   "metadata": {
    "colab": {},
    "colab_type": "code",
    "id": "wd2M-wHeVp_b"
   },
   "outputs": [],
   "source": []
  },
  {
   "cell_type": "markdown",
   "metadata": {
    "colab_type": "text",
    "id": "PQ0KciD7Vp_f"
   },
   "source": [
    "# 15. Фильмы с каким актером принесли самые высокие кассовые сборы в 2012 году? "
   ]
  },
  {
   "cell_type": "code",
   "execution_count": 0,
   "metadata": {
    "colab": {},
    "colab_type": "code",
    "id": "aga62oeKVp_g"
   },
   "outputs": [],
   "source": []
  },
  {
   "cell_type": "markdown",
   "metadata": {
    "colab_type": "text",
    "id": "mWHyyL7QVp_j"
   },
   "source": [
    "# 16. Какой актер снялся в большем количестве высокобюджетных фильмов?"
   ]
  },
  {
   "cell_type": "code",
   "execution_count": 0,
   "metadata": {
    "colab": {},
    "colab_type": "code",
    "id": "qQtmHKTFVp_k"
   },
   "outputs": [],
   "source": []
  },
  {
   "cell_type": "markdown",
   "metadata": {
    "colab_type": "text",
    "id": "NIh6AaW5Vp_n"
   },
   "source": [
    "# 17. В фильмах какого жанра больше всего снимался Nicolas Cage? "
   ]
  },
  {
   "cell_type": "code",
   "execution_count": 0,
   "metadata": {
    "colab": {},
    "colab_type": "code",
    "id": "H74SJDIBVp_n"
   },
   "outputs": [],
   "source": []
  },
  {
   "cell_type": "markdown",
   "metadata": {
    "colab_type": "text",
    "id": "RqOmPRfWVp_q"
   },
   "source": [
    "# 18. Самый убыточный фильм от Paramount Pictures"
   ]
  },
  {
   "cell_type": "code",
   "execution_count": 0,
   "metadata": {
    "colab": {},
    "colab_type": "code",
    "id": "9E_B0Y96Vp_r"
   },
   "outputs": [],
   "source": []
  },
  {
   "cell_type": "markdown",
   "metadata": {
    "colab_type": "text",
    "id": "vS8Ur6ddVp_u"
   },
   "source": [
    "# 19. Какой год стал самым успешным по суммарным кассовым сборам?"
   ]
  },
  {
   "cell_type": "code",
   "execution_count": 0,
   "metadata": {
    "colab": {},
    "colab_type": "code",
    "id": "Dnbt4GdIVp_v"
   },
   "outputs": [],
   "source": []
  },
  {
   "cell_type": "markdown",
   "metadata": {
    "colab_type": "text",
    "id": "JAzJh4QAVp_z"
   },
   "source": [
    "# 20. Какой самый прибыльный год для студии Warner Bros?"
   ]
  },
  {
   "cell_type": "code",
   "execution_count": 0,
   "metadata": {
    "colab": {},
    "colab_type": "code",
    "id": "wgVu02DEVp_0"
   },
   "outputs": [],
   "source": []
  },
  {
   "cell_type": "markdown",
   "metadata": {
    "colab_type": "text",
    "id": "8Im1S2HRVp_4"
   },
   "source": [
    "# 21. В каком месяце за все годы суммарно вышло больше всего фильмов?"
   ]
  },
  {
   "cell_type": "code",
   "execution_count": 0,
   "metadata": {
    "colab": {},
    "colab_type": "code",
    "id": "lev6TH7gVp_4"
   },
   "outputs": [],
   "source": []
  },
  {
   "cell_type": "markdown",
   "metadata": {
    "colab_type": "text",
    "id": "uAJsZ_NeVp_7"
   },
   "source": [
    "# 22. Сколько суммарно вышло фильмов летом? (за июнь, июль, август)"
   ]
  },
  {
   "cell_type": "code",
   "execution_count": 0,
   "metadata": {
    "colab": {},
    "colab_type": "code",
    "id": "Aa-hEREoVp_8"
   },
   "outputs": [],
   "source": []
  },
  {
   "cell_type": "markdown",
   "metadata": {
    "colab_type": "text",
    "id": "G94ppOY1VqAA"
   },
   "source": [
    "# 23. Для какого режиссера зима – самое продуктивное время года? "
   ]
  },
  {
   "cell_type": "code",
   "execution_count": 0,
   "metadata": {
    "colab": {},
    "colab_type": "code",
    "id": "RhNTsamuVqAB"
   },
   "outputs": [],
   "source": []
  },
  {
   "cell_type": "markdown",
   "metadata": {
    "colab_type": "text",
    "id": "RBo0JVjVVqAF"
   },
   "source": [
    "# 24. Какая студия дает самые длинные названия своим фильмам по количеству символов?"
   ]
  },
  {
   "cell_type": "code",
   "execution_count": 0,
   "metadata": {
    "colab": {},
    "colab_type": "code",
    "id": "QRGS8L0iVqAG"
   },
   "outputs": [],
   "source": []
  },
  {
   "cell_type": "markdown",
   "metadata": {
    "colab_type": "text",
    "id": "9G0hbvR7VqAK"
   },
   "source": [
    "# 25. Описание фильмов какой студии в среднем самые длинные по количеству слов?"
   ]
  },
  {
   "cell_type": "code",
   "execution_count": 0,
   "metadata": {
    "colab": {},
    "colab_type": "code",
    "id": "Ge2GsLNxVqAK"
   },
   "outputs": [],
   "source": []
  },
  {
   "cell_type": "markdown",
   "metadata": {
    "colab_type": "text",
    "id": "FJ1AFt90VqAP"
   },
   "source": [
    "# 26. Какие фильмы входят в 1 процент лучших по рейтингу? \n",
    "по vote_average"
   ]
  },
  {
   "cell_type": "code",
   "execution_count": 0,
   "metadata": {
    "colab": {},
    "colab_type": "code",
    "id": "8qmJVq4CVqAQ"
   },
   "outputs": [],
   "source": []
  },
  {
   "cell_type": "markdown",
   "metadata": {
    "colab_type": "text",
    "id": "MdXsUXbCVqAV"
   },
   "source": [
    "# 27. Какие актеры чаще всего снимаются в одном фильме вместе?\n"
   ]
  },
  {
   "cell_type": "markdown",
   "metadata": {
    "colab_type": "text",
    "id": "4ymnxEVoVqAW"
   },
   "source": [
    "ВАРИАНТ 2"
   ]
  },
  {
   "cell_type": "markdown",
   "metadata": {
    "colab_type": "text",
    "id": "U0nONFnGVqAX"
   },
   "source": [
    "# Submission"
   ]
  },
  {
   "cell_type": "code",
   "execution_count": 0,
   "metadata": {
    "colab": {},
    "colab_type": "code",
    "id": "IfcaRO9-VqAX",
    "outputId": "0f132912-32bb-4196-c98c-abfbc4ad5a5f"
   },
   "outputs": [
    {
     "data": {
      "text/plain": [
       "{'1': '...', '2': '...'}"
      ]
     },
     "execution_count": 8,
     "metadata": {
      "tags": []
     },
     "output_type": "execute_result"
    }
   ],
   "source": [
    "# в конце можно посмотреть свои ответы к каждому вопросу\n",
    "answers"
   ]
  },
  {
   "cell_type": "code",
   "execution_count": 0,
   "metadata": {
    "colab": {},
    "colab_type": "code",
    "id": "SiRmHPl8VqAd"
   },
   "outputs": [],
   "source": [
    "# и убедиться что ни чего не пропустил)\n",
    "len(answers)"
   ]
  },
  {
   "cell_type": "code",
   "execution_count": 0,
   "metadata": {
    "colab": {},
    "colab_type": "code",
    "id": "uCfuTkRbVqAg"
   },
   "outputs": [],
   "source": []
  },
  {
   "cell_type": "code",
   "execution_count": 0,
   "metadata": {
    "colab": {},
    "colab_type": "code",
    "id": "Vwx3NrkSVqAl"
   },
   "outputs": [],
   "source": []
  }
 ],
 "metadata": {
  "colab": {
   "name": "Copy of [SF-DST] Movies IMBD v4.1 TEMPLATE.ipynb",
   "provenance": []
  },
  "kernelspec": {
   "display_name": "Python 3",
   "language": "python",
   "name": "python3"
  },
  "language_info": {
   "codemirror_mode": {
    "name": "ipython",
    "version": 3
   },
   "file_extension": ".py",
   "mimetype": "text/x-python",
   "name": "python",
   "nbconvert_exporter": "python",
   "pygments_lexer": "ipython3",
   "version": "3.8.3"
  }
 },
 "nbformat": 4,
 "nbformat_minor": 1
}
