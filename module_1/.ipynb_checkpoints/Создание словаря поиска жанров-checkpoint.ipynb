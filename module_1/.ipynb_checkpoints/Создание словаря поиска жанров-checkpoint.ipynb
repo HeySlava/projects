{
 "cells": [
  {
   "cell_type": "code",
   "execution_count": 48,
   "metadata": {},
   "outputs": [
    {
     "data": {
      "text/plain": [
       "[('Foreign', 2),\n",
       " ('Documentary', 8),\n",
       " ('Western', 19),\n",
       " ('War', 58),\n",
       " ('History', 62),\n",
       " ('Music', 64),\n",
       " ('Animation', 139),\n",
       " ('Mystery', 168),\n",
       " ('Horror', 176),\n",
       " ('Fantasy', 222),\n",
       " ('Science Fiction', 248),\n",
       " ('Family', 260),\n",
       " ('Romance', 308),\n",
       " ('Crime', 315),\n",
       " ('Adventure', 415),\n",
       " ('Action', 582),\n",
       " ('Thriller', 596),\n",
       " ('Comedy', 683),\n",
       " ('Drama', 782)]"
      ]
     },
     "execution_count": 48,
     "metadata": {},
     "output_type": "execute_result"
    }
   ],
   "source": [
    "import numpy as np\n",
    "import pandas as pd\n",
    "import seaborn as sns\n",
    "import matplotlib.pyplot as plt\n",
    "from collections import Counter\n",
    "data = pd.read_csv('movie_bd_v5.csv')\n",
    "\n",
    "def dict_count(serious):\n",
    "    new_list = []\n",
    "    count = {}\n",
    "    for row in serious:\n",
    "        new_list = list(row.split('|'))\n",
    "        for genre in new_list:\n",
    "            if genre in count:\n",
    "                count[genre] += 1\n",
    "            else:\n",
    "                count[genre] = 1\n",
    "    count1 = sorted(count.items(), key=lambda pair: pair[1] )\n",
    "    return count1\n",
    "\n",
    "dict_count(data.loc[:, 'genres'])\n"
   ]
  }
 ],
 "metadata": {
  "kernelspec": {
   "display_name": "Python 3",
   "language": "python",
   "name": "python3"
  },
  "language_info": {
   "codemirror_mode": {
    "name": "ipython",
    "version": 3
   },
   "file_extension": ".py",
   "mimetype": "text/x-python",
   "name": "python",
   "nbconvert_exporter": "python",
   "pygments_lexer": "ipython3",
   "version": "3.8.3"
  }
 },
 "nbformat": 4,
 "nbformat_minor": 4
}
