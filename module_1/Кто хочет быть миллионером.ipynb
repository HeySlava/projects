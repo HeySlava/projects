{
 "cells": [
  {
   "cell_type": "code",
   "execution_count": 2,
   "metadata": {
    "_cell_guid": "b1076dfc-b9ad-4769-8c92-a6c4dae69d19",
    "_uuid": "8f2839f25d086af736a60e9eeb907d3b93b6e0e5",
    "colab": {},
    "colab_type": "code",
    "id": "U2D2gTdJVp90"
   },
   "outputs": [],
   "source": [
    "import numpy as np\n",
    "import pandas as pd\n",
    "import seaborn as sns\n",
    "import matplotlib.pyplot as plt\n",
    "import datetime as dt\n",
    "import itertools as it\n",
    "from collections import Counter\n"
   ]
  },
  {
   "cell_type": "code",
   "execution_count": 3,
   "metadata": {
    "_cell_guid": "79c7e3d0-c299-4dcb-8224-4455121ee9b0",
    "_uuid": "d629ff2d2480ee46fbb7e2d37f6b5fab8052498a",
    "colab": {},
    "colab_type": "code",
    "id": "oyGfxL3eVp9-"
   },
   "outputs": [
    {
     "data": {
      "text/html": [
       "<div>\n",
       "<style scoped>\n",
       "    .dataframe tbody tr th:only-of-type {\n",
       "        vertical-align: middle;\n",
       "    }\n",
       "\n",
       "    .dataframe tbody tr th {\n",
       "        vertical-align: top;\n",
       "    }\n",
       "\n",
       "    .dataframe thead th {\n",
       "        text-align: right;\n",
       "    }\n",
       "</style>\n",
       "<table border=\"1\" class=\"dataframe\">\n",
       "  <thead>\n",
       "    <tr style=\"text-align: right;\">\n",
       "      <th></th>\n",
       "      <th>imdb_id</th>\n",
       "      <th>budget</th>\n",
       "      <th>revenue</th>\n",
       "      <th>original_title</th>\n",
       "      <th>cast</th>\n",
       "      <th>director</th>\n",
       "      <th>tagline</th>\n",
       "      <th>overview</th>\n",
       "      <th>runtime</th>\n",
       "      <th>genres</th>\n",
       "      <th>production_companies</th>\n",
       "      <th>release_date</th>\n",
       "      <th>vote_average</th>\n",
       "      <th>release_year</th>\n",
       "    </tr>\n",
       "  </thead>\n",
       "  <tbody>\n",
       "    <tr>\n",
       "      <th>890</th>\n",
       "      <td>tt0298130</td>\n",
       "      <td>48000000</td>\n",
       "      <td>249348933</td>\n",
       "      <td>The Ring</td>\n",
       "      <td>Naomi Watts|Martin Henderson|David Dorfman|Bri...</td>\n",
       "      <td>Gore Verbinski</td>\n",
       "      <td>Before you die, you see.</td>\n",
       "      <td>It sounded like just another urban legend: A v...</td>\n",
       "      <td>115</td>\n",
       "      <td>Horror|Mystery|Thriller</td>\n",
       "      <td>DreamWorks SKG|BenderSpink|Parkes+MacDonald Im...</td>\n",
       "      <td>10/18/2002</td>\n",
       "      <td>6.4</td>\n",
       "      <td>2002</td>\n",
       "    </tr>\n",
       "    <tr>\n",
       "      <th>725</th>\n",
       "      <td>tt0800369</td>\n",
       "      <td>150000000</td>\n",
       "      <td>444115007</td>\n",
       "      <td>Thor</td>\n",
       "      <td>Chris Hemsworth|Natalie Portman|Tom Hiddleston...</td>\n",
       "      <td>Kenneth Branagh</td>\n",
       "      <td>Two worlds. One hero.</td>\n",
       "      <td>Against his father Odin's will, The Mighty Tho...</td>\n",
       "      <td>115</td>\n",
       "      <td>Adventure|Fantasy|Action</td>\n",
       "      <td>Marvel Studios|Marvel Entertainment</td>\n",
       "      <td>4/21/2011</td>\n",
       "      <td>6.5</td>\n",
       "      <td>2011</td>\n",
       "    </tr>\n",
       "    <tr>\n",
       "      <th>100</th>\n",
       "      <td>tt2967224</td>\n",
       "      <td>35000000</td>\n",
       "      <td>51680201</td>\n",
       "      <td>Hot Pursuit</td>\n",
       "      <td>Reese Witherspoon|SofÃ­a Vergara|Michael Mosle...</td>\n",
       "      <td>Anne Fletcher</td>\n",
       "      <td>Armed and Sort-of Dangerous.</td>\n",
       "      <td>An uptight by-the-book cop must protect the wi...</td>\n",
       "      <td>87</td>\n",
       "      <td>Action|Crime|Comedy</td>\n",
       "      <td>New Line Cinema|Warner Bros.|Metro-Goldwyn-May...</td>\n",
       "      <td>5/8/2015</td>\n",
       "      <td>5.5</td>\n",
       "      <td>2015</td>\n",
       "    </tr>\n",
       "    <tr>\n",
       "      <th>182</th>\n",
       "      <td>tt2397535</td>\n",
       "      <td>5500000</td>\n",
       "      <td>3000000</td>\n",
       "      <td>Predestination</td>\n",
       "      <td>Ethan Hawke|Sarah Snook|Noah Taylor|Christophe...</td>\n",
       "      <td>Michael Spierig|Peter Spierig</td>\n",
       "      <td>To save the future he must reshape the past.</td>\n",
       "      <td>Predestination chronicles the life of a Tempor...</td>\n",
       "      <td>97</td>\n",
       "      <td>Science Fiction|Thriller</td>\n",
       "      <td>Screen Australia|Screen Queensland|Blacklab En...</td>\n",
       "      <td>8/28/2014</td>\n",
       "      <td>7.2</td>\n",
       "      <td>2014</td>\n",
       "    </tr>\n",
       "    <tr>\n",
       "      <th>355</th>\n",
       "      <td>tt0891592</td>\n",
       "      <td>50000000</td>\n",
       "      <td>12764201</td>\n",
       "      <td>Street Fighter: The Legend of Chun-Li</td>\n",
       "      <td>Kristin Kreuk|Chris Klein|Neal McDonough|Micha...</td>\n",
       "      <td>Andrzej Bartkowiak</td>\n",
       "      <td>Some fight for power. Some fight for us.</td>\n",
       "      <td>When a teenager, Chun-Li witnesses the kidnapp...</td>\n",
       "      <td>97</td>\n",
       "      <td>Action|Adventure|Science Fiction|Thriller</td>\n",
       "      <td>Twentieth Century Fox Film Corporation|Hyde Pa...</td>\n",
       "      <td>2/27/2009</td>\n",
       "      <td>4.1</td>\n",
       "      <td>2009</td>\n",
       "    </tr>\n",
       "  </tbody>\n",
       "</table>\n",
       "</div>"
      ],
      "text/plain": [
       "       imdb_id     budget    revenue                         original_title  \\\n",
       "890  tt0298130   48000000  249348933                               The Ring   \n",
       "725  tt0800369  150000000  444115007                                   Thor   \n",
       "100  tt2967224   35000000   51680201                            Hot Pursuit   \n",
       "182  tt2397535    5500000    3000000                         Predestination   \n",
       "355  tt0891592   50000000   12764201  Street Fighter: The Legend of Chun-Li   \n",
       "\n",
       "                                                  cast  \\\n",
       "890  Naomi Watts|Martin Henderson|David Dorfman|Bri...   \n",
       "725  Chris Hemsworth|Natalie Portman|Tom Hiddleston...   \n",
       "100  Reese Witherspoon|SofÃ­a Vergara|Michael Mosle...   \n",
       "182  Ethan Hawke|Sarah Snook|Noah Taylor|Christophe...   \n",
       "355  Kristin Kreuk|Chris Klein|Neal McDonough|Micha...   \n",
       "\n",
       "                          director  \\\n",
       "890                 Gore Verbinski   \n",
       "725                Kenneth Branagh   \n",
       "100                  Anne Fletcher   \n",
       "182  Michael Spierig|Peter Spierig   \n",
       "355             Andrzej Bartkowiak   \n",
       "\n",
       "                                          tagline  \\\n",
       "890                      Before you die, you see.   \n",
       "725                         Two worlds. One hero.   \n",
       "100                  Armed and Sort-of Dangerous.   \n",
       "182  To save the future he must reshape the past.   \n",
       "355      Some fight for power. Some fight for us.   \n",
       "\n",
       "                                              overview  runtime  \\\n",
       "890  It sounded like just another urban legend: A v...      115   \n",
       "725  Against his father Odin's will, The Mighty Tho...      115   \n",
       "100  An uptight by-the-book cop must protect the wi...       87   \n",
       "182  Predestination chronicles the life of a Tempor...       97   \n",
       "355  When a teenager, Chun-Li witnesses the kidnapp...       97   \n",
       "\n",
       "                                        genres  \\\n",
       "890                    Horror|Mystery|Thriller   \n",
       "725                   Adventure|Fantasy|Action   \n",
       "100                        Action|Crime|Comedy   \n",
       "182                   Science Fiction|Thriller   \n",
       "355  Action|Adventure|Science Fiction|Thriller   \n",
       "\n",
       "                                  production_companies release_date  \\\n",
       "890  DreamWorks SKG|BenderSpink|Parkes+MacDonald Im...   10/18/2002   \n",
       "725                Marvel Studios|Marvel Entertainment    4/21/2011   \n",
       "100  New Line Cinema|Warner Bros.|Metro-Goldwyn-May...     5/8/2015   \n",
       "182  Screen Australia|Screen Queensland|Blacklab En...    8/28/2014   \n",
       "355  Twentieth Century Fox Film Corporation|Hyde Pa...    2/27/2009   \n",
       "\n",
       "     vote_average  release_year  \n",
       "890           6.4          2002  \n",
       "725           6.5          2011  \n",
       "100           5.5          2015  \n",
       "182           7.2          2014  \n",
       "355           4.1          2009  "
      ]
     },
     "execution_count": 3,
     "metadata": {},
     "output_type": "execute_result"
    }
   ],
   "source": [
    "data = pd.read_csv('movie_bd_v5.csv')\n",
    "data.sample(5)"
   ]
  },
  {
   "cell_type": "code",
   "execution_count": 4,
   "metadata": {
    "colab": {},
    "colab_type": "code",
    "id": "CoYUnagMVp-C"
   },
   "outputs": [
    {
     "data": {
      "text/html": [
       "<div>\n",
       "<style scoped>\n",
       "    .dataframe tbody tr th:only-of-type {\n",
       "        vertical-align: middle;\n",
       "    }\n",
       "\n",
       "    .dataframe tbody tr th {\n",
       "        vertical-align: top;\n",
       "    }\n",
       "\n",
       "    .dataframe thead th {\n",
       "        text-align: right;\n",
       "    }\n",
       "</style>\n",
       "<table border=\"1\" class=\"dataframe\">\n",
       "  <thead>\n",
       "    <tr style=\"text-align: right;\">\n",
       "      <th></th>\n",
       "      <th>budget</th>\n",
       "      <th>revenue</th>\n",
       "      <th>runtime</th>\n",
       "      <th>vote_average</th>\n",
       "      <th>release_year</th>\n",
       "    </tr>\n",
       "  </thead>\n",
       "  <tbody>\n",
       "    <tr>\n",
       "      <th>count</th>\n",
       "      <td>1.889000e+03</td>\n",
       "      <td>1.889000e+03</td>\n",
       "      <td>1889.000000</td>\n",
       "      <td>1889.000000</td>\n",
       "      <td>1889.000000</td>\n",
       "    </tr>\n",
       "    <tr>\n",
       "      <th>mean</th>\n",
       "      <td>5.431083e+07</td>\n",
       "      <td>1.553653e+08</td>\n",
       "      <td>109.658549</td>\n",
       "      <td>6.140762</td>\n",
       "      <td>2007.860773</td>\n",
       "    </tr>\n",
       "    <tr>\n",
       "      <th>std</th>\n",
       "      <td>4.858721e+07</td>\n",
       "      <td>2.146698e+08</td>\n",
       "      <td>18.017041</td>\n",
       "      <td>0.764763</td>\n",
       "      <td>4.468841</td>\n",
       "    </tr>\n",
       "    <tr>\n",
       "      <th>min</th>\n",
       "      <td>5.000000e+06</td>\n",
       "      <td>2.033165e+06</td>\n",
       "      <td>63.000000</td>\n",
       "      <td>3.300000</td>\n",
       "      <td>2000.000000</td>\n",
       "    </tr>\n",
       "    <tr>\n",
       "      <th>25%</th>\n",
       "      <td>2.000000e+07</td>\n",
       "      <td>3.456058e+07</td>\n",
       "      <td>97.000000</td>\n",
       "      <td>5.600000</td>\n",
       "      <td>2004.000000</td>\n",
       "    </tr>\n",
       "    <tr>\n",
       "      <th>50%</th>\n",
       "      <td>3.800000e+07</td>\n",
       "      <td>8.361541e+07</td>\n",
       "      <td>107.000000</td>\n",
       "      <td>6.100000</td>\n",
       "      <td>2008.000000</td>\n",
       "    </tr>\n",
       "    <tr>\n",
       "      <th>75%</th>\n",
       "      <td>7.200000e+07</td>\n",
       "      <td>1.782626e+08</td>\n",
       "      <td>120.000000</td>\n",
       "      <td>6.600000</td>\n",
       "      <td>2012.000000</td>\n",
       "    </tr>\n",
       "    <tr>\n",
       "      <th>max</th>\n",
       "      <td>3.800000e+08</td>\n",
       "      <td>2.781506e+09</td>\n",
       "      <td>214.000000</td>\n",
       "      <td>8.100000</td>\n",
       "      <td>2015.000000</td>\n",
       "    </tr>\n",
       "  </tbody>\n",
       "</table>\n",
       "</div>"
      ],
      "text/plain": [
       "             budget       revenue      runtime  vote_average  release_year\n",
       "count  1.889000e+03  1.889000e+03  1889.000000   1889.000000   1889.000000\n",
       "mean   5.431083e+07  1.553653e+08   109.658549      6.140762   2007.860773\n",
       "std    4.858721e+07  2.146698e+08    18.017041      0.764763      4.468841\n",
       "min    5.000000e+06  2.033165e+06    63.000000      3.300000   2000.000000\n",
       "25%    2.000000e+07  3.456058e+07    97.000000      5.600000   2004.000000\n",
       "50%    3.800000e+07  8.361541e+07   107.000000      6.100000   2008.000000\n",
       "75%    7.200000e+07  1.782626e+08   120.000000      6.600000   2012.000000\n",
       "max    3.800000e+08  2.781506e+09   214.000000      8.100000   2015.000000"
      ]
     },
     "execution_count": 4,
     "metadata": {},
     "output_type": "execute_result"
    }
   ],
   "source": [
    "data.describe()"
   ]
  },
  {
   "cell_type": "markdown",
   "metadata": {
    "colab_type": "text",
    "id": "DTIt7ezGVp-G"
   },
   "source": [
    "# Предобработка"
   ]
  },
  {
   "cell_type": "code",
   "execution_count": 5,
   "metadata": {
    "colab": {},
    "colab_type": "code",
    "id": "jNb40DwKVp-H"
   },
   "outputs": [],
   "source": [
    "answers = {} # создадим словарь для ответов\n",
    "\n",
    "def dict_count(serious):\n",
    "    # подсчитывает все элементы в серии. Возвращает словарь\n",
    "    new_list = []\n",
    "    count = {}\n",
    "    for row in serious:\n",
    "        new_list = list(row.split('|'))\n",
    "        for genre in new_list:\n",
    "            if genre in count:\n",
    "                count[genre] += 1 \n",
    "            else:\n",
    "                count[genre] = 1 \n",
    "    count = sorted(count.items(), key=lambda pair: pair[1] ) # сортировка словаря по значениям\n",
    "    return count"
   ]
  },
  {
   "cell_type": "markdown",
   "metadata": {
    "colab_type": "text",
    "id": "YxZaH-nPVp-L"
   },
   "source": [
    "# 1. У какого фильма из списка самый большой бюджет?"
   ]
  },
  {
   "cell_type": "markdown",
   "metadata": {
    "colab_type": "text",
    "id": "Nd-G5gX6Vp-M"
   },
   "source": [
    "Использовать варианты ответов в коде решения запрещено.    \n",
    "Вы думаете и в жизни у вас будут варианты ответов?)"
   ]
  },
  {
   "cell_type": "code",
   "execution_count": 6,
   "metadata": {
    "colab": {},
    "colab_type": "code",
    "id": "dZwb3m28Vp-S"
   },
   "outputs": [
    {
     "data": {
      "text/html": [
       "<div>\n",
       "<style scoped>\n",
       "    .dataframe tbody tr th:only-of-type {\n",
       "        vertical-align: middle;\n",
       "    }\n",
       "\n",
       "    .dataframe tbody tr th {\n",
       "        vertical-align: top;\n",
       "    }\n",
       "\n",
       "    .dataframe thead th {\n",
       "        text-align: right;\n",
       "    }\n",
       "</style>\n",
       "<table border=\"1\" class=\"dataframe\">\n",
       "  <thead>\n",
       "    <tr style=\"text-align: right;\">\n",
       "      <th></th>\n",
       "      <th>imdb_id</th>\n",
       "      <th>original_title</th>\n",
       "    </tr>\n",
       "  </thead>\n",
       "  <tbody>\n",
       "    <tr>\n",
       "      <th>723</th>\n",
       "      <td>tt1298650</td>\n",
       "      <td>Pirates of the Caribbean: On Stranger Tides</td>\n",
       "    </tr>\n",
       "  </tbody>\n",
       "</table>\n",
       "</div>"
      ],
      "text/plain": [
       "       imdb_id                               original_title\n",
       "723  tt1298650  Pirates of the Caribbean: On Stranger Tides"
      ]
     },
     "execution_count": 6,
     "metadata": {},
     "output_type": "execute_result"
    }
   ],
   "source": [
    "data.loc[data.loc[:,'budget'] == data.loc[:,'budget'].max(), ['imdb_id', 'original_title'] ]"
   ]
  },
  {
   "cell_type": "code",
   "execution_count": 7,
   "metadata": {
    "colab": {},
    "colab_type": "code",
    "id": "OGaoQI7rVp-X"
   },
   "outputs": [],
   "source": [
    "answers['1'] = 'tt1298650\tPirates of the Caribbean: On Stranger Tides'"
   ]
  },
  {
   "cell_type": "markdown",
   "metadata": {
    "colab_type": "text",
    "id": "FNRbbI3vVp-c"
   },
   "source": [
    "# 2. Какой из фильмов самый длительный (в минутах)?"
   ]
  },
  {
   "cell_type": "code",
   "execution_count": 8,
   "metadata": {
    "colab": {},
    "colab_type": "code",
    "id": "vHAoEXNTVp-d"
   },
   "outputs": [],
   "source": [
    "# думаю логику работы с этим словарем вы уже поняли, \n",
    "# по этому не буду больше его дублировать\n",
    "answers['2'] = '1157\ttt0279111\tGods and Generals'"
   ]
  },
  {
   "cell_type": "code",
   "execution_count": 9,
   "metadata": {
    "colab": {},
    "colab_type": "code",
    "id": "ot-VX2XrVp-g"
   },
   "outputs": [
    {
     "data": {
      "text/html": [
       "<div>\n",
       "<style scoped>\n",
       "    .dataframe tbody tr th:only-of-type {\n",
       "        vertical-align: middle;\n",
       "    }\n",
       "\n",
       "    .dataframe tbody tr th {\n",
       "        vertical-align: top;\n",
       "    }\n",
       "\n",
       "    .dataframe thead th {\n",
       "        text-align: right;\n",
       "    }\n",
       "</style>\n",
       "<table border=\"1\" class=\"dataframe\">\n",
       "  <thead>\n",
       "    <tr style=\"text-align: right;\">\n",
       "      <th></th>\n",
       "      <th>imdb_id</th>\n",
       "      <th>original_title</th>\n",
       "    </tr>\n",
       "  </thead>\n",
       "  <tbody>\n",
       "    <tr>\n",
       "      <th>1157</th>\n",
       "      <td>tt0279111</td>\n",
       "      <td>Gods and Generals</td>\n",
       "    </tr>\n",
       "  </tbody>\n",
       "</table>\n",
       "</div>"
      ],
      "text/plain": [
       "        imdb_id     original_title\n",
       "1157  tt0279111  Gods and Generals"
      ]
     },
     "execution_count": 9,
     "metadata": {},
     "output_type": "execute_result"
    }
   ],
   "source": [
    "data.loc[data.loc[:,'runtime'] == data.loc[:,'runtime'].max(), ['imdb_id', 'original_title'] ]"
   ]
  },
  {
   "cell_type": "markdown",
   "metadata": {
    "colab_type": "text",
    "id": "bapLlpW8Vp-k"
   },
   "source": [
    "# 3. Какой из фильмов самый короткий (в минутах)?\n",
    "\n",
    "\n",
    "\n"
   ]
  },
  {
   "cell_type": "code",
   "execution_count": 10,
   "metadata": {},
   "outputs": [
    {
     "data": {
      "text/html": [
       "<div>\n",
       "<style scoped>\n",
       "    .dataframe tbody tr th:only-of-type {\n",
       "        vertical-align: middle;\n",
       "    }\n",
       "\n",
       "    .dataframe tbody tr th {\n",
       "        vertical-align: top;\n",
       "    }\n",
       "\n",
       "    .dataframe thead th {\n",
       "        text-align: right;\n",
       "    }\n",
       "</style>\n",
       "<table border=\"1\" class=\"dataframe\">\n",
       "  <thead>\n",
       "    <tr style=\"text-align: right;\">\n",
       "      <th></th>\n",
       "      <th>imdb_id</th>\n",
       "      <th>original_title</th>\n",
       "    </tr>\n",
       "  </thead>\n",
       "  <tbody>\n",
       "    <tr>\n",
       "      <th>768</th>\n",
       "      <td>tt1449283</td>\n",
       "      <td>Winnie the Pooh</td>\n",
       "    </tr>\n",
       "  </tbody>\n",
       "</table>\n",
       "</div>"
      ],
      "text/plain": [
       "       imdb_id   original_title\n",
       "768  tt1449283  Winnie the Pooh"
      ]
     },
     "execution_count": 10,
     "metadata": {},
     "output_type": "execute_result"
    }
   ],
   "source": [
    "data.loc[data.loc[:,'runtime'] == data.loc[:,'runtime'].min(), ['imdb_id', 'original_title'] ]"
   ]
  },
  {
   "cell_type": "code",
   "execution_count": 11,
   "metadata": {},
   "outputs": [],
   "source": [
    "answers['3'] = '768\ttt1449283\tWinnie the Pooh'"
   ]
  },
  {
   "cell_type": "markdown",
   "metadata": {
    "colab_type": "text",
    "id": "TfQbxbfNVp-p"
   },
   "source": [
    "# 4. Какова средняя длительность фильмов?\n"
   ]
  },
  {
   "cell_type": "code",
   "execution_count": 12,
   "metadata": {
    "colab": {},
    "colab_type": "code",
    "id": "5K6dKZYVVp-q"
   },
   "outputs": [
    {
     "data": {
      "text/plain": [
       "109.6585494970884"
      ]
     },
     "execution_count": 12,
     "metadata": {},
     "output_type": "execute_result"
    }
   ],
   "source": [
    "data.loc[:,'runtime'].mean()"
   ]
  },
  {
   "cell_type": "code",
   "execution_count": 13,
   "metadata": {},
   "outputs": [],
   "source": [
    "answers['4'] = '109.6585494970884'"
   ]
  },
  {
   "cell_type": "markdown",
   "metadata": {
    "colab_type": "text",
    "id": "r5TvbnT_Vp-u"
   },
   "source": [
    "# 5. Каково медианное значение длительности фильмов? "
   ]
  },
  {
   "cell_type": "code",
   "execution_count": 14,
   "metadata": {
    "colab": {},
    "colab_type": "code",
    "id": "iBROplKnVp-v"
   },
   "outputs": [
    {
     "data": {
      "text/plain": [
       "107.0"
      ]
     },
     "execution_count": 14,
     "metadata": {},
     "output_type": "execute_result"
    }
   ],
   "source": [
    "data.loc[:,'runtime'].median()"
   ]
  },
  {
   "cell_type": "code",
   "execution_count": 15,
   "metadata": {},
   "outputs": [],
   "source": [
    "answers['5'] = '107.0'"
   ]
  },
  {
   "cell_type": "markdown",
   "metadata": {
    "colab_type": "text",
    "id": "39P-deDSVp-y"
   },
   "source": [
    "# 6. Какой самый прибыльный фильм?\n",
    "#### Внимание! Здесь и далее под «прибылью» или «убытками» понимается разность между сборами и бюджетом фильма. (прибыль = сборы - бюджет) в нашем датасете это будет (profit = revenue - budget) "
   ]
  },
  {
   "cell_type": "code",
   "execution_count": 16,
   "metadata": {
    "colab": {},
    "colab_type": "code",
    "id": "UYZh4T9WVp-y"
   },
   "outputs": [
    {
     "data": {
      "text/plain": [
       "imdb_id           tt0499549\n",
       "original_title       Avatar\n",
       "Name: 239, dtype: object"
      ]
     },
     "execution_count": 16,
     "metadata": {},
     "output_type": "execute_result"
    }
   ],
   "source": [
    "Big_Profit_Ind = (data.loc[:, 'revenue'] - data.loc[:,'budget']).sort_values().index[-1]\n",
    "data.iloc[Big_Profit_Ind,[0, 3]]"
   ]
  },
  {
   "cell_type": "code",
   "execution_count": 17,
   "metadata": {},
   "outputs": [],
   "source": [
    "answers['6'] = 'tt0499549 Avatar'"
   ]
  },
  {
   "cell_type": "markdown",
   "metadata": {
    "colab_type": "text",
    "id": "M99JmIX4Vp-2"
   },
   "source": [
    "# 7. Какой фильм самый убыточный? "
   ]
  },
  {
   "cell_type": "code",
   "execution_count": 18,
   "metadata": {
    "colab": {},
    "colab_type": "code",
    "id": "w-D2m4XPVp-3"
   },
   "outputs": [
    {
     "data": {
      "text/plain": [
       "imdb_id                 tt1210819\n",
       "original_title    The Lone Ranger\n",
       "Name: 1245, dtype: object"
      ]
     },
     "execution_count": 18,
     "metadata": {},
     "output_type": "execute_result"
    }
   ],
   "source": [
    "Min_Profit_Ind = (data.loc[:, 'revenue'] - data.loc[:,'budget']).sort_values().index[0]\n",
    "data.iloc[Min_Profit_Ind,[0,3]]"
   ]
  },
  {
   "cell_type": "code",
   "execution_count": 19,
   "metadata": {},
   "outputs": [],
   "source": [
    "answers['7'] = 'tt1210819 The Lone Ranger'"
   ]
  },
  {
   "cell_type": "markdown",
   "metadata": {
    "colab_type": "text",
    "id": "wEOM5ERVVp-6"
   },
   "source": [
    "# 8. У скольких фильмов из датасета объем сборов оказался выше бюджета?"
   ]
  },
  {
   "cell_type": "code",
   "execution_count": 20,
   "metadata": {
    "colab": {},
    "colab_type": "code",
    "id": "y00_7HD6Vp-7"
   },
   "outputs": [
    {
     "data": {
      "text/plain": [
       "(1478, 14)"
      ]
     },
     "execution_count": 20,
     "metadata": {},
     "output_type": "execute_result"
    }
   ],
   "source": [
    "(data.loc[data.loc[:, 'revenue'] > data.loc[:, 'budget'], :]).shape"
   ]
  },
  {
   "cell_type": "code",
   "execution_count": 21,
   "metadata": {},
   "outputs": [],
   "source": [
    "answers['8'] = '1478'"
   ]
  },
  {
   "cell_type": "markdown",
   "metadata": {
    "colab_type": "text",
    "id": "xhpspA9KVp_A"
   },
   "source": [
    "# 9. Какой фильм оказался самым кассовым в 2008 году?"
   ]
  },
  {
   "cell_type": "code",
   "execution_count": 22,
   "metadata": {
    "colab": {},
    "colab_type": "code",
    "id": "MoUyQr9RVp_B"
   },
   "outputs": [
    {
     "data": {
      "text/plain": [
       "imdb_id                                                         tt0468569\n",
       "budget                                                          185000000\n",
       "revenue                                                        1001921825\n",
       "original_title                                            The Dark Knight\n",
       "cast                    Christian Bale|Michael Caine|Heath Ledger|Aaro...\n",
       "director                                                Christopher Nolan\n",
       "tagline                                                   Why So Serious?\n",
       "overview                Batman raises the stakes in his war on crime. ...\n",
       "runtime                                                               152\n",
       "genres                                        Drama|Action|Crime|Thriller\n",
       "production_companies    DC Comics|Legendary Pictures|Warner Bros.|Syncopy\n",
       "release_date                                                    7/16/2008\n",
       "vote_average                                                          8.1\n",
       "release_year                                                         2008\n",
       "Name: 599, dtype: object"
      ]
     },
     "execution_count": 22,
     "metadata": {},
     "output_type": "execute_result"
    }
   ],
   "source": [
    "data9 = data.loc[data.loc[:,'release_year'] == 2008]\n",
    "index9 = (data9.loc[:,'revenue'] - data9.loc[:, 'budget']).sort_values().index[-1]\n",
    "data.iloc[index9]"
   ]
  },
  {
   "cell_type": "code",
   "execution_count": 23,
   "metadata": {},
   "outputs": [],
   "source": [
    "answers['9'] = 'tt0468569 The Dark Knight'"
   ]
  },
  {
   "cell_type": "markdown",
   "metadata": {
    "colab_type": "text",
    "id": "Zi4hDKidVp_F"
   },
   "source": [
    "# 10. Самый убыточный фильм за период с 2012 по 2014 г. (включительно)?\n"
   ]
  },
  {
   "cell_type": "code",
   "execution_count": 24,
   "metadata": {
    "colab": {},
    "colab_type": "code",
    "id": "XqyRmufJVp_F"
   },
   "outputs": [
    {
     "data": {
      "text/plain": [
       "imdb_id                                                         tt1210819\n",
       "budget                                                          255000000\n",
       "revenue                                                          89289910\n",
       "original_title                                            The Lone Ranger\n",
       "cast                    Johnny Depp|Armie Hammer|William Fichtner|Hele...\n",
       "director                                                   Gore Verbinski\n",
       "tagline                                           Never Take Off the Mask\n",
       "overview                The Texas Rangers chase down a gang of outlaws...\n",
       "runtime                                                               149\n",
       "genres                                           Action|Adventure|Western\n",
       "production_companies    Walt Disney Pictures|Jerry Bruckheimer Films|I...\n",
       "release_date                                                     7/3/2013\n",
       "vote_average                                                            6\n",
       "release_year                                                         2013\n",
       "Name: 1245, dtype: object"
      ]
     },
     "execution_count": 24,
     "metadata": {},
     "output_type": "execute_result"
    }
   ],
   "source": [
    "data10 = data.loc[(data.loc[:,'release_year'] >= 2012) & (data.loc[:,'release_year'] <= 2014)] \n",
    "index10 = (data10.loc[:,'revenue'] - data10.loc[:, 'budget']).sort_values().index[0]\n",
    "data.iloc[index10]"
   ]
  },
  {
   "cell_type": "code",
   "execution_count": 25,
   "metadata": {},
   "outputs": [],
   "source": [
    "answers['10'] = 'tt1210819 The Lone Ranger'"
   ]
  },
  {
   "cell_type": "markdown",
   "metadata": {
    "colab_type": "text",
    "id": "EA7Sa9dkVp_I"
   },
   "source": [
    "# 11. Какого жанра фильмов больше всего?"
   ]
  },
  {
   "cell_type": "code",
   "execution_count": 26,
   "metadata": {
    "colab": {},
    "colab_type": "code",
    "id": "zsJAwJ8QVp_J"
   },
   "outputs": [
    {
     "data": {
      "text/plain": [
       "('Drama', 782)"
      ]
     },
     "execution_count": 26,
     "metadata": {},
     "output_type": "execute_result"
    }
   ],
   "source": [
    "dict_count(data.loc[:, 'genres'])[-1]"
   ]
  },
  {
   "cell_type": "code",
   "execution_count": 27,
   "metadata": {},
   "outputs": [],
   "source": [
    "answers['11'] = \"('Drama', 782)\""
   ]
  },
  {
   "cell_type": "markdown",
   "metadata": {
    "colab_type": "text",
    "id": "Ax6g2C8SVp_M"
   },
   "source": [
    "ВАРИАНТ 2"
   ]
  },
  {
   "cell_type": "code",
   "execution_count": 28,
   "metadata": {
    "colab": {},
    "colab_type": "code",
    "id": "otO3SbrSVp_N"
   },
   "outputs": [
    {
     "data": {
      "text/plain": [
       "[('Drama', 782)]"
      ]
     },
     "execution_count": 28,
     "metadata": {},
     "output_type": "execute_result"
    }
   ],
   "source": [
    "Counter(data.genres.str.split('|').sum()).most_common(1)"
   ]
  },
  {
   "cell_type": "markdown",
   "metadata": {
    "colab_type": "text",
    "id": "T9_bPWpkVp_Q"
   },
   "source": [
    "# 12. Фильмы какого жанра чаще всего становятся прибыльными? "
   ]
  },
  {
   "cell_type": "code",
   "execution_count": 29,
   "metadata": {
    "colab": {},
    "colab_type": "code",
    "id": "Tmt8MaK1Vp_R"
   },
   "outputs": [
    {
     "data": {
      "text/plain": [
       "[('Documentary', 7),\n",
       " ('Western', 12),\n",
       " ('War', 41),\n",
       " ('History', 46),\n",
       " ('Music', 47),\n",
       " ('Mystery', 119),\n",
       " ('Animation', 120),\n",
       " ('Horror', 150),\n",
       " ('Fantasy', 188),\n",
       " ('Science Fiction', 195),\n",
       " ('Family', 226),\n",
       " ('Crime', 231),\n",
       " ('Romance', 242),\n",
       " ('Adventure', 337),\n",
       " ('Action', 444),\n",
       " ('Thriller', 446),\n",
       " ('Comedy', 551),\n",
       " ('Drama', 560)]"
      ]
     },
     "execution_count": 29,
     "metadata": {},
     "output_type": "execute_result"
    }
   ],
   "source": [
    "data12 = data.loc[data.loc[:, 'revenue'] > data.loc[:, 'budget']]\n",
    "dict_count(data12.loc[:, 'genres'])"
   ]
  },
  {
   "cell_type": "code",
   "execution_count": 30,
   "metadata": {},
   "outputs": [],
   "source": [
    "answers['12'] = \"'Drama', 560\""
   ]
  },
  {
   "cell_type": "markdown",
   "metadata": {
    "colab_type": "text",
    "id": "0F23bgsDVp_U"
   },
   "source": [
    "# 13. У какого режиссера самые большие суммарные кассовые сборы?"
   ]
  },
  {
   "cell_type": "code",
   "execution_count": 31,
   "metadata": {
    "colab": {},
    "colab_type": "code",
    "id": "K6Z3J8ygVp_X"
   },
   "outputs": [
    {
     "data": {
      "text/plain": [
       "'Peter Jackson'"
      ]
     },
     "execution_count": 31,
     "metadata": {},
     "output_type": "execute_result"
    }
   ],
   "source": [
    "data13 = data.copy()\n",
    "data13.director = data13.director.str.split('|')\n",
    "data13 = data13.explode('director')\n",
    "s = data13.groupby(data13.loc[:, 'director'])['revenue'].sum().idxmax()\n",
    "s"
   ]
  },
  {
   "cell_type": "code",
   "execution_count": 32,
   "metadata": {},
   "outputs": [],
   "source": [
    "answers['13'] = 'Peter Jackson'"
   ]
  },
  {
   "cell_type": "markdown",
   "metadata": {
    "colab_type": "text",
    "id": "PsYC9FgRVp_a"
   },
   "source": [
    "# 14. Какой режисер снял больше всего фильмов в стиле Action?"
   ]
  },
  {
   "cell_type": "code",
   "execution_count": 33,
   "metadata": {
    "colab": {},
    "colab_type": "code",
    "id": "wd2M-wHeVp_b"
   },
   "outputs": [
    {
     "data": {
      "text/plain": [
       "Robert Rodriguez      9\n",
       "Paul W.S. Anderson    7\n",
       "Michael Bay           7\n",
       "Antoine Fuqua         6\n",
       "Ridley Scott          6\n",
       "                     ..\n",
       "Peter Spierig         1\n",
       "Jimmy Hayward         1\n",
       "Noam Murro            1\n",
       "James Gunn            1\n",
       "Ron Underwood         1\n",
       "Name: director, Length: 364, dtype: int64"
      ]
     },
     "execution_count": 33,
     "metadata": {},
     "output_type": "execute_result"
    }
   ],
   "source": [
    "data14 = data.copy()\n",
    "data14.director = data14.director.str.split('|')\n",
    "data14 = data14.explode('director') # преобразование строки к виду: 1 элемент в ячейке\n",
    "data_action = data14[data14.genres.str.contains('Action')]\n",
    "data_action.director.value_counts()"
   ]
  },
  {
   "cell_type": "code",
   "execution_count": 34,
   "metadata": {},
   "outputs": [],
   "source": [
    "answers['14'] = 'Robert Rodriguez '"
   ]
  },
  {
   "cell_type": "markdown",
   "metadata": {
    "colab_type": "text",
    "id": "PQ0KciD7Vp_f"
   },
   "source": [
    "# 15. Фильмы с каким актером принесли самые высокие кассовые сборы в 2012 году? "
   ]
  },
  {
   "cell_type": "code",
   "execution_count": 35,
   "metadata": {
    "colab": {},
    "colab_type": "code",
    "id": "aga62oeKVp_g"
   },
   "outputs": [
    {
     "data": {
      "text/plain": [
       "'Emma Watson'"
      ]
     },
     "execution_count": 35,
     "metadata": {},
     "output_type": "execute_result"
    }
   ],
   "source": [
    "data15 = data.copy()\n",
    "data15.cast = data15.cast.str.split('|')\n",
    "data15 = data15.explode('cast')\n",
    "q15 = data15.groupby(data15.loc[:, 'cast'])['revenue'].sum().idxmax()\n",
    "q15"
   ]
  },
  {
   "cell_type": "code",
   "execution_count": 36,
   "metadata": {},
   "outputs": [],
   "source": [
    "answers['15'] = 'Emma Watson'"
   ]
  },
  {
   "cell_type": "markdown",
   "metadata": {
    "colab_type": "text",
    "id": "mWHyyL7QVp_j"
   },
   "source": [
    "# 16. Какой актер снялся в большем количестве высокобюджетных фильмов?"
   ]
  },
  {
   "cell_type": "code",
   "execution_count": 37,
   "metadata": {
    "colab": {},
    "colab_type": "code",
    "id": "qQtmHKTFVp_k"
   },
   "outputs": [
    {
     "data": {
      "text/plain": [
       "Matt Damon           18\n",
       "Adam Sandler         17\n",
       "Angelina Jolie       16\n",
       "Samuel L. Jackson    15\n",
       "Eddie Murphy         15\n",
       "                     ..\n",
       "Ben Mendelsohn        1\n",
       "Ayelet Zurer          1\n",
       "Deobia Oparei         1\n",
       "Mackenzie Crook       1\n",
       "Leighton Meester      1\n",
       "Name: cast, Length: 1505, dtype: int64"
      ]
     },
     "execution_count": 37,
     "metadata": {},
     "output_type": "execute_result"
    }
   ],
   "source": [
    "data16 = data.copy()\n",
    "data16 = data16[data.budget > data.budget.mean()]\n",
    "data16.cast = data16.cast.str.split('|')\n",
    "data16 = data16.explode('cast')\n",
    "data16.cast.value_counts()"
   ]
  },
  {
   "cell_type": "code",
   "execution_count": 38,
   "metadata": {},
   "outputs": [],
   "source": [
    "answers['16'] = 'Matt Damon'"
   ]
  },
  {
   "cell_type": "markdown",
   "metadata": {
    "colab_type": "text",
    "id": "NIh6AaW5Vp_n"
   },
   "source": [
    "# 17. В фильмах какого жанра больше всего снимался Nicolas Cage? "
   ]
  },
  {
   "cell_type": "code",
   "execution_count": 39,
   "metadata": {
    "colab": {},
    "colab_type": "code",
    "id": "H74SJDIBVp_n"
   },
   "outputs": [
    {
     "data": {
      "text/plain": [
       "Action             17\n",
       "Thriller           15\n",
       "Drama              12\n",
       "Crime              10\n",
       "Fantasy             8\n",
       "Adventure           7\n",
       "Comedy              6\n",
       "Science Fiction     4\n",
       "Family              3\n",
       "Animation           3\n",
       "Mystery             3\n",
       "History             2\n",
       "Horror              1\n",
       "Romance             1\n",
       "War                 1\n",
       "Name: genres, dtype: int64"
      ]
     },
     "execution_count": 39,
     "metadata": {},
     "output_type": "execute_result"
    }
   ],
   "source": [
    "data17 = data.copy()\n",
    "data17 = data17[data17.cast.str.contains('Nicolas Cage')] # фильмы только с Nicolas Cage\n",
    "data17.genres = data17.genres.str.split('|')\n",
    "data17 = data17.explode('genres')\n",
    "data17.genres.value_counts()"
   ]
  },
  {
   "cell_type": "code",
   "execution_count": 40,
   "metadata": {},
   "outputs": [],
   "source": [
    "answers['17'] = 'Action'"
   ]
  },
  {
   "cell_type": "markdown",
   "metadata": {
    "colab_type": "text",
    "id": "RqOmPRfWVp_q"
   },
   "source": [
    "# 18. Самый убыточный фильм от Paramount Pictures"
   ]
  },
  {
   "cell_type": "code",
   "execution_count": 41,
   "metadata": {
    "colab": {},
    "colab_type": "code",
    "id": "9E_B0Y96Vp_r"
   },
   "outputs": [
    {
     "data": {
      "text/html": [
       "<div>\n",
       "<style scoped>\n",
       "    .dataframe tbody tr th:only-of-type {\n",
       "        vertical-align: middle;\n",
       "    }\n",
       "\n",
       "    .dataframe tbody tr th {\n",
       "        vertical-align: top;\n",
       "    }\n",
       "\n",
       "    .dataframe thead th {\n",
       "        text-align: right;\n",
       "    }\n",
       "</style>\n",
       "<table border=\"1\" class=\"dataframe\">\n",
       "  <thead>\n",
       "    <tr style=\"text-align: right;\">\n",
       "      <th></th>\n",
       "      <th>imdb_id</th>\n",
       "      <th>budget</th>\n",
       "      <th>revenue</th>\n",
       "      <th>original_title</th>\n",
       "      <th>cast</th>\n",
       "      <th>director</th>\n",
       "      <th>tagline</th>\n",
       "      <th>overview</th>\n",
       "      <th>runtime</th>\n",
       "      <th>genres</th>\n",
       "      <th>production_companies</th>\n",
       "      <th>release_date</th>\n",
       "      <th>vote_average</th>\n",
       "      <th>release_year</th>\n",
       "      <th>costs</th>\n",
       "    </tr>\n",
       "  </thead>\n",
       "  <tbody>\n",
       "    <tr>\n",
       "      <th>587</th>\n",
       "      <td>tt0249478</td>\n",
       "      <td>75000000</td>\n",
       "      <td>54249294</td>\n",
       "      <td>Domestic Disturbance</td>\n",
       "      <td>John Travolta|Vince Vaughn|Teri Polo|Matt O'Le...</td>\n",
       "      <td>Harold Becker</td>\n",
       "      <td>He will do anything to protect his family.</td>\n",
       "      <td>A divorced father discovers that his 12-year-o...</td>\n",
       "      <td>89</td>\n",
       "      <td>Mystery|Thriller|Crime</td>\n",
       "      <td>Paramount Pictures</td>\n",
       "      <td>10/30/2001</td>\n",
       "      <td>5.4</td>\n",
       "      <td>2001</td>\n",
       "      <td>-20750706</td>\n",
       "    </tr>\n",
       "    <tr>\n",
       "      <th>436</th>\n",
       "      <td>tt0964517</td>\n",
       "      <td>25000000</td>\n",
       "      <td>9190869</td>\n",
       "      <td>The Fighter</td>\n",
       "      <td>Mark Wahlberg|Christian Bale|Amy Adams|Melissa...</td>\n",
       "      <td>David O. Russell</td>\n",
       "      <td>Every dream deserves a fighting chance.</td>\n",
       "      <td>The Fighter, is a drama about boxer \"Irish\" Mi...</td>\n",
       "      <td>116</td>\n",
       "      <td>Drama</td>\n",
       "      <td>Paramount Pictures</td>\n",
       "      <td>12/17/2010</td>\n",
       "      <td>7.1</td>\n",
       "      <td>2010</td>\n",
       "      <td>-15809131</td>\n",
       "    </tr>\n",
       "    <tr>\n",
       "      <th>961</th>\n",
       "      <td>tt0261289</td>\n",
       "      <td>29000000</td>\n",
       "      <td>16930185</td>\n",
       "      <td>Serving Sara</td>\n",
       "      <td>Matthew Perry|Elizabeth Hurley|Vincent Pastore...</td>\n",
       "      <td>Reginald Hudlin</td>\n",
       "      <td>The One Thing That Could Bring Them Together I...</td>\n",
       "      <td>Serving Sara is a 2002 romantic comedy film wh...</td>\n",
       "      <td>100</td>\n",
       "      <td>Comedy|Romance</td>\n",
       "      <td>Paramount Pictures</td>\n",
       "      <td>8/20/2002</td>\n",
       "      <td>5.1</td>\n",
       "      <td>2002</td>\n",
       "      <td>-12069815</td>\n",
       "    </tr>\n",
       "    <tr>\n",
       "      <th>1533</th>\n",
       "      <td>tt0408985</td>\n",
       "      <td>45000000</td>\n",
       "      <td>38399961</td>\n",
       "      <td>Last Holiday</td>\n",
       "      <td>Queen Latifah|LL Cool J|Timothy Hutton|Giancar...</td>\n",
       "      <td>Wayne Wang</td>\n",
       "      <td>She always thought she was somebody special......</td>\n",
       "      <td>After she's diagnosed with a terminal illness,...</td>\n",
       "      <td>112</td>\n",
       "      <td>Adventure|Comedy|Drama</td>\n",
       "      <td>Paramount Pictures</td>\n",
       "      <td>1/13/2006</td>\n",
       "      <td>6.4</td>\n",
       "      <td>2006</td>\n",
       "      <td>-6600039</td>\n",
       "    </tr>\n",
       "    <tr>\n",
       "      <th>1429</th>\n",
       "      <td>tt0408524</td>\n",
       "      <td>30000000</td>\n",
       "      <td>34252847</td>\n",
       "      <td>Bad News Bears</td>\n",
       "      <td>Billy Bob Thornton|Ken Medlock|Aman Johal|Greg...</td>\n",
       "      <td>Richard Linklater</td>\n",
       "      <td>The bases are loaded... so is the coach.</td>\n",
       "      <td>Morris Buttermaker is a burned-out minor leagu...</td>\n",
       "      <td>113</td>\n",
       "      <td>Comedy|Family</td>\n",
       "      <td>Paramount Pictures</td>\n",
       "      <td>7/22/2005</td>\n",
       "      <td>5.5</td>\n",
       "      <td>2005</td>\n",
       "      <td>4252847</td>\n",
       "    </tr>\n",
       "    <tr>\n",
       "      <th>896</th>\n",
       "      <td>tt0253754</td>\n",
       "      <td>60000000</td>\n",
       "      <td>67312826</td>\n",
       "      <td>Star Trek: Nemesis</td>\n",
       "      <td>Patrick Stewart|Jonathan Frakes|LeVar Burton|B...</td>\n",
       "      <td>Stuart Baird</td>\n",
       "      <td>A generation's final journey... begins.</td>\n",
       "      <td>En route to the honeymoon of William Riker to ...</td>\n",
       "      <td>117</td>\n",
       "      <td>Science Fiction|Action|Adventure|Thriller</td>\n",
       "      <td>Paramount Pictures</td>\n",
       "      <td>12/12/2002</td>\n",
       "      <td>6.1</td>\n",
       "      <td>2002</td>\n",
       "      <td>7312826</td>\n",
       "    </tr>\n",
       "    <tr>\n",
       "      <th>924</th>\n",
       "      <td>tt0264472</td>\n",
       "      <td>45000000</td>\n",
       "      <td>94935764</td>\n",
       "      <td>Changing Lanes</td>\n",
       "      <td>Ben Affleck|Samuel L. Jackson|Kim Staunton|Ton...</td>\n",
       "      <td>Roger Michell</td>\n",
       "      <td>An ambitious lawyer, a desperate father, they ...</td>\n",
       "      <td>A rush-hour fender-bender on New York City's c...</td>\n",
       "      <td>89</td>\n",
       "      <td>Action|Adventure|Crime|Thriller</td>\n",
       "      <td>Paramount Pictures</td>\n",
       "      <td>4/7/2002</td>\n",
       "      <td>5.7</td>\n",
       "      <td>2002</td>\n",
       "      <td>49935764</td>\n",
       "    </tr>\n",
       "    <tr>\n",
       "      <th>911</th>\n",
       "      <td>tt0322802</td>\n",
       "      <td>5000000</td>\n",
       "      <td>64282312</td>\n",
       "      <td>Jackass: The Movie</td>\n",
       "      <td>Johnny Knoxville|Bam Margera|Steve-O|Chris Pon...</td>\n",
       "      <td>Jeff Tremaine</td>\n",
       "      <td>Do not attempt this at home.</td>\n",
       "      <td>Johnny Knoxville and his crazy friends appear ...</td>\n",
       "      <td>87</td>\n",
       "      <td>Comedy</td>\n",
       "      <td>Paramount Pictures</td>\n",
       "      <td>10/21/2002</td>\n",
       "      <td>6.2</td>\n",
       "      <td>2002</td>\n",
       "      <td>59282312</td>\n",
       "    </tr>\n",
       "    <tr>\n",
       "      <th>1518</th>\n",
       "      <td>tt0493430</td>\n",
       "      <td>11000000</td>\n",
       "      <td>72778712</td>\n",
       "      <td>Jackass Number Two</td>\n",
       "      <td>Johnny Knoxville|Bam Margera|Steve-O|Chris Pon...</td>\n",
       "      <td>Jeff Tremaine</td>\n",
       "      <td>Guess who just made number two?</td>\n",
       "      <td>Jackass Number Two is a compilation of various...</td>\n",
       "      <td>95</td>\n",
       "      <td>Action|Comedy|Documentary</td>\n",
       "      <td>Paramount Pictures</td>\n",
       "      <td>9/22/2006</td>\n",
       "      <td>6.4</td>\n",
       "      <td>2006</td>\n",
       "      <td>61778712</td>\n",
       "    </tr>\n",
       "    <tr>\n",
       "      <th>1104</th>\n",
       "      <td>tt0332379</td>\n",
       "      <td>35000000</td>\n",
       "      <td>131282949</td>\n",
       "      <td>The School of Rock</td>\n",
       "      <td>Jack Black|Joan Cusack|Mike White|Sarah Silver...</td>\n",
       "      <td>Richard Linklater</td>\n",
       "      <td>He just landed the gig of his life: 5th grade.</td>\n",
       "      <td>Fired from his band and hard up for cash, guit...</td>\n",
       "      <td>108</td>\n",
       "      <td>Comedy|Music</td>\n",
       "      <td>Paramount Pictures</td>\n",
       "      <td>10/3/2003</td>\n",
       "      <td>6.6</td>\n",
       "      <td>2003</td>\n",
       "      <td>96282949</td>\n",
       "    </tr>\n",
       "    <tr>\n",
       "      <th>1571</th>\n",
       "      <td>tt0377092</td>\n",
       "      <td>17000000</td>\n",
       "      <td>129042871</td>\n",
       "      <td>Mean Girls</td>\n",
       "      <td>Lindsay Lohan|Rachel McAdams|Tim Meadows|Ana G...</td>\n",
       "      <td>Mark Waters</td>\n",
       "      <td>Welcome to girl world.</td>\n",
       "      <td>Cady Heron is a hit with The Plastics, the A-l...</td>\n",
       "      <td>97</td>\n",
       "      <td>Comedy</td>\n",
       "      <td>Paramount Pictures</td>\n",
       "      <td>4/30/2004</td>\n",
       "      <td>6.8</td>\n",
       "      <td>2004</td>\n",
       "      <td>112042871</td>\n",
       "    </tr>\n",
       "    <tr>\n",
       "      <th>1026</th>\n",
       "      <td>tt1645170</td>\n",
       "      <td>65000000</td>\n",
       "      <td>179379533</td>\n",
       "      <td>The Dictator</td>\n",
       "      <td>Sacha Baron Cohen|Sayed Badreya|Aasif Mandvi|M...</td>\n",
       "      <td>Larry Charles</td>\n",
       "      <td>kurd</td>\n",
       "      <td>The heroic story of a dictator who risks his l...</td>\n",
       "      <td>83</td>\n",
       "      <td>Comedy</td>\n",
       "      <td>Paramount Pictures</td>\n",
       "      <td>5/15/2012</td>\n",
       "      <td>5.9</td>\n",
       "      <td>2012</td>\n",
       "      <td>114379533</td>\n",
       "    </tr>\n",
       "    <tr>\n",
       "      <th>1117</th>\n",
       "      <td>tt0251127</td>\n",
       "      <td>50000000</td>\n",
       "      <td>177371441</td>\n",
       "      <td>How to Lose a Guy in 10 Days</td>\n",
       "      <td>Kate Hudson|Matthew McConaughey|Kathryn Hahn|A...</td>\n",
       "      <td>Donald Petrie</td>\n",
       "      <td>One of them is lying. So is the other.</td>\n",
       "      <td>An advice columnist, Andie Anderson (Kate Huds...</td>\n",
       "      <td>116</td>\n",
       "      <td>Comedy|Romance</td>\n",
       "      <td>Paramount Pictures</td>\n",
       "      <td>2/7/2003</td>\n",
       "      <td>6.2</td>\n",
       "      <td>2003</td>\n",
       "      <td>127371441</td>\n",
       "    </tr>\n",
       "    <tr>\n",
       "      <th>335</th>\n",
       "      <td>tt1193138</td>\n",
       "      <td>25000000</td>\n",
       "      <td>163670000</td>\n",
       "      <td>Up in the Air</td>\n",
       "      <td>George Clooney|Vera Farmiga|Anna Kendrick|Jaso...</td>\n",
       "      <td>Jason Reitman</td>\n",
       "      <td>The story of a man ready to make a connection.</td>\n",
       "      <td>George Clooney plays the dry cynical character...</td>\n",
       "      <td>109</td>\n",
       "      <td>Drama|Romance</td>\n",
       "      <td>Paramount Pictures</td>\n",
       "      <td>9/5/2009</td>\n",
       "      <td>6.6</td>\n",
       "      <td>2009</td>\n",
       "      <td>138670000</td>\n",
       "    </tr>\n",
       "  </tbody>\n",
       "</table>\n",
       "</div>"
      ],
      "text/plain": [
       "        imdb_id    budget    revenue                original_title  \\\n",
       "587   tt0249478  75000000   54249294          Domestic Disturbance   \n",
       "436   tt0964517  25000000    9190869                   The Fighter   \n",
       "961   tt0261289  29000000   16930185                  Serving Sara   \n",
       "1533  tt0408985  45000000   38399961                  Last Holiday   \n",
       "1429  tt0408524  30000000   34252847                Bad News Bears   \n",
       "896   tt0253754  60000000   67312826            Star Trek: Nemesis   \n",
       "924   tt0264472  45000000   94935764                Changing Lanes   \n",
       "911   tt0322802   5000000   64282312            Jackass: The Movie   \n",
       "1518  tt0493430  11000000   72778712            Jackass Number Two   \n",
       "1104  tt0332379  35000000  131282949            The School of Rock   \n",
       "1571  tt0377092  17000000  129042871                    Mean Girls   \n",
       "1026  tt1645170  65000000  179379533                  The Dictator   \n",
       "1117  tt0251127  50000000  177371441  How to Lose a Guy in 10 Days   \n",
       "335   tt1193138  25000000  163670000                 Up in the Air   \n",
       "\n",
       "                                                   cast           director  \\\n",
       "587   John Travolta|Vince Vaughn|Teri Polo|Matt O'Le...      Harold Becker   \n",
       "436   Mark Wahlberg|Christian Bale|Amy Adams|Melissa...   David O. Russell   \n",
       "961   Matthew Perry|Elizabeth Hurley|Vincent Pastore...    Reginald Hudlin   \n",
       "1533  Queen Latifah|LL Cool J|Timothy Hutton|Giancar...         Wayne Wang   \n",
       "1429  Billy Bob Thornton|Ken Medlock|Aman Johal|Greg...  Richard Linklater   \n",
       "896   Patrick Stewart|Jonathan Frakes|LeVar Burton|B...       Stuart Baird   \n",
       "924   Ben Affleck|Samuel L. Jackson|Kim Staunton|Ton...      Roger Michell   \n",
       "911   Johnny Knoxville|Bam Margera|Steve-O|Chris Pon...      Jeff Tremaine   \n",
       "1518  Johnny Knoxville|Bam Margera|Steve-O|Chris Pon...      Jeff Tremaine   \n",
       "1104  Jack Black|Joan Cusack|Mike White|Sarah Silver...  Richard Linklater   \n",
       "1571  Lindsay Lohan|Rachel McAdams|Tim Meadows|Ana G...        Mark Waters   \n",
       "1026  Sacha Baron Cohen|Sayed Badreya|Aasif Mandvi|M...      Larry Charles   \n",
       "1117  Kate Hudson|Matthew McConaughey|Kathryn Hahn|A...      Donald Petrie   \n",
       "335   George Clooney|Vera Farmiga|Anna Kendrick|Jaso...      Jason Reitman   \n",
       "\n",
       "                                                tagline  \\\n",
       "587          He will do anything to protect his family.   \n",
       "436             Every dream deserves a fighting chance.   \n",
       "961   The One Thing That Could Bring Them Together I...   \n",
       "1533  She always thought she was somebody special......   \n",
       "1429           The bases are loaded... so is the coach.   \n",
       "896             A generation's final journey... begins.   \n",
       "924   An ambitious lawyer, a desperate father, they ...   \n",
       "911                        Do not attempt this at home.   \n",
       "1518                    Guess who just made number two?   \n",
       "1104     He just landed the gig of his life: 5th grade.   \n",
       "1571                             Welcome to girl world.   \n",
       "1026                                               kurd   \n",
       "1117             One of them is lying. So is the other.   \n",
       "335      The story of a man ready to make a connection.   \n",
       "\n",
       "                                               overview  runtime  \\\n",
       "587   A divorced father discovers that his 12-year-o...       89   \n",
       "436   The Fighter, is a drama about boxer \"Irish\" Mi...      116   \n",
       "961   Serving Sara is a 2002 romantic comedy film wh...      100   \n",
       "1533  After she's diagnosed with a terminal illness,...      112   \n",
       "1429  Morris Buttermaker is a burned-out minor leagu...      113   \n",
       "896   En route to the honeymoon of William Riker to ...      117   \n",
       "924   A rush-hour fender-bender on New York City's c...       89   \n",
       "911   Johnny Knoxville and his crazy friends appear ...       87   \n",
       "1518  Jackass Number Two is a compilation of various...       95   \n",
       "1104  Fired from his band and hard up for cash, guit...      108   \n",
       "1571  Cady Heron is a hit with The Plastics, the A-l...       97   \n",
       "1026  The heroic story of a dictator who risks his l...       83   \n",
       "1117  An advice columnist, Andie Anderson (Kate Huds...      116   \n",
       "335   George Clooney plays the dry cynical character...      109   \n",
       "\n",
       "                                         genres production_companies  \\\n",
       "587                      Mystery|Thriller|Crime   Paramount Pictures   \n",
       "436                                       Drama   Paramount Pictures   \n",
       "961                              Comedy|Romance   Paramount Pictures   \n",
       "1533                     Adventure|Comedy|Drama   Paramount Pictures   \n",
       "1429                              Comedy|Family   Paramount Pictures   \n",
       "896   Science Fiction|Action|Adventure|Thriller   Paramount Pictures   \n",
       "924             Action|Adventure|Crime|Thriller   Paramount Pictures   \n",
       "911                                      Comedy   Paramount Pictures   \n",
       "1518                  Action|Comedy|Documentary   Paramount Pictures   \n",
       "1104                               Comedy|Music   Paramount Pictures   \n",
       "1571                                     Comedy   Paramount Pictures   \n",
       "1026                                     Comedy   Paramount Pictures   \n",
       "1117                             Comedy|Romance   Paramount Pictures   \n",
       "335                               Drama|Romance   Paramount Pictures   \n",
       "\n",
       "     release_date  vote_average  release_year      costs  \n",
       "587    10/30/2001           5.4          2001  -20750706  \n",
       "436    12/17/2010           7.1          2010  -15809131  \n",
       "961     8/20/2002           5.1          2002  -12069815  \n",
       "1533    1/13/2006           6.4          2006   -6600039  \n",
       "1429    7/22/2005           5.5          2005    4252847  \n",
       "896    12/12/2002           6.1          2002    7312826  \n",
       "924      4/7/2002           5.7          2002   49935764  \n",
       "911    10/21/2002           6.2          2002   59282312  \n",
       "1518    9/22/2006           6.4          2006   61778712  \n",
       "1104    10/3/2003           6.6          2003   96282949  \n",
       "1571    4/30/2004           6.8          2004  112042871  \n",
       "1026    5/15/2012           5.9          2012  114379533  \n",
       "1117     2/7/2003           6.2          2003  127371441  \n",
       "335      9/5/2009           6.6          2009  138670000  "
      ]
     },
     "execution_count": 41,
     "metadata": {},
     "output_type": "execute_result"
    }
   ],
   "source": [
    "data18 = data.copy()\n",
    "data18['costs'] = data18.revenue - data18.budget # создине колонки с убытками\n",
    "data18.production_companies = data18.production_companies.str.split('|')\n",
    "data18 = data18.explode('production_companies')\n",
    "data18 = data18.loc[data.loc[:, 'production_companies'] == 'Paramount Pictures']\n",
    "data18.sort_values('costs', ascending=True)"
   ]
  },
  {
   "cell_type": "code",
   "execution_count": 42,
   "metadata": {},
   "outputs": [],
   "source": [
    "answers['18'] = 'Domestic Disturbance'"
   ]
  },
  {
   "cell_type": "markdown",
   "metadata": {
    "colab_type": "text",
    "id": "vS8Ur6ddVp_u"
   },
   "source": [
    "# 19. Какой год стал самым успешным по суммарным кассовым сборам?"
   ]
  },
  {
   "cell_type": "code",
   "execution_count": 43,
   "metadata": {
    "colab": {},
    "colab_type": "code",
    "id": "Dnbt4GdIVp_v"
   },
   "outputs": [
    {
     "data": {
      "text/plain": [
       "release_year\n",
       "2015    25449202382\n",
       "2014    23405862953\n",
       "2013    23213799791\n",
       "2012    23079001687\n",
       "2011    22676791872\n",
       "2010    21071204961\n",
       "2009    20261791024\n",
       "2008    18252781990\n",
       "2007    18162406801\n",
       "2004    15663430720\n",
       "2005    15309425558\n",
       "2006    14775042320\n",
       "2003    14346123312\n",
       "2002    14136361487\n",
       "2001    13017764865\n",
       "2000    10664099805\n",
       "Name: revenue, dtype: int64"
      ]
     },
     "execution_count": 43,
     "metadata": {},
     "output_type": "execute_result"
    }
   ],
   "source": [
    "data19 = data.copy()\n",
    "data19.groupby(['release_year'])['revenue'].sum().sort_values(ascending=False)"
   ]
  },
  {
   "cell_type": "code",
   "execution_count": 44,
   "metadata": {},
   "outputs": [],
   "source": [
    "answers['19'] = '2015'"
   ]
  },
  {
   "cell_type": "markdown",
   "metadata": {
    "colab_type": "text",
    "id": "JAzJh4QAVp_z"
   },
   "source": [
    "# 20. Какой самый прибыльный год для студии Warner Bros?"
   ]
  },
  {
   "cell_type": "code",
   "execution_count": 45,
   "metadata": {
    "colab": {},
    "colab_type": "code",
    "id": "wgVu02DEVp_0"
   },
   "outputs": [
    {
     "data": {
      "text/plain": [
       "release_year\n",
       "2014    3243064519\n",
       "2007    3183675217\n",
       "2008    3050595031\n",
       "2010    3008712985\n",
       "2011    2845393682\n",
       "2003    2745493377\n",
       "2009    2737954136\n",
       "2004    2731933725\n",
       "2013    2599953400\n",
       "2005    2412980298\n",
       "2001    2266545668\n",
       "2012    1869520056\n",
       "2002    1702709901\n",
       "2015    1691168351\n",
       "2006    1521170743\n",
       "2000    1025531386\n",
       "Name: revenue, dtype: int64"
      ]
     },
     "execution_count": 45,
     "metadata": {},
     "output_type": "execute_result"
    }
   ],
   "source": [
    "data20 = data.copy()\n",
    "data20 = data20[data20.production_companies.str.contains('Warner Bros')] # поиск фильмов Warner Bros\n",
    "data20.groupby(['release_year'])['revenue'].sum().sort_values(ascending=False)"
   ]
  },
  {
   "cell_type": "code",
   "execution_count": 46,
   "metadata": {},
   "outputs": [],
   "source": [
    "answers['20'] = '2014'"
   ]
  },
  {
   "cell_type": "markdown",
   "metadata": {
    "colab_type": "text",
    "id": "8Im1S2HRVp_4"
   },
   "source": [
    "# 21. В каком месяце за все годы суммарно вышло больше всего фильмов?"
   ]
  },
  {
   "cell_type": "code",
   "execution_count": 47,
   "metadata": {
    "colab": {},
    "colab_type": "code",
    "id": "lev6TH7gVp_4"
   },
   "outputs": [
    {
     "data": {
      "text/plain": [
       "month\n",
       "9     227\n",
       "12    190\n",
       "10    186\n",
       "8     161\n",
       "3     156\n",
       "4     149\n",
       "6     147\n",
       "11    146\n",
       "7     142\n",
       "5     140\n",
       "2     135\n",
       "1     110\n",
       "Name: original_title, dtype: int64"
      ]
     },
     "execution_count": 47,
     "metadata": {},
     "output_type": "execute_result"
    }
   ],
   "source": [
    "data21 = data.copy()\n",
    "data21.release_date = pd.to_datetime(data21.loc[:,'release_date'])\n",
    "data21['month'] = data21.release_date.dt.month # создание отдельной колонки с месяцем\n",
    "data21.groupby(['month'])['original_title'].count().sort_values(ascending=False)"
   ]
  },
  {
   "cell_type": "code",
   "execution_count": 48,
   "metadata": {},
   "outputs": [],
   "source": [
    "answers['21'] = '9'"
   ]
  },
  {
   "cell_type": "markdown",
   "metadata": {
    "colab_type": "text",
    "id": "uAJsZ_NeVp_7"
   },
   "source": [
    "# 22. Сколько суммарно вышло фильмов летом? (за июнь, июль, август)"
   ]
  },
  {
   "cell_type": "code",
   "execution_count": 49,
   "metadata": {
    "colab": {},
    "colab_type": "code",
    "id": "Aa-hEREoVp_8"
   },
   "outputs": [
    {
     "name": "stdout",
     "output_type": "stream",
     "text": [
      "<class 'pandas.core.frame.DataFrame'>\n",
      "Int64Index: 450 entries, 0 to 1888\n",
      "Data columns (total 15 columns):\n",
      " #   Column                Non-Null Count  Dtype         \n",
      "---  ------                --------------  -----         \n",
      " 0   imdb_id               450 non-null    object        \n",
      " 1   budget                450 non-null    int64         \n",
      " 2   revenue               450 non-null    int64         \n",
      " 3   original_title        450 non-null    object        \n",
      " 4   cast                  450 non-null    object        \n",
      " 5   director              450 non-null    object        \n",
      " 6   tagline               450 non-null    object        \n",
      " 7   overview              450 non-null    object        \n",
      " 8   runtime               450 non-null    int64         \n",
      " 9   genres                450 non-null    object        \n",
      " 10  production_companies  450 non-null    object        \n",
      " 11  release_date          450 non-null    datetime64[ns]\n",
      " 12  vote_average          450 non-null    float64       \n",
      " 13  release_year          450 non-null    int64         \n",
      " 14  month                 450 non-null    int64         \n",
      "dtypes: datetime64[ns](1), float64(1), int64(5), object(8)\n",
      "memory usage: 56.2+ KB\n"
     ]
    }
   ],
   "source": [
    "data22 = data.copy()\n",
    "data22.release_date = pd.to_datetime(data22.loc[:,'release_date']) # преобразование даты к стандартному виду\n",
    "data22['month'] = data22.release_date.dt.month\n",
    "data22 = data22[(data22.loc[:, 'month'] >= 6) & (data22.loc[:, 'month'] <=8)]\n",
    "data22.info()"
   ]
  },
  {
   "cell_type": "code",
   "execution_count": 50,
   "metadata": {},
   "outputs": [],
   "source": [
    "answers['22'] = '450'"
   ]
  },
  {
   "cell_type": "markdown",
   "metadata": {
    "colab_type": "text",
    "id": "G94ppOY1VqAA"
   },
   "source": [
    "# 23. Для какого режиссера зима – самое продуктивное время года? "
   ]
  },
  {
   "cell_type": "code",
   "execution_count": 51,
   "metadata": {
    "colab": {},
    "colab_type": "code",
    "id": "RhNTsamuVqAB"
   },
   "outputs": [
    {
     "data": {
      "text/plain": [
       "director\n",
       "Peter Jackson            7\n",
       "Steven Soderbergh        6\n",
       "Clint Eastwood           6\n",
       "Martin Scorsese          4\n",
       "Adam Shankman            4\n",
       "                        ..\n",
       "Matt Bettinelli-Olpin    1\n",
       "Matt Reeves              1\n",
       "Matthew O'Callaghan      1\n",
       "Matthew Vaughn           1\n",
       "Jon Avnet                1\n",
       "Name: original_title, Length: 358, dtype: int64"
      ]
     },
     "execution_count": 51,
     "metadata": {},
     "output_type": "execute_result"
    }
   ],
   "source": [
    "data23 = data.copy()\n",
    "data23.release_date = pd.to_datetime(data23.loc[:,'release_date'])\n",
    "data23['month'] = data23.release_date.dt.month\n",
    "data23 = data23[(data23.loc[:, 'month']== 2) | (data23.loc[:, 'month']== 1) | (data23.loc[:, 'month'] == 12)]\n",
    "data23.director = data23.director.str.split('|')\n",
    "data23 = data23.explode('director')\n",
    "data23.groupby(['director'])['original_title'].count().sort_values(ascending=False)"
   ]
  },
  {
   "cell_type": "code",
   "execution_count": 52,
   "metadata": {},
   "outputs": [],
   "source": [
    "answers['23'] = 'Peter Jackson'"
   ]
  },
  {
   "cell_type": "markdown",
   "metadata": {
    "colab_type": "text",
    "id": "RBo0JVjVVqAF"
   },
   "source": [
    "# 24. Какая студия дает самые длинные названия своим фильмам по количеству символов?"
   ]
  },
  {
   "cell_type": "code",
   "execution_count": 53,
   "metadata": {
    "colab": {},
    "colab_type": "code",
    "id": "QRGS8L0iVqAG"
   },
   "outputs": [
    {
     "data": {
      "text/plain": [
       "Global Entertainment Group     2.0\n",
       "Ixtlan Productions             2.0\n",
       "XM2 Productions                2.0\n",
       "Berlanti Productions           3.0\n",
       "Everest Entertainment          3.0\n",
       "                              ... \n",
       "Polsky Films                  46.0\n",
       "Museum Canada Productions     46.0\n",
       "Dos Corazones                 47.0\n",
       "Jim Henson Company, The       59.0\n",
       "Four By Two Productions       83.0\n",
       "Length: 1771, dtype: float64"
      ]
     },
     "execution_count": 53,
     "metadata": {},
     "output_type": "execute_result"
    }
   ],
   "source": [
    "data24 = data.copy()\n",
    "data24['length'] = data24.original_title.apply(lambda x: len(x)) # создание отдельной колонки с длинной строки\n",
    "data24.production_companies = data24.production_companies.str.split('|')\n",
    "data24 = data24.explode('production_companies')\n",
    "len_sum = data24.groupby('production_companies')['length'].sum().sort_values(ascending=False) # создание серии с суммами длин\n",
    "companies = data24.production_companies.value_counts() # кол-во фильмов каждой студии\n",
    "(len_sum / companies).sort_values()"
   ]
  },
  {
   "cell_type": "code",
   "execution_count": 54,
   "metadata": {},
   "outputs": [],
   "source": [
    "answers['24'] = 'Four By Two Productions '"
   ]
  },
  {
   "cell_type": "markdown",
   "metadata": {
    "colab_type": "text",
    "id": "9G0hbvR7VqAK"
   },
   "source": [
    "# 25. Описание фильмов какой студии в среднем самые длинные по количеству слов?"
   ]
  },
  {
   "cell_type": "code",
   "execution_count": 55,
   "metadata": {
    "colab": {},
    "colab_type": "code",
    "id": "Ge2GsLNxVqAK"
   },
   "outputs": [
    {
     "data": {
      "text/plain": [
       "Motion Picture Corporation of America     11.0\n",
       "Empire Pictures                           11.0\n",
       "Henceforth                                13.0\n",
       "Phantom Four                              13.0\n",
       "London Boulevard                          13.0\n",
       "                                         ...  \n",
       "Brookwell-McNamara Entertainment         156.0\n",
       "Heineken Branded Entertainment           159.0\n",
       "98 MPH Productions                       159.0\n",
       "Room 9 Entertainment                     161.0\n",
       "Midnight Picture Show                    175.0\n",
       "Length: 1771, dtype: float64"
      ]
     },
     "execution_count": 55,
     "metadata": {},
     "output_type": "execute_result"
    }
   ],
   "source": [
    "data25 = data.copy()\n",
    "data25.overview= data25.overview.str.split() # преобразование каждой ячейки колонки в список слов\n",
    "data25['len_word'] = data25.overview.apply(lambda x: len(x)) # подсчет кол-во слов\n",
    "data25.production_companies = data25.production_companies.str.split('|')\n",
    "data25 = data25.explode('production_companies')\n",
    "sum_word = data25.groupby('production_companies')['len_word'].sum().sort_values(ascending=False)\n",
    "\n",
    "companies25 = data25.production_companies.value_counts()\n",
    "(sum_word / companies25).sort_values()"
   ]
  },
  {
   "cell_type": "code",
   "execution_count": 56,
   "metadata": {},
   "outputs": [],
   "source": [
    "answers['25'] = 'Midnight Picture Show'"
   ]
  },
  {
   "cell_type": "markdown",
   "metadata": {
    "colab_type": "text",
    "id": "FJ1AFt90VqAP"
   },
   "source": [
    "# 26. Какие фильмы входят в 1 процент лучших по рейтингу? \n",
    "по vote_average"
   ]
  },
  {
   "cell_type": "code",
   "execution_count": 57,
   "metadata": {},
   "outputs": [
    {
     "data": {
      "text/html": [
       "<div>\n",
       "<style scoped>\n",
       "    .dataframe tbody tr th:only-of-type {\n",
       "        vertical-align: middle;\n",
       "    }\n",
       "\n",
       "    .dataframe tbody tr th {\n",
       "        vertical-align: top;\n",
       "    }\n",
       "\n",
       "    .dataframe thead th {\n",
       "        text-align: right;\n",
       "    }\n",
       "</style>\n",
       "<table border=\"1\" class=\"dataframe\">\n",
       "  <thead>\n",
       "    <tr style=\"text-align: right;\">\n",
       "      <th></th>\n",
       "      <th>budget</th>\n",
       "      <th>revenue</th>\n",
       "      <th>runtime</th>\n",
       "      <th>vote_average</th>\n",
       "      <th>release_year</th>\n",
       "    </tr>\n",
       "  </thead>\n",
       "  <tbody>\n",
       "    <tr>\n",
       "      <th>count</th>\n",
       "      <td>1.889000e+03</td>\n",
       "      <td>1.889000e+03</td>\n",
       "      <td>1889.000000</td>\n",
       "      <td>1889.000000</td>\n",
       "      <td>1889.000000</td>\n",
       "    </tr>\n",
       "    <tr>\n",
       "      <th>mean</th>\n",
       "      <td>5.431083e+07</td>\n",
       "      <td>1.553653e+08</td>\n",
       "      <td>109.658549</td>\n",
       "      <td>6.140762</td>\n",
       "      <td>2007.860773</td>\n",
       "    </tr>\n",
       "    <tr>\n",
       "      <th>std</th>\n",
       "      <td>4.858721e+07</td>\n",
       "      <td>2.146698e+08</td>\n",
       "      <td>18.017041</td>\n",
       "      <td>0.764763</td>\n",
       "      <td>4.468841</td>\n",
       "    </tr>\n",
       "    <tr>\n",
       "      <th>min</th>\n",
       "      <td>5.000000e+06</td>\n",
       "      <td>2.033165e+06</td>\n",
       "      <td>63.000000</td>\n",
       "      <td>3.300000</td>\n",
       "      <td>2000.000000</td>\n",
       "    </tr>\n",
       "    <tr>\n",
       "      <th>25%</th>\n",
       "      <td>2.000000e+07</td>\n",
       "      <td>3.456058e+07</td>\n",
       "      <td>97.000000</td>\n",
       "      <td>5.600000</td>\n",
       "      <td>2004.000000</td>\n",
       "    </tr>\n",
       "    <tr>\n",
       "      <th>50%</th>\n",
       "      <td>3.800000e+07</td>\n",
       "      <td>8.361541e+07</td>\n",
       "      <td>107.000000</td>\n",
       "      <td>6.100000</td>\n",
       "      <td>2008.000000</td>\n",
       "    </tr>\n",
       "    <tr>\n",
       "      <th>75%</th>\n",
       "      <td>7.200000e+07</td>\n",
       "      <td>1.782626e+08</td>\n",
       "      <td>120.000000</td>\n",
       "      <td>6.600000</td>\n",
       "      <td>2012.000000</td>\n",
       "    </tr>\n",
       "    <tr>\n",
       "      <th>max</th>\n",
       "      <td>3.800000e+08</td>\n",
       "      <td>2.781506e+09</td>\n",
       "      <td>214.000000</td>\n",
       "      <td>8.100000</td>\n",
       "      <td>2015.000000</td>\n",
       "    </tr>\n",
       "  </tbody>\n",
       "</table>\n",
       "</div>"
      ],
      "text/plain": [
       "             budget       revenue      runtime  vote_average  release_year\n",
       "count  1.889000e+03  1.889000e+03  1889.000000   1889.000000   1889.000000\n",
       "mean   5.431083e+07  1.553653e+08   109.658549      6.140762   2007.860773\n",
       "std    4.858721e+07  2.146698e+08    18.017041      0.764763      4.468841\n",
       "min    5.000000e+06  2.033165e+06    63.000000      3.300000   2000.000000\n",
       "25%    2.000000e+07  3.456058e+07    97.000000      5.600000   2004.000000\n",
       "50%    3.800000e+07  8.361541e+07   107.000000      6.100000   2008.000000\n",
       "75%    7.200000e+07  1.782626e+08   120.000000      6.600000   2012.000000\n",
       "max    3.800000e+08  2.781506e+09   214.000000      8.100000   2015.000000"
      ]
     },
     "execution_count": 57,
     "metadata": {},
     "output_type": "execute_result"
    }
   ],
   "source": [
    "data.describe()"
   ]
  },
  {
   "cell_type": "code",
   "execution_count": 58,
   "metadata": {
    "colab": {},
    "colab_type": "code",
    "id": "8qmJVq4CVqAQ"
   },
   "outputs": [
    {
     "data": {
      "text/plain": [
       "9                                          Inside Out\n",
       "34                                               Room\n",
       "118                                      Interstellar\n",
       "119                           Guardians of the Galaxy\n",
       "125                                The Imitation Game\n",
       "128                                         Gone Girl\n",
       "138                          The Grand Budapest Hotel\n",
       "370                                         Inception\n",
       "599                                   The Dark Knight\n",
       "872                                       The Pianist\n",
       "1081    The Lord of the Rings: The Return of the King\n",
       "1183                          The Wolf of Wall Street\n",
       "1191                                 12 Years a Slave\n",
       "1800                                          Memento\n",
       "Name: original_title, dtype: object"
      ]
     },
     "execution_count": 58,
     "metadata": {},
     "output_type": "execute_result"
    }
   ],
   "source": [
    "data26 = data.copy()\n",
    "data26 = data26.loc[data26.loc[:, 'vote_average'] > np.quantile(data26.vote_average, 0.99)]\n",
    "data26.original_title"
   ]
  },
  {
   "cell_type": "code",
   "execution_count": 59,
   "metadata": {},
   "outputs": [],
   "source": [
    "answers['26'] = 'Inside Out, The Dark Knight, 12 Years a Slave'"
   ]
  },
  {
   "cell_type": "markdown",
   "metadata": {
    "colab_type": "text",
    "id": "MdXsUXbCVqAV"
   },
   "source": [
    "# 27. Какие актеры чаще всего снимаются в одном фильме вместе?\n"
   ]
  },
  {
   "cell_type": "code",
   "execution_count": 60,
   "metadata": {},
   "outputs": [
    {
     "data": {
      "text/plain": [
       "(Daniel Radcliffe, Emma Watson)        8\n",
       "(Daniel Radcliffe, Rupert Grint)       8\n",
       "(Rupert Grint, Emma Watson)            7\n",
       "(Ben Stiller, Owen Wilson)             6\n",
       "(Johnny Depp, Helena Bonham Carter)    6\n",
       "                                      ..\n",
       "(Martin Henderson, Ice Cube)           1\n",
       "(Maggie Gyllenhaal, Robert Duvall)     1\n",
       "(Owen Wilson, Steve Coogan)            1\n",
       "(Jodie Foster, Gerard Butler)          1\n",
       "(Ben Affleck, Rosamund Pike)           1\n",
       "Length: 18121, dtype: int64"
      ]
     },
     "execution_count": 60,
     "metadata": {},
     "output_type": "execute_result"
    }
   ],
   "source": [
    "data27 = data.copy()\n",
    "pair = []\n",
    "pair2 = []\n",
    "data27.cast = data27.cast.str.split('|')\n",
    "for i in range (0, data27.shape[0]):\n",
    "    pair.append(list(it.combinations(data27.cast[i], 2))) # все возможные комбинации актеров для каждой ячейки\n",
    "    \n",
    "for sublist in pair: # преобразование к плоскому списку\n",
    "    for j in sublist:\n",
    "        pair2.append(j)\n",
    "pair = pd.Series(pair2)\n",
    "pair.value_counts()\n"
   ]
  },
  {
   "cell_type": "code",
   "execution_count": 61,
   "metadata": {},
   "outputs": [],
   "source": [
    "answers['27'] = '(Daniel Radcliffe, Rupert Grint)'"
   ]
  },
  {
   "cell_type": "markdown",
   "metadata": {
    "colab_type": "text",
    "id": "U0nONFnGVqAX"
   },
   "source": [
    "# Submission"
   ]
  },
  {
   "cell_type": "code",
   "execution_count": 62,
   "metadata": {
    "colab": {},
    "colab_type": "code",
    "id": "IfcaRO9-VqAX",
    "outputId": "0f132912-32bb-4196-c98c-abfbc4ad5a5f"
   },
   "outputs": [
    {
     "data": {
      "text/plain": [
       "{'1': 'tt1298650\\tPirates of the Caribbean: On Stranger Tides',\n",
       " '2': '1157\\ttt0279111\\tGods and Generals',\n",
       " '3': '768\\ttt1449283\\tWinnie the Pooh',\n",
       " '4': '109.6585494970884',\n",
       " '5': '107.0',\n",
       " '6': 'tt0499549 Avatar',\n",
       " '7': 'tt1210819 The Lone Ranger',\n",
       " '8': '1478',\n",
       " '9': 'tt0468569 The Dark Knight',\n",
       " '10': 'tt1210819 The Lone Ranger',\n",
       " '11': \"('Drama', 782)\",\n",
       " '12': \"'Drama', 560\",\n",
       " '13': 'Peter Jackson',\n",
       " '14': 'Robert Rodriguez ',\n",
       " '15': 'Emma Watson',\n",
       " '16': 'Matt Damon',\n",
       " '17': 'Action',\n",
       " '18': 'Domestic Disturbance',\n",
       " '19': '2015',\n",
       " '20': '2014',\n",
       " '21': '9',\n",
       " '22': '450',\n",
       " '23': 'Peter Jackson',\n",
       " '24': 'Four By Two Productions ',\n",
       " '25': 'Midnight Picture Show',\n",
       " '26': 'Inside Out, The Dark Knight, 12 Years a Slave',\n",
       " '27': '(Daniel Radcliffe, Rupert Grint)'}"
      ]
     },
     "execution_count": 62,
     "metadata": {},
     "output_type": "execute_result"
    }
   ],
   "source": [
    "# в конце можно посмотреть свои ответы к каждому вопросу\n",
    "answers"
   ]
  },
  {
   "cell_type": "code",
   "execution_count": 63,
   "metadata": {
    "colab": {},
    "colab_type": "code",
    "id": "SiRmHPl8VqAd"
   },
   "outputs": [
    {
     "data": {
      "text/plain": [
       "27"
      ]
     },
     "execution_count": 63,
     "metadata": {},
     "output_type": "execute_result"
    }
   ],
   "source": [
    "# и убедиться что ни чего не пропустил)\n",
    "len(answers)"
   ]
  },
  {
   "cell_type": "code",
   "execution_count": null,
   "metadata": {},
   "outputs": [],
   "source": []
  },
  {
   "cell_type": "code",
   "execution_count": null,
   "metadata": {},
   "outputs": [],
   "source": []
  },
  {
   "cell_type": "code",
   "execution_count": null,
   "metadata": {},
   "outputs": [],
   "source": []
  },
  {
   "cell_type": "code",
   "execution_count": null,
   "metadata": {},
   "outputs": [],
   "source": []
  }
 ],
 "metadata": {
  "colab": {
   "name": "Copy of [SF-DST] Movies IMBD v4.1 TEMPLATE.ipynb",
   "provenance": []
  },
  "kernelspec": {
   "display_name": "Python 3",
   "language": "python",
   "name": "python3"
  },
  "language_info": {
   "codemirror_mode": {
    "name": "ipython",
    "version": 3
   },
   "file_extension": ".py",
   "mimetype": "text/x-python",
   "name": "python",
   "nbconvert_exporter": "python",
   "pygments_lexer": "ipython3",
   "version": "3.8.3"
  }
 },
 "nbformat": 4,
 "nbformat_minor": 1
}
