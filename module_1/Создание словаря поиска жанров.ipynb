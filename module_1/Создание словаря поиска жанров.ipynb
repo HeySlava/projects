{
 "cells": [
  {
   "cell_type": "code",
   "execution_count": 83,
   "metadata": {},
   "outputs": [
    {
     "data": {
      "text/plain": [
       "[('Drama', 782),\n",
       " ('Comedy', 683),\n",
       " ('Thriller', 596),\n",
       " ('Action', 582),\n",
       " ('Adventure', 415),\n",
       " ('Crime', 315),\n",
       " ('Romance', 308),\n",
       " ('Family', 260),\n",
       " ('Science Fiction', 248),\n",
       " ('Fantasy', 222),\n",
       " ('Horror', 176),\n",
       " ('Mystery', 168),\n",
       " ('Animation', 139),\n",
       " ('Music', 64),\n",
       " ('History', 62),\n",
       " ('War', 58),\n",
       " ('Western', 19),\n",
       " ('Documentary', 8),\n",
       " ('Foreign', 2)]"
      ]
     },
     "execution_count": 83,
     "metadata": {},
     "output_type": "execute_result"
    }
   ],
   "source": [
    "import numpy as np\n",
    "import pandas as pd\n",
    "import seaborn as sns\n",
    "import matplotlib.pyplot as plt\n",
    "from collections import Counter\n",
    "data = pd.read_csv('movie_bd_v5.csv')\n",
    "\n",
    "def dict_count(serious):\n",
    "    new_list = []\n",
    "    count = {}\n",
    "    for row in serious:\n",
    "        new_list = list(row.split('|'))\n",
    "        for genre in new_list:\n",
    "            if genre in count:\n",
    "                count[genre] += 1\n",
    "            else:\n",
    "                count[genre] = 1\n",
    "    count = sorted(count.items(), key=lambda pair: pair[1] )\n",
    "    return count\n",
    "\n",
    "c = Counter(data.genres.str.split('|').sum())\n",
    "\n",
    "c.most_common()"
   ]
  }
 ],
 "metadata": {
  "kernelspec": {
   "display_name": "Python 3",
   "language": "python",
   "name": "python3"
  },
  "language_info": {
   "codemirror_mode": {
    "name": "ipython",
    "version": 3
   },
   "file_extension": ".py",
   "mimetype": "text/x-python",
   "name": "python",
   "nbconvert_exporter": "python",
   "pygments_lexer": "ipython3",
   "version": "3.8.3"
  }
 },
 "nbformat": 4,
 "nbformat_minor": 4
}
