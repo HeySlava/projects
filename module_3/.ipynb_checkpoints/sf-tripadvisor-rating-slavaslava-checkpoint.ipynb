{
 "cells": [
  {
   "cell_type": "markdown",
   "metadata": {},
   "source": [
    "# import"
   ]
  },
  {
   "cell_type": "code",
   "execution_count": 1,
   "metadata": {
    "_cell_guid": "b1076dfc-b9ad-4769-8c92-a6c4dae69d19",
    "_uuid": "8f2839f25d086af736a60e9eeb907d3b93b6e0e5"
   },
   "outputs": [
    {
     "name": "stdout",
     "output_type": "stream",
     "text": [
      "/kaggle/input/sf-dst-restaurant-rating/sample_submission.csv\n",
      "/kaggle/input/sf-dst-restaurant-rating/main_task.csv\n",
      "/kaggle/input/sf-dst-restaurant-rating/kaggle_task.csv\n"
     ]
    }
   ],
   "source": [
    "# This Python 3 environment comes with many helpful analytics libraries installed\n",
    "# It is defined by the kaggle/python docker image: https://github.com/kaggle/docker-python\n",
    "# For example, here's several helpful packages to load in \n",
    "\n",
    "import numpy as np # linear algebra\n",
    "import pandas as pd # data processing, CSV file I/O (e.g. pd.read_csv)\n",
    "\n",
    "import matplotlib.pyplot as plt\n",
    "import seaborn as sns \n",
    "%matplotlib inline\n",
    "\n",
    "from collections import Counter\n",
    "\n",
    "# Загружаем специальный удобный инструмент для разделения датасета:\n",
    "from sklearn.model_selection import train_test_split\n",
    "from sklearn.preprocessing import StandardScaler\n",
    "from sklearn.preprocessing import MinMaxScaler\n",
    "\n",
    "from sklearn import preprocessing\n",
    "\n",
    "# Input data files are available in the \"../input/\" directory.\n",
    "# For example, running this (by clicking run or pressing Shift+Enter) will list all files under the input directory\n",
    "\n",
    "pd.set_option('display.max_colwidth', -1)\n",
    "\n",
    "import os\n",
    "for dirname, _, filenames in os.walk('/kaggle/input'):\n",
    "    for filename in filenames:\n",
    "        print(os.path.join(dirname, filename))\n",
    "\n",
    "# Any results you write to the current directory are saved as output."
   ]
  },
  {
   "cell_type": "code",
   "execution_count": 2,
   "metadata": {},
   "outputs": [],
   "source": [
    "# всегда фиксируйте RANDOM_SEED, чтобы ваши эксперименты были воспроизводимы!\n",
    "RANDOM_SEED = 42"
   ]
  },
  {
   "cell_type": "code",
   "execution_count": 3,
   "metadata": {},
   "outputs": [],
   "source": [
    "# зафиксируем версию пакетов, чтобы эксперименты были воспроизводимы:\n",
    "!pip freeze > requirements.txt"
   ]
  },
  {
   "cell_type": "markdown",
   "metadata": {},
   "source": [
    "# DATA"
   ]
  },
  {
   "cell_type": "code",
   "execution_count": 4,
   "metadata": {
    "_cell_guid": "79c7e3d0-c299-4dcb-8224-4455121ee9b0",
    "_uuid": "d629ff2d2480ee46fbb7e2d37f6b5fab8052498a"
   },
   "outputs": [],
   "source": [
    "DATA_DIR = '/kaggle/input/sf-dst-restaurant-rating/'\n",
    "df_train = pd.read_csv(DATA_DIR+'/main_task.csv')\n",
    "df_test = pd.read_csv(DATA_DIR+'kaggle_task.csv')\n",
    "sample_submission = pd.read_csv(DATA_DIR+'/sample_submission.csv')"
   ]
  },
  {
   "cell_type": "code",
   "execution_count": 5,
   "metadata": {},
   "outputs": [
    {
     "data": {
      "text/html": [
       "<div>\n",
       "<style scoped>\n",
       "    .dataframe tbody tr th:only-of-type {\n",
       "        vertical-align: middle;\n",
       "    }\n",
       "\n",
       "    .dataframe tbody tr th {\n",
       "        vertical-align: top;\n",
       "    }\n",
       "\n",
       "    .dataframe thead th {\n",
       "        text-align: right;\n",
       "    }\n",
       "</style>\n",
       "<table border=\"1\" class=\"dataframe\">\n",
       "  <thead>\n",
       "    <tr style=\"text-align: right;\">\n",
       "      <th></th>\n",
       "      <th>Restaurant_id</th>\n",
       "      <th>Rating</th>\n",
       "    </tr>\n",
       "  </thead>\n",
       "  <tbody>\n",
       "    <tr>\n",
       "      <th>0</th>\n",
       "      <td>id_0</td>\n",
       "      <td>2.0</td>\n",
       "    </tr>\n",
       "    <tr>\n",
       "      <th>1</th>\n",
       "      <td>id_1</td>\n",
       "      <td>2.5</td>\n",
       "    </tr>\n",
       "    <tr>\n",
       "      <th>2</th>\n",
       "      <td>id_2</td>\n",
       "      <td>4.0</td>\n",
       "    </tr>\n",
       "    <tr>\n",
       "      <th>3</th>\n",
       "      <td>id_3</td>\n",
       "      <td>1.0</td>\n",
       "    </tr>\n",
       "    <tr>\n",
       "      <th>4</th>\n",
       "      <td>id_4</td>\n",
       "      <td>4.0</td>\n",
       "    </tr>\n",
       "  </tbody>\n",
       "</table>\n",
       "</div>"
      ],
      "text/plain": [
       "  Restaurant_id  Rating\n",
       "0  id_0          2.0   \n",
       "1  id_1          2.5   \n",
       "2  id_2          4.0   \n",
       "3  id_3          1.0   \n",
       "4  id_4          4.0   "
      ]
     },
     "execution_count": 5,
     "metadata": {},
     "output_type": "execute_result"
    }
   ],
   "source": [
    "sample_submission.head(5)"
   ]
  },
  {
   "cell_type": "code",
   "execution_count": 6,
   "metadata": {},
   "outputs": [
    {
     "name": "stdout",
     "output_type": "stream",
     "text": [
      "<class 'pandas.core.frame.DataFrame'>\n",
      "RangeIndex: 10000 entries, 0 to 9999\n",
      "Data columns (total 2 columns):\n",
      "Restaurant_id    10000 non-null object\n",
      "Rating           10000 non-null float64\n",
      "dtypes: float64(1), object(1)\n",
      "memory usage: 156.4+ KB\n"
     ]
    }
   ],
   "source": [
    "sample_submission.info()"
   ]
  },
  {
   "cell_type": "code",
   "execution_count": 7,
   "metadata": {},
   "outputs": [],
   "source": [
    "# ВАЖНО! дря корректной обработки признаков объединяем трейн и тест в один датасет\n",
    "df_train['sample'] = 1 # помечаем где у нас трейн\n",
    "df_test['sample'] = 0 # помечаем где у нас тест\n",
    "df_test['Rating'] = 0 # в тесте у нас нет значения Rating, мы его должны предсказать, по этому пока просто заполняем нулями\n",
    "\n",
    "data = df_test.append(df_train, sort=False).reset_index(drop=True) # объединяем"
   ]
  },
  {
   "cell_type": "code",
   "execution_count": 8,
   "metadata": {},
   "outputs": [
    {
     "name": "stdout",
     "output_type": "stream",
     "text": [
      "<class 'pandas.core.frame.DataFrame'>\n",
      "RangeIndex: 50000 entries, 0 to 49999\n",
      "Data columns (total 11 columns):\n",
      "Restaurant_id        50000 non-null object\n",
      "City                 50000 non-null object\n",
      "Cuisine Style        38410 non-null object\n",
      "Ranking              50000 non-null float64\n",
      "Price Range          32639 non-null object\n",
      "Number of Reviews    46800 non-null float64\n",
      "Reviews              49998 non-null object\n",
      "URL_TA               50000 non-null object\n",
      "ID_TA                50000 non-null object\n",
      "sample               50000 non-null int64\n",
      "Rating               50000 non-null float64\n",
      "dtypes: float64(3), int64(1), object(7)\n",
      "memory usage: 4.2+ MB\n"
     ]
    }
   ],
   "source": [
    "data.info()"
   ]
  },
  {
   "cell_type": "markdown",
   "metadata": {},
   "source": [
    "Подробнее по признакам:\n",
    "* City: Город \n",
    "* Cuisine Style: Кухня\n",
    "* Ranking: Ранг ресторана относительно других ресторанов в этом городе\n",
    "* Price Range: Цены в ресторане в 3 категориях\n",
    "* Number of Reviews: Количество отзывов\n",
    "* Reviews: 2 последних отзыва и даты этих отзывов\n",
    "* URL_TA: страница ресторана на 'www.tripadvisor.com' \n",
    "* ID_TA: ID ресторана в TripAdvisor\n",
    "* Rating: Рейтинг ресторана"
   ]
  },
  {
   "cell_type": "code",
   "execution_count": 9,
   "metadata": {},
   "outputs": [
    {
     "data": {
      "text/plain": [
       "0        /Restaurant_Review-g187147-d10746918-Reviews-Le_Perchoir-Paris_Ile_de_France.html                                         \n",
       "1        /Restaurant_Review-g189934-d6674944-Reviews-Ravintola_Kolmon3n-Helsinki_Uusimaa.html                                      \n",
       "2        /Restaurant_Review-g186525-d13129638-Reviews-Black_Ivy-Edinburgh_Scotland.html                                            \n",
       "3        /Restaurant_Review-g186338-d680417-Reviews-Quirinale-London_England.html                                                  \n",
       "4        /Restaurant_Review-g274924-d1112354-Reviews-Massimo_Ristorante-Bratislava_Bratislava_Region.html                          \n",
       "                                                       ...                                                                         \n",
       "49995    /Restaurant_Review-g187849-d2104414-Reviews-Rosso_Brera-Milan_Lombardy.html                                               \n",
       "49996    /Restaurant_Review-g187147-d1800036-Reviews-La_Favorite-Paris_Ile_de_France.html                                          \n",
       "49997    /Restaurant_Review-g189852-d947615-Reviews-Sushi_Bar_Anu-Stockholm.html                                                   \n",
       "49998    /Restaurant_Review-g274856-d1100838-Reviews-Honoratka_dawna_Oberza_na_Miodowej-Warsaw_Mazovia_Province_Central_Poland.html\n",
       "49999    /Restaurant_Review-g187849-d1109020-Reviews-Taberna_Vasca-Milan_Lombardy.html                                             \n",
       "Name: URL_TA, Length: 50000, dtype: object"
      ]
     },
     "execution_count": 9,
     "metadata": {},
     "output_type": "execute_result"
    }
   ],
   "source": [
    "data['URL_TA']"
   ]
  },
  {
   "cell_type": "code",
   "execution_count": 10,
   "metadata": {},
   "outputs": [
    {
     "data": {
      "text/html": [
       "<div>\n",
       "<style scoped>\n",
       "    .dataframe tbody tr th:only-of-type {\n",
       "        vertical-align: middle;\n",
       "    }\n",
       "\n",
       "    .dataframe tbody tr th {\n",
       "        vertical-align: top;\n",
       "    }\n",
       "\n",
       "    .dataframe thead th {\n",
       "        text-align: right;\n",
       "    }\n",
       "</style>\n",
       "<table border=\"1\" class=\"dataframe\">\n",
       "  <thead>\n",
       "    <tr style=\"text-align: right;\">\n",
       "      <th></th>\n",
       "      <th>Restaurant_id</th>\n",
       "      <th>City</th>\n",
       "      <th>Cuisine Style</th>\n",
       "      <th>Ranking</th>\n",
       "      <th>Price Range</th>\n",
       "      <th>Number of Reviews</th>\n",
       "      <th>Reviews</th>\n",
       "      <th>URL_TA</th>\n",
       "      <th>ID_TA</th>\n",
       "      <th>sample</th>\n",
       "      <th>Rating</th>\n",
       "    </tr>\n",
       "  </thead>\n",
       "  <tbody>\n",
       "    <tr>\n",
       "      <th>43779</th>\n",
       "      <td>id_252</td>\n",
       "      <td>Zurich</td>\n",
       "      <td>['Swiss', 'Bar', 'European']</td>\n",
       "      <td>254.0</td>\n",
       "      <td>$$ - $$$</td>\n",
       "      <td>39.0</td>\n",
       "      <td>[['Just one word: amazing', 'Best (only) bar in Old Town (right of Limm...'], ['01/10/2018', '12/16/2017']]</td>\n",
       "      <td>/Restaurant_Review-g188113-d5937076-Reviews-BarMunster-Zurich.html</td>\n",
       "      <td>d5937076</td>\n",
       "      <td>1</td>\n",
       "      <td>4.5</td>\n",
       "    </tr>\n",
       "    <tr>\n",
       "      <th>46417</th>\n",
       "      <td>id_5641</td>\n",
       "      <td>London</td>\n",
       "      <td>['Italian', 'Vegetarian Friendly', 'Gluten Free Options']</td>\n",
       "      <td>5650.0</td>\n",
       "      <td>$$ - $$$</td>\n",
       "      <td>199.0</td>\n",
       "      <td>[['good dinner and a nice place to eat.', 'Pleasantly surprised'], ['11/06/2017', '10/06/2017']]</td>\n",
       "      <td>/Restaurant_Review-g186338-d6612036-Reviews-Rotorino-London_England.html</td>\n",
       "      <td>d6612036</td>\n",
       "      <td>1</td>\n",
       "      <td>3.5</td>\n",
       "    </tr>\n",
       "    <tr>\n",
       "      <th>25845</th>\n",
       "      <td>id_1642</td>\n",
       "      <td>Athens</td>\n",
       "      <td>['Mediterranean', 'Greek']</td>\n",
       "      <td>1644.0</td>\n",
       "      <td>$$ - $$$</td>\n",
       "      <td>10.0</td>\n",
       "      <td>[['Fine quiet verdant arboreal setting pictu...', 'Shame for the Greek Hospitality'], ['09/25/2014', '10/03/2013']]</td>\n",
       "      <td>/Restaurant_Review-g189400-d941529-Reviews-Morias-Athens_Attica.html</td>\n",
       "      <td>d941529</td>\n",
       "      <td>1</td>\n",
       "      <td>3.5</td>\n",
       "    </tr>\n",
       "    <tr>\n",
       "      <th>24607</th>\n",
       "      <td>id_12559</td>\n",
       "      <td>Paris</td>\n",
       "      <td>['Seafood', 'Spanish', 'Fusion', 'Wine Bar']</td>\n",
       "      <td>12561.0</td>\n",
       "      <td>NaN</td>\n",
       "      <td>18.0</td>\n",
       "      <td>[['Breakfast plus'], ['10/05/2017']]</td>\n",
       "      <td>/Restaurant_Review-g187147-d5865056-Reviews-La_Cantine_D_Eugene-Paris_Ile_de_France.html</td>\n",
       "      <td>d5865056</td>\n",
       "      <td>1</td>\n",
       "      <td>3.5</td>\n",
       "    </tr>\n",
       "    <tr>\n",
       "      <th>44545</th>\n",
       "      <td>id_2626</td>\n",
       "      <td>Lyon</td>\n",
       "      <td>['French']</td>\n",
       "      <td>2627.0</td>\n",
       "      <td>$$ - $$$</td>\n",
       "      <td>NaN</td>\n",
       "      <td>[[], []]</td>\n",
       "      <td>/Restaurant_Review-g187265-d12967849-Reviews-C_Montaland-Lyon_Rhone_Auvergne_Rhone_Alpes.html</td>\n",
       "      <td>d12967849</td>\n",
       "      <td>1</td>\n",
       "      <td>4.0</td>\n",
       "    </tr>\n",
       "  </tbody>\n",
       "</table>\n",
       "</div>"
      ],
      "text/plain": [
       "      Restaurant_id    City  \\\n",
       "43779  id_252        Zurich   \n",
       "46417  id_5641       London   \n",
       "25845  id_1642       Athens   \n",
       "24607  id_12559      Paris    \n",
       "44545  id_2626       Lyon     \n",
       "\n",
       "                                                   Cuisine Style  Ranking  \\\n",
       "43779  ['Swiss', 'Bar', 'European']                               254.0     \n",
       "46417  ['Italian', 'Vegetarian Friendly', 'Gluten Free Options']  5650.0    \n",
       "25845  ['Mediterranean', 'Greek']                                 1644.0    \n",
       "24607  ['Seafood', 'Spanish', 'Fusion', 'Wine Bar']               12561.0   \n",
       "44545  ['French']                                                 2627.0    \n",
       "\n",
       "      Price Range  Number of Reviews  \\\n",
       "43779  $$ - $$$    39.0                \n",
       "46417  $$ - $$$    199.0               \n",
       "25845  $$ - $$$    10.0                \n",
       "24607  NaN         18.0                \n",
       "44545  $$ - $$$   NaN                  \n",
       "\n",
       "                                                                                                                   Reviews  \\\n",
       "43779  [['Just one word: amazing', 'Best (only) bar in Old Town (right of Limm...'], ['01/10/2018', '12/16/2017']]           \n",
       "46417  [['good dinner and a nice place to eat.', 'Pleasantly surprised'], ['11/06/2017', '10/06/2017']]                      \n",
       "25845  [['Fine quiet verdant arboreal setting pictu...', 'Shame for the Greek Hospitality'], ['09/25/2014', '10/03/2013']]   \n",
       "24607  [['Breakfast plus'], ['10/05/2017']]                                                                                  \n",
       "44545  [[], []]                                                                                                              \n",
       "\n",
       "                                                                                              URL_TA  \\\n",
       "43779  /Restaurant_Review-g188113-d5937076-Reviews-BarMunster-Zurich.html                              \n",
       "46417  /Restaurant_Review-g186338-d6612036-Reviews-Rotorino-London_England.html                        \n",
       "25845  /Restaurant_Review-g189400-d941529-Reviews-Morias-Athens_Attica.html                            \n",
       "24607  /Restaurant_Review-g187147-d5865056-Reviews-La_Cantine_D_Eugene-Paris_Ile_de_France.html        \n",
       "44545  /Restaurant_Review-g187265-d12967849-Reviews-C_Montaland-Lyon_Rhone_Auvergne_Rhone_Alpes.html   \n",
       "\n",
       "           ID_TA  sample  Rating  \n",
       "43779  d5937076   1       4.5     \n",
       "46417  d6612036   1       3.5     \n",
       "25845  d941529    1       3.5     \n",
       "24607  d5865056   1       3.5     \n",
       "44545  d12967849  1       4.0     "
      ]
     },
     "execution_count": 10,
     "metadata": {},
     "output_type": "execute_result"
    }
   ],
   "source": [
    "data.sample(5)"
   ]
  },
  {
   "cell_type": "markdown",
   "metadata": {},
   "source": [
    "Как видим, большинство признаков у нас требует очистки и предварительной обработки."
   ]
  },
  {
   "cell_type": "markdown",
   "metadata": {},
   "source": [
    "# 2. Обработка признаков\n",
    "## 2.1 Обработка ресторан ID"
   ]
  },
  {
   "cell_type": "code",
   "execution_count": 11,
   "metadata": {},
   "outputs": [
    {
     "data": {
      "text/html": [
       "<div>\n",
       "<style scoped>\n",
       "    .dataframe tbody tr th:only-of-type {\n",
       "        vertical-align: middle;\n",
       "    }\n",
       "\n",
       "    .dataframe tbody tr th {\n",
       "        vertical-align: top;\n",
       "    }\n",
       "\n",
       "    .dataframe thead th {\n",
       "        text-align: right;\n",
       "    }\n",
       "</style>\n",
       "<table border=\"1\" class=\"dataframe\">\n",
       "  <thead>\n",
       "    <tr style=\"text-align: right;\">\n",
       "      <th></th>\n",
       "      <th>id_0</th>\n",
       "      <th>id_1</th>\n",
       "      <th>id_10</th>\n",
       "      <th>id_100</th>\n",
       "      <th>id_1000</th>\n",
       "      <th>id_10001</th>\n",
       "      <th>id_10002</th>\n",
       "      <th>id_10003</th>\n",
       "      <th>id_10004</th>\n",
       "      <th>id_10005</th>\n",
       "      <th>...</th>\n",
       "      <th>id_9990</th>\n",
       "      <th>id_9991</th>\n",
       "      <th>id_9992</th>\n",
       "      <th>id_9993</th>\n",
       "      <th>id_9994</th>\n",
       "      <th>id_9995</th>\n",
       "      <th>id_9996</th>\n",
       "      <th>id_9997</th>\n",
       "      <th>id_9998</th>\n",
       "      <th>id_9999</th>\n",
       "    </tr>\n",
       "  </thead>\n",
       "  <tbody>\n",
       "    <tr>\n",
       "      <th>0</th>\n",
       "      <td>1</td>\n",
       "      <td>0</td>\n",
       "      <td>0</td>\n",
       "      <td>0</td>\n",
       "      <td>0</td>\n",
       "      <td>0</td>\n",
       "      <td>0</td>\n",
       "      <td>0</td>\n",
       "      <td>0</td>\n",
       "      <td>0</td>\n",
       "      <td>...</td>\n",
       "      <td>0</td>\n",
       "      <td>0</td>\n",
       "      <td>0</td>\n",
       "      <td>0</td>\n",
       "      <td>0</td>\n",
       "      <td>0</td>\n",
       "      <td>0</td>\n",
       "      <td>0</td>\n",
       "      <td>0</td>\n",
       "      <td>0</td>\n",
       "    </tr>\n",
       "    <tr>\n",
       "      <th>1</th>\n",
       "      <td>0</td>\n",
       "      <td>1</td>\n",
       "      <td>0</td>\n",
       "      <td>0</td>\n",
       "      <td>0</td>\n",
       "      <td>0</td>\n",
       "      <td>0</td>\n",
       "      <td>0</td>\n",
       "      <td>0</td>\n",
       "      <td>0</td>\n",
       "      <td>...</td>\n",
       "      <td>0</td>\n",
       "      <td>0</td>\n",
       "      <td>0</td>\n",
       "      <td>0</td>\n",
       "      <td>0</td>\n",
       "      <td>0</td>\n",
       "      <td>0</td>\n",
       "      <td>0</td>\n",
       "      <td>0</td>\n",
       "      <td>0</td>\n",
       "    </tr>\n",
       "    <tr>\n",
       "      <th>2</th>\n",
       "      <td>0</td>\n",
       "      <td>0</td>\n",
       "      <td>0</td>\n",
       "      <td>0</td>\n",
       "      <td>0</td>\n",
       "      <td>0</td>\n",
       "      <td>0</td>\n",
       "      <td>0</td>\n",
       "      <td>0</td>\n",
       "      <td>0</td>\n",
       "      <td>...</td>\n",
       "      <td>0</td>\n",
       "      <td>0</td>\n",
       "      <td>0</td>\n",
       "      <td>0</td>\n",
       "      <td>0</td>\n",
       "      <td>0</td>\n",
       "      <td>0</td>\n",
       "      <td>0</td>\n",
       "      <td>0</td>\n",
       "      <td>0</td>\n",
       "    </tr>\n",
       "    <tr>\n",
       "      <th>3</th>\n",
       "      <td>0</td>\n",
       "      <td>0</td>\n",
       "      <td>0</td>\n",
       "      <td>0</td>\n",
       "      <td>0</td>\n",
       "      <td>0</td>\n",
       "      <td>0</td>\n",
       "      <td>0</td>\n",
       "      <td>0</td>\n",
       "      <td>0</td>\n",
       "      <td>...</td>\n",
       "      <td>0</td>\n",
       "      <td>0</td>\n",
       "      <td>0</td>\n",
       "      <td>0</td>\n",
       "      <td>0</td>\n",
       "      <td>0</td>\n",
       "      <td>0</td>\n",
       "      <td>0</td>\n",
       "      <td>0</td>\n",
       "      <td>0</td>\n",
       "    </tr>\n",
       "    <tr>\n",
       "      <th>4</th>\n",
       "      <td>0</td>\n",
       "      <td>0</td>\n",
       "      <td>0</td>\n",
       "      <td>0</td>\n",
       "      <td>0</td>\n",
       "      <td>0</td>\n",
       "      <td>0</td>\n",
       "      <td>0</td>\n",
       "      <td>0</td>\n",
       "      <td>0</td>\n",
       "      <td>...</td>\n",
       "      <td>0</td>\n",
       "      <td>0</td>\n",
       "      <td>0</td>\n",
       "      <td>0</td>\n",
       "      <td>0</td>\n",
       "      <td>0</td>\n",
       "      <td>0</td>\n",
       "      <td>0</td>\n",
       "      <td>0</td>\n",
       "      <td>0</td>\n",
       "    </tr>\n",
       "    <tr>\n",
       "      <th>...</th>\n",
       "      <td>...</td>\n",
       "      <td>...</td>\n",
       "      <td>...</td>\n",
       "      <td>...</td>\n",
       "      <td>...</td>\n",
       "      <td>...</td>\n",
       "      <td>...</td>\n",
       "      <td>...</td>\n",
       "      <td>...</td>\n",
       "      <td>...</td>\n",
       "      <td>...</td>\n",
       "      <td>...</td>\n",
       "      <td>...</td>\n",
       "      <td>...</td>\n",
       "      <td>...</td>\n",
       "      <td>...</td>\n",
       "      <td>...</td>\n",
       "      <td>...</td>\n",
       "      <td>...</td>\n",
       "      <td>...</td>\n",
       "      <td>...</td>\n",
       "    </tr>\n",
       "    <tr>\n",
       "      <th>49995</th>\n",
       "      <td>0</td>\n",
       "      <td>0</td>\n",
       "      <td>0</td>\n",
       "      <td>0</td>\n",
       "      <td>0</td>\n",
       "      <td>0</td>\n",
       "      <td>0</td>\n",
       "      <td>0</td>\n",
       "      <td>0</td>\n",
       "      <td>0</td>\n",
       "      <td>...</td>\n",
       "      <td>0</td>\n",
       "      <td>0</td>\n",
       "      <td>0</td>\n",
       "      <td>0</td>\n",
       "      <td>0</td>\n",
       "      <td>0</td>\n",
       "      <td>0</td>\n",
       "      <td>0</td>\n",
       "      <td>0</td>\n",
       "      <td>0</td>\n",
       "    </tr>\n",
       "    <tr>\n",
       "      <th>49996</th>\n",
       "      <td>0</td>\n",
       "      <td>0</td>\n",
       "      <td>0</td>\n",
       "      <td>0</td>\n",
       "      <td>0</td>\n",
       "      <td>0</td>\n",
       "      <td>0</td>\n",
       "      <td>0</td>\n",
       "      <td>0</td>\n",
       "      <td>0</td>\n",
       "      <td>...</td>\n",
       "      <td>0</td>\n",
       "      <td>0</td>\n",
       "      <td>0</td>\n",
       "      <td>0</td>\n",
       "      <td>0</td>\n",
       "      <td>0</td>\n",
       "      <td>0</td>\n",
       "      <td>0</td>\n",
       "      <td>0</td>\n",
       "      <td>0</td>\n",
       "    </tr>\n",
       "    <tr>\n",
       "      <th>49997</th>\n",
       "      <td>0</td>\n",
       "      <td>0</td>\n",
       "      <td>0</td>\n",
       "      <td>0</td>\n",
       "      <td>0</td>\n",
       "      <td>0</td>\n",
       "      <td>0</td>\n",
       "      <td>0</td>\n",
       "      <td>0</td>\n",
       "      <td>0</td>\n",
       "      <td>...</td>\n",
       "      <td>0</td>\n",
       "      <td>0</td>\n",
       "      <td>0</td>\n",
       "      <td>0</td>\n",
       "      <td>0</td>\n",
       "      <td>0</td>\n",
       "      <td>0</td>\n",
       "      <td>0</td>\n",
       "      <td>0</td>\n",
       "      <td>0</td>\n",
       "    </tr>\n",
       "    <tr>\n",
       "      <th>49998</th>\n",
       "      <td>0</td>\n",
       "      <td>0</td>\n",
       "      <td>0</td>\n",
       "      <td>0</td>\n",
       "      <td>0</td>\n",
       "      <td>0</td>\n",
       "      <td>0</td>\n",
       "      <td>0</td>\n",
       "      <td>0</td>\n",
       "      <td>0</td>\n",
       "      <td>...</td>\n",
       "      <td>0</td>\n",
       "      <td>0</td>\n",
       "      <td>0</td>\n",
       "      <td>0</td>\n",
       "      <td>0</td>\n",
       "      <td>0</td>\n",
       "      <td>0</td>\n",
       "      <td>0</td>\n",
       "      <td>0</td>\n",
       "      <td>0</td>\n",
       "    </tr>\n",
       "    <tr>\n",
       "      <th>49999</th>\n",
       "      <td>0</td>\n",
       "      <td>0</td>\n",
       "      <td>0</td>\n",
       "      <td>0</td>\n",
       "      <td>0</td>\n",
       "      <td>0</td>\n",
       "      <td>0</td>\n",
       "      <td>0</td>\n",
       "      <td>0</td>\n",
       "      <td>0</td>\n",
       "      <td>...</td>\n",
       "      <td>0</td>\n",
       "      <td>0</td>\n",
       "      <td>0</td>\n",
       "      <td>0</td>\n",
       "      <td>0</td>\n",
       "      <td>0</td>\n",
       "      <td>0</td>\n",
       "      <td>0</td>\n",
       "      <td>0</td>\n",
       "      <td>0</td>\n",
       "    </tr>\n",
       "  </tbody>\n",
       "</table>\n",
       "<p>50000 rows × 13094 columns</p>\n",
       "</div>"
      ],
      "text/plain": [
       "       id_0  id_1  id_10  id_100  id_1000  id_10001  id_10002  id_10003  \\\n",
       "0      1     0     0      0       0        0         0         0          \n",
       "1      0     1     0      0       0        0         0         0          \n",
       "2      0     0     0      0       0        0         0         0          \n",
       "3      0     0     0      0       0        0         0         0          \n",
       "4      0     0     0      0       0        0         0         0          \n",
       "...   ..    ..    ..     ..      ..       ..        ..        ..          \n",
       "49995  0     0     0      0       0        0         0         0          \n",
       "49996  0     0     0      0       0        0         0         0          \n",
       "49997  0     0     0      0       0        0         0         0          \n",
       "49998  0     0     0      0       0        0         0         0          \n",
       "49999  0     0     0      0       0        0         0         0          \n",
       "\n",
       "       id_10004  id_10005  ...  id_9990  id_9991  id_9992  id_9993  id_9994  \\\n",
       "0      0         0         ...  0        0        0        0        0         \n",
       "1      0         0         ...  0        0        0        0        0         \n",
       "2      0         0         ...  0        0        0        0        0         \n",
       "3      0         0         ...  0        0        0        0        0         \n",
       "4      0         0         ...  0        0        0        0        0         \n",
       "...   ..        ..         ... ..       ..       ..       ..       ..         \n",
       "49995  0         0         ...  0        0        0        0        0         \n",
       "49996  0         0         ...  0        0        0        0        0         \n",
       "49997  0         0         ...  0        0        0        0        0         \n",
       "49998  0         0         ...  0        0        0        0        0         \n",
       "49999  0         0         ...  0        0        0        0        0         \n",
       "\n",
       "       id_9995  id_9996  id_9997  id_9998  id_9999  \n",
       "0      0        0        0        0        0        \n",
       "1      0        0        0        0        0        \n",
       "2      0        0        0        0        0        \n",
       "3      0        0        0        0        0        \n",
       "4      0        0        0        0        0        \n",
       "...   ..       ..       ..       ..       ..        \n",
       "49995  0        0        0        0        0        \n",
       "49996  0        0        0        0        0        \n",
       "49997  0        0        0        0        0        \n",
       "49998  0        0        0        0        0        \n",
       "49999  0        0        0        0        0        \n",
       "\n",
       "[50000 rows x 13094 columns]"
      ]
     },
     "execution_count": 11,
     "metadata": {},
     "output_type": "execute_result"
    }
   ],
   "source": [
    "pd.get_dummies(data['Restaurant_id'])\n",
    "# слишком много столбцов, не знаю, стоит ли добавить, надо будет проверить в конце"
   ]
  },
  {
   "cell_type": "code",
   "execution_count": 12,
   "metadata": {},
   "outputs": [],
   "source": [
    "# создания признака один ли ресторан или это сеть\n",
    "chain_restaurant = data.groupby('Restaurant_id')['City'].count().rename('one_or_more')\n",
    "data = pd.merge(data, chain_restaurant, on='Restaurant_id')"
   ]
  },
  {
   "cell_type": "markdown",
   "metadata": {},
   "source": [
    "## 2.2 Обработка City"
   ]
  },
  {
   "cell_type": "code",
   "execution_count": 13,
   "metadata": {},
   "outputs": [
    {
     "data": {
      "text/plain": [
       "array(['Paris', 'Hamburg', 'Rome', 'London', 'Milan', 'Madrid', 'Oslo',\n",
       "       'Stockholm', 'Krakow', 'Lyon', 'Lisbon', 'Edinburgh', 'Vienna',\n",
       "       'Warsaw', 'Amsterdam', 'Budapest', 'Helsinki', 'Zurich',\n",
       "       'Luxembourg', 'Berlin', 'Prague', 'Munich', 'Bratislava',\n",
       "       'Brussels', 'Ljubljana', 'Copenhagen', 'Oporto', 'Barcelona',\n",
       "       'Geneva', 'Athens', 'Dublin'], dtype=object)"
      ]
     },
     "execution_count": 13,
     "metadata": {},
     "output_type": "execute_result"
    }
   ],
   "source": [
    "data['City'].unique()"
   ]
  },
  {
   "cell_type": "markdown",
   "metadata": {},
   "source": [
    "Дополнительным признаком можно добавить население. Городов не очень много, поэтому буду просто гуглить. Мне понравился сайт https://datacommons.org/\n",
    "Буду считать что население не сильно изменилось за пару лет, поэтому не буду обращать внимание на год, за который представлены данные населения"
   ]
  },
  {
   "cell_type": "code",
   "execution_count": 14,
   "metadata": {},
   "outputs": [],
   "source": [
    "# население для каждого города из датасета\n",
    "population = {\n",
    "    'Paris': 2160928,\n",
    "    'Helsinki': 631695,\n",
    "    'Edinburgh': 482005,\n",
    "    'London': 8982256,\n",
    "    'Bratislava': 424428,\n",
    "    'Lisbon': 504718,\n",
    "    'Budapest': 1756056,\n",
    "    'Stockholm': 789024,\n",
    "    'Rome': 2873494,\n",
    "    'Milan': 1351562,\n",
    "    'Munich': 1471508,\n",
    "    'Hamburg': 1841179,\n",
    "    'Prague': 1308632,\n",
    "    'Vienna': 1897491,\n",
    "    'Dublin': 544107,\n",
    "    'Barcelona': 1620343,\n",
    "    'Brussels': 174383,\n",
    "    'Madrid': 3223334,\n",
    "    'Oslo': 634293,\n",
    "    'Amsterdam': 869709,\n",
    "    'Berlin': 3644826,\n",
    "    'Lyon': 513275,\n",
    "    'Athens': 664046,\n",
    "    'Warsaw': 1764615,\n",
    "    'Oporto': 214349,\n",
    "    'Krakow': 766683,\n",
    "    'Copenhagen': 602481,\n",
    "    'Luxembourg': 114303,\n",
    "    'Zurich': 402762,\n",
    "    'Geneva': 198979,\n",
    "    'Ljubljana': 279631              \n",
    "}"
   ]
  },
  {
   "cell_type": "code",
   "execution_count": 15,
   "metadata": {},
   "outputs": [],
   "source": [
    "# принадлежность города к стране\n",
    "country = {\n",
    "    'Paris': 'France',\n",
    "    'Hamburg': 'Germany',\n",
    "    'Rome': 'Italy',\n",
    "    'London': 'UK',\n",
    "    'Milan': 'Italy',\n",
    "    'Madrid': 'Spain',\n",
    "    'Oslo': 'Norway',\n",
    "    'Stockholm': 'Sweden',\n",
    "    'Krakow': 'Poland',\n",
    "    'Lyon': 'Paris',\n",
    "    'Lisbon': 'Portugal',\n",
    "    'Edinburgh': 'UK',\n",
    "    'Vienna': 'Austria',\n",
    "    'Warsaw': 'Poland',\n",
    "    'Amsterdam': 'Netherlands',\n",
    "    'Budapest': 'Hungary',\n",
    "    'Helsinki': 'Finland',\n",
    "    'Zurich': 'Switzerland',\n",
    "    'Luxembourg': 'Luxembourg',\n",
    "    'Berlin': 'Germany',\n",
    "    'Prague': 'Czechia',\n",
    "    'Munich': 'Germany',\n",
    "    'Bratislava': 'Slovakia',\n",
    "    'Brussels': 'Belgium',\n",
    "    'Ljubljana': 'Slovenia',\n",
    "    'Copenhagen': 'Denmark',\n",
    "    'Oporto': 'Portugal',\n",
    "    'Barcelona': 'Spain',\n",
    "    'Geneva': 'Switzerland',\n",
    "    'Athens': 'Greece',\n",
    "    'Dublin': 'Ireland'\n",
    "}"
   ]
  },
  {
   "cell_type": "code",
   "execution_count": 16,
   "metadata": {},
   "outputs": [],
   "source": [
    "# вышло так, что городов не столиц оказалось меньше, поэтому что меньше писать составлю из них список\n",
    "not_Capital = ['Barcelona', 'Milan', 'Hamburg', 'Munich','Lyon', 'Zurich', 'Oporto', 'Geneva', 'Krakow']"
   ]
  },
  {
   "cell_type": "code",
   "execution_count": 17,
   "metadata": {},
   "outputs": [],
   "source": [
    "# население каждого города\n",
    "data['population'] = data['City'].map(population)\n",
    "\n",
    "# Определение страны для каждого города из датасета\n",
    "data['country'] = data['City'].map(country)\n",
    "\n",
    "# сколько ресторанов в каждом городе\n",
    "restaurant_in_city = data.groupby('City')['ID_TA'].count().rename('restaurant_in_city')\n",
    "data = pd.merge(data, restaurant_in_city, on='City')\n",
    "\n",
    "# количество ресторанов на каждого человека\n",
    "data['restaurant_per_person'] = data['restaurant_in_city'] / data['population']\n",
    "\n",
    "# столица или не столица\n",
    "data['capital'] = data['City'].apply(lambda x: 0 if x in not_Capital else 1 )\n",
    "\n",
    "# one hot enconding for city and contry\n",
    "dummy_city = pd.get_dummies(data['City'])\n",
    "dummy_country = pd.get_dummies(data['country'])\n",
    "data = pd.concat([data, dummy_city, dummy_country], axis=1)"
   ]
  },
  {
   "cell_type": "code",
   "execution_count": 18,
   "metadata": {},
   "outputs": [
    {
     "data": {
      "text/plain": [
       "Index(['London', 'Paris', 'Madrid', 'Barcelona', 'Berlin', 'Milan', 'Rome',\n",
       "       'Prague', 'Lisbon', 'Vienna'],\n",
       "      dtype='object', name='City')"
      ]
     },
     "execution_count": 18,
     "metadata": {},
     "output_type": "execute_result"
    }
   ],
   "source": [
    "data.groupby('City')['ID_TA'].count().sort_values(ascending=False).index[:10]"
   ]
  },
  {
   "cell_type": "markdown",
   "metadata": {},
   "source": [
    "Возможно надо подумать над признаком, туристический ли это город или нет. Или сколько денег приносит в бюджет города, но пока что не знаю как это реализовать.\n",
    "\n",
    "Были создананы следующие признаки:\n",
    "- население каждого города\n",
    "- принадлежность города к стране\n",
    "- количество ресторанов для каждого города\n",
    "- из этого можно получить количество ресторанов на каждого человека\n",
    "- является ли город столицей \n",
    "- dummy переменные (видел в других нотбуках label endocting, но не знаю зачем его применять к этому признаку)"
   ]
  },
  {
   "cell_type": "markdown",
   "metadata": {},
   "source": [
    "## 2.3 Кухни"
   ]
  },
  {
   "cell_type": "code",
   "execution_count": 19,
   "metadata": {},
   "outputs": [],
   "source": [
    "# создаю столбец, с отметками о том, где были пропуски\n",
    "data['Cuisine_style_ISNA'] = data['Cuisine Style'].isna().astype(int)\n",
    "\n",
    "# заполнение пропусков\n",
    "data['Cuisine Style'] = data['Cuisine Style'].fillna(\"['Other']\")\n",
    "\n",
    "# преобразование стилей кухни к нормальному виду\n",
    "data['Cuisine Style'] = data['Cuisine Style'].str.findall(r\"'(\\b.*?\\b)'\")\n",
    "\n",
    "# разнообразие кухни\n",
    "data['variety'] = data['Cuisine Style'].apply(len)\n"
   ]
  },
  {
   "cell_type": "code",
   "execution_count": 20,
   "metadata": {},
   "outputs": [
    {
     "data": {
      "text/plain": [
       "{'Vegetarian Friendly': 14021,\n",
       " 'European': 12561,\n",
       " 'Other': 11590,\n",
       " 'Mediterranean': 7820,\n",
       " 'Italian': 7433,\n",
       " 'Vegan Options': 5684,\n",
       " 'Gluten Free Options': 5185,\n",
       " 'Bar': 4094,\n",
       " 'French': 3970,\n",
       " 'Asian': 3786,\n",
       " 'Pizza': 3502,\n",
       " 'Spanish': 3456,\n",
       " 'Pub': 3058,\n",
       " 'Cafe': 2883,\n",
       " 'Fast Food': 2122,\n",
       " 'British': 1992,\n",
       " 'International': 1966,\n",
       " 'Seafood': 1878,\n",
       " 'Japanese': 1860,\n",
       " 'Central European': 1727,\n",
       " 'American': 1642,\n",
       " 'Sushi': 1450,\n",
       " 'Chinese': 1446,\n",
       " 'Portuguese': 1385,\n",
       " 'Indian': 1328,\n",
       " 'Middle Eastern': 980,\n",
       " 'Thai': 923,\n",
       " 'Wine Bar': 877,\n",
       " 'German': 820,\n",
       " 'Halal': 773,\n",
       " 'Greek': 768,\n",
       " 'Healthy': 758,\n",
       " 'Fusion': 748,\n",
       " 'Czech': 745,\n",
       " 'Steakhouse': 729,\n",
       " 'Barbecue': 710,\n",
       " 'Contemporary': 652,\n",
       " 'Soups': 630,\n",
       " 'Eastern European': 629,\n",
       " 'Vietnamese': 622,\n",
       " 'Grill': 617,\n",
       " 'Gastropub': 608,\n",
       " 'Turkish': 574,\n",
       " 'Mexican': 572,\n",
       " 'South American': 490,\n",
       " 'Delicatessen': 473,\n",
       " 'Austrian': 462,\n",
       " 'Polish': 453,\n",
       " 'Scandinavian': 449,\n",
       " 'Hungarian': 444,\n",
       " 'Lebanese': 397,\n",
       " 'Diner': 375,\n",
       " 'Latin': 373,\n",
       " 'Dutch': 368,\n",
       " 'Irish': 352,\n",
       " 'Street Food': 336,\n",
       " 'Belgian': 335,\n",
       " 'Brew Pub': 299,\n",
       " 'Danish': 225,\n",
       " 'Swiss': 223,\n",
       " 'Swedish': 223,\n",
       " 'Argentinean': 214,\n",
       " 'Korean': 206,\n",
       " 'Scottish': 199,\n",
       " 'African': 193,\n",
       " 'Moroccan': 173,\n",
       " 'Central American': 168,\n",
       " 'Brazilian': 152,\n",
       " 'Pakistani': 140,\n",
       " 'Peruvian': 130,\n",
       " 'Caribbean': 124,\n",
       " 'Nepali': 121,\n",
       " 'Balti': 104,\n",
       " 'Bangladeshi': 100,\n",
       " 'Norwegian': 96,\n",
       " 'Israeli': 90,\n",
       " 'Slovenian': 85,\n",
       " 'Persian': 77,\n",
       " 'Indonesian': 71,\n",
       " 'Russian': 66,\n",
       " 'Arabic': 58,\n",
       " 'Kosher': 56,\n",
       " 'Ethiopian': 51,\n",
       " 'Venezuelan': 51,\n",
       " 'Malaysian': 38,\n",
       " 'Australian': 36,\n",
       " 'Jamaican': 36,\n",
       " 'Croatian': 33,\n",
       " 'Cuban': 32,\n",
       " 'Colombian': 30,\n",
       " 'Taiwanese': 30,\n",
       " 'Sri Lankan': 30,\n",
       " 'Tibetan': 29,\n",
       " 'Cajun & Creole': 27,\n",
       " 'Afghani': 27,\n",
       " 'Egyptian': 24,\n",
       " 'Southwestern': 24,\n",
       " 'Tunisian': 23,\n",
       " 'Hawaiian': 23,\n",
       " 'Cambodian': 22,\n",
       " 'Singaporean': 21,\n",
       " 'Ukrainian': 20,\n",
       " 'Mongolian': 20,\n",
       " 'Georgian': 18,\n",
       " 'Filipino': 17,\n",
       " 'Armenian': 17,\n",
       " 'Chilean': 16,\n",
       " 'Romanian': 13,\n",
       " 'Central Asian': 12,\n",
       " 'Minority Chinese': 12,\n",
       " 'Albanian': 8,\n",
       " 'Ecuadorean': 8,\n",
       " 'Canadian': 7,\n",
       " 'New Zealand': 7,\n",
       " 'Native American': 5,\n",
       " 'Uzbek': 5,\n",
       " 'Caucasian': 4,\n",
       " 'Welsh': 3,\n",
       " 'Azerbaijani': 3,\n",
       " 'Fujian': 2,\n",
       " 'Polynesian': 2,\n",
       " 'Yunnan': 2,\n",
       " 'Xinjiang': 1,\n",
       " 'Burmese': 1,\n",
       " 'Salvadoran': 1,\n",
       " 'Latvian': 1}"
      ]
     },
     "execution_count": 20,
     "metadata": {},
     "output_type": "execute_result"
    }
   ],
   "source": [
    "cuisins = []\n",
    "all_cuisins = data['Cuisine Style'].to_list()\n",
    "for list_ in all_cuisins:\n",
    "    for style in list_:\n",
    "        cuisins.append(style)\n",
    "set_cuisins = set(cuisins)        \n",
    "cuisins = dict(Counter(cuisins))\n",
    "cuisins = {keys: values for keys, values in sorted(cuisins.items(), reverse=True, key=lambda x: x[1])}\n",
    "cuisins"
   ]
  },
  {
   "cell_type": "code",
   "execution_count": 21,
   "metadata": {},
   "outputs": [],
   "source": [
    "# созднаие dummy переменных для видов кухни\n",
    "for cuisin in set_cuisins:\n",
    "    data[cuisin] = data['Cuisine Style'].apply(lambda x: 1 if cuisin in x else 0)    "
   ]
  },
  {
   "cell_type": "markdown",
   "metadata": {},
   "source": [
    "В признаке достаточно много пропусков\n",
    "- создал столбец с пометками о пропусках\n",
    "- пропуски заменил значением other\n",
    "- создал признак разнообразия кухонь\n",
    "- создал словарик с самыми популярными кухнями, но пока что его никак не использовал"
   ]
  },
  {
   "cell_type": "markdown",
   "metadata": {},
   "source": [
    "## 2.4 Price Range"
   ]
  },
  {
   "cell_type": "code",
   "execution_count": 22,
   "metadata": {},
   "outputs": [
    {
     "name": "stdout",
     "output_type": "stream",
     "text": [
      "$$ - $$$ Paris\n",
      "$$ - $$$ Hamburg\n",
      "$$ - $$$ Rome\n",
      "$$ - $$$ London\n",
      "$$ - $$$ Milan\n",
      "$$ - $$$ Madrid\n",
      "$$ - $$$ Oslo\n",
      "$$ - $$$ Stockholm\n",
      "$$ - $$$ Krakow\n",
      "$$ - $$$ Lyon\n",
      "$$ - $$$ Lisbon\n",
      "$$ - $$$ Edinburgh\n",
      "$$ - $$$ Vienna\n",
      "$$ - $$$ Warsaw\n",
      "$$ - $$$ Amsterdam\n",
      "$$ - $$$ Budapest\n",
      "$$ - $$$ Helsinki\n",
      "$$ - $$$ Zurich\n",
      "$$ - $$$ Luxembourg\n",
      "$$ - $$$ Berlin\n",
      "$$ - $$$ Prague\n",
      "$$ - $$$ Munich\n",
      "$$ - $$$ Bratislava\n",
      "$$ - $$$ Brussels\n",
      "$$ - $$$ Ljubljana\n",
      "$$ - $$$ Copenhagen\n",
      "$$ - $$$ Oporto\n",
      "$$ - $$$ Barcelona\n",
      "$$ - $$$ Geneva\n",
      "$$ - $$$ Athens\n",
      "$$ - $$$ Dublin\n"
     ]
    }
   ],
   "source": [
    "# перед обработкой признака, создаю колонку с отображениями пропуска\n",
    "data['Price_Range_isNAN'] = data['Price Range'].isnull().astype(int)\n",
    "\n",
    "# хочу посмотреть самый популярный диапазон цен для каждого города\n",
    "cities = data['City'].unique()\n",
    "\n",
    "# отображение самых популярных диапазонов цен для каждого города\n",
    "for city in cities:\n",
    "    print(data[data['City']==city]['Price Range'].value_counts().index[0], city)\n",
    "\n",
    "# выглядит так, что пропуски можно заполнить через fillna самым популярным значением\n",
    "data['Price Range'] = data['Price Range'].fillna('$$ - $$$')\n",
    "\n",
    "# замена значений типа объект на циферки \n",
    "replace_price_range = {'$': 0, '$$ - $$$': 1, '$$$$':2}\n",
    "data['Price Range'] = data['Price Range'].map(replace_price_range)"
   ]
  },
  {
   "cell_type": "code",
   "execution_count": 23,
   "metadata": {},
   "outputs": [],
   "source": [
    "# самая популярная кухня в среднем ценовом сегменте\n",
    "# data[data['Price Range']==1][list(cuisins.keys())].sum().sort_values().tail(15)"
   ]
  },
  {
   "cell_type": "markdown",
   "metadata": {},
   "source": [
    "Никаких новых знаний получить не удалось. В колонке было очень много пропусков. Отменил в датасете этот факт. Заполнил пропуски самым популярным значением. Произвел Label Encoding"
   ]
  },
  {
   "cell_type": "markdown",
   "metadata": {},
   "source": [
    "## 2. 5 number of reviews"
   ]
  },
  {
   "cell_type": "code",
   "execution_count": 24,
   "metadata": {},
   "outputs": [],
   "source": [
    "# отмечу строки с пропусками, для них создам специальный столбец\n",
    "data['Number_of_Reviews_isNAN'] = data['Number of Reviews'].isnull().astype(int)\n",
    "\n",
    "\n",
    "# заполнение средними по каждому городу, но надо до каонца разобраться с синтаксисом конструкции трансформ\n",
    "data['Number of Reviews'] = data.groupby(\"City\")['Number of Reviews'].transform(lambda x: x.fillna(x.mean()))\n",
    "\n",
    "# количество отзывов на каждого человека в городе\n",
    "data['reviews_per_each_person'] = data['Number of Reviews'] / data['population']\n",
    "\n",
    "# среднее количество отзывов по городам\n",
    "reviews_per_city = data.groupby(by='City')['Number of Reviews'].mean()\n",
    "data['reviews_per_city'] = data['City'].apply(lambda x: reviews_per_city[x])"
   ]
  },
  {
   "cell_type": "code",
   "execution_count": 25,
   "metadata": {},
   "outputs": [],
   "source": [
    "scaler = StandardScaler()\n",
    "data['reviews_per_each_person'] = scaler.fit_transform(data[['reviews_per_each_person']])"
   ]
  },
  {
   "cell_type": "markdown",
   "metadata": {},
   "source": [
    "Данные достаточно чистые, но там где были пропуски все равно был создан столбец с пометкой об этом. \n",
    "- пропуски заполнены средними значениями для каждого города, есть еще вариант заполнить пропуски нулями, но вывести новый столбец для средних значения для каждого города\n",
    "- создан столбец с количеством отзывов для каждого человека"
   ]
  },
  {
   "cell_type": "markdown",
   "metadata": {},
   "source": [
    "## 2.6 Ranking"
   ]
  },
  {
   "cell_type": "code",
   "execution_count": 26,
   "metadata": {},
   "outputs": [
    {
     "data": {
      "text/plain": [
       "<matplotlib.axes._subplots.AxesSubplot at 0x7f23a1cf3550>"
      ]
     },
     "execution_count": 26,
     "metadata": {},
     "output_type": "execute_result"
    },
    {
     "data": {
      "image/png": "[encoded data removed]",
      "text/plain": [
       "<Figure size 720x504 with 1 Axes>"
      ]
     },
     "metadata": {
      "needs_background": "light"
     },
     "output_type": "display_data"
    }
   ],
   "source": [
    "# распределение параметра ранкинг. Много значений, которые даже не дотягивают до 2500 места в своем городе\n",
    "plt.rcParams['figure.figsize'] = (10,7)\n",
    "df_train['Ranking'].hist(bins=100)"
   ]
  },
  {
   "cell_type": "code",
   "execution_count": 27,
   "metadata": {},
   "outputs": [
    {
     "data": {
      "text/plain": [
       "<matplotlib.axes._subplots.AxesSubplot at 0x7f238dd58208>"
      ]
     },
     "execution_count": 27,
     "metadata": {},
     "output_type": "execute_result"
    },
    {
     "data": {
      "image/png": "[encoded data removed]",
      "text/plain": [
       "<Figure size 720x504 with 1 Axes>"
      ]
     },
     "metadata": {
      "needs_background": "light"
     },
     "output_type": "display_data"
    }
   ],
   "source": [
    "# самые ресторанные города, если можно так сказать\n",
    "data['City'].value_counts(ascending=True).plot(kind='barh')"
   ]
  },
  {
   "cell_type": "code",
   "execution_count": 28,
   "metadata": {},
   "outputs": [
    {
     "data": {
      "text/plain": [
       "<matplotlib.axes._subplots.AxesSubplot at 0x7f2383e42d30>"
      ]
     },
     "execution_count": 28,
     "metadata": {},
     "output_type": "execute_result"
    },
    {
     "data": {
      "image/png": "[encoded data removed]",
      "text/plain": [
       "<Figure size 720x504 with 1 Axes>"
      ]
     },
     "metadata": {
      "needs_background": "light"
     },
     "output_type": "display_data"
    }
   ],
   "source": [
    "data['Ranking'][data['City'] == 'London'].hist(bins=100)\n",
    "# не знаю почему это распределение называют нормальным. Для Лондона следующее распределение. Посмотрим на распределение других городов"
   ]
  },
  {
   "cell_type": "code",
   "execution_count": 29,
   "metadata": {},
   "outputs": [
    {
     "data": {
      "image/png": "[encoded data removed]",
      "text/plain": [
       "<Figure size 720x504 with 1 Axes>"
      ]
     },
     "metadata": {
      "needs_background": "light"
     },
     "output_type": "display_data"
    }
   ],
   "source": [
    "for x in (data['City'].value_counts())[0:10].index:\n",
    "    data['Ranking'][data['City'] == x].hist(bins=100)\n",
    "plt.show()\n",
    "\n",
    "# Здесь видно что форма распределения повторяется, но видно смещение, это связано с размерами города"
   ]
  },
  {
   "cell_type": "code",
   "execution_count": 30,
   "metadata": {},
   "outputs": [],
   "source": [
    "# приведем значения к виду от -1 до 1\n",
    "\n",
    "# средний ранкинг для каждого города\n",
    "mean_per_city = data.groupby('City')['Ranking'].mean()\n",
    "data['mean_ranking_per_city'] = data['City'].apply(lambda x: mean_per_city[x])\n",
    "\n",
    "#  масмимальный ранкинг для каждого города\n",
    "max_per_city = data.groupby('City')['Ranking'].max()\n",
    "data['max_per_city'] = data['City'].apply(lambda x: max_per_city[x])\n",
    "\n",
    "# стандартизация\n",
    "data['stand'] = (data['Ranking'] - data['mean_ranking_per_city']) / data['max_per_city']\n"
   ]
  },
  {
   "cell_type": "code",
   "execution_count": 31,
   "metadata": {},
   "outputs": [
    {
     "data": {
      "image/png": "[encoded data removed]",
      "text/plain": [
       "<Figure size 720x504 with 1 Axes>"
      ]
     },
     "metadata": {
      "needs_background": "light"
     },
     "output_type": "display_data"
    }
   ],
   "source": [
    "# посмотрим обновленое распределение для тех же городов\n",
    "for x in (data['City'].value_counts())[0:10].index:\n",
    "    data['stand'][data['City'] == x].hist(bins=100)\n",
    "plt.show()"
   ]
  },
  {
   "cell_type": "markdown",
   "metadata": {},
   "source": [
    "Признак без пропусков. Распределение одинаковое для каждого города. По крайней мере на первый взгляд"
   ]
  },
  {
   "cell_type": "markdown",
   "metadata": {},
   "source": [
    "## 2.7 обработка признака Reviews"
   ]
  },
  {
   "cell_type": "code",
   "execution_count": 32,
   "metadata": {},
   "outputs": [
    {
     "data": {
      "text/plain": [
       "array([0, 2, 1, 3])"
      ]
     },
     "execution_count": 32,
     "metadata": {},
     "output_type": "execute_result"
    }
   ],
   "source": [
    "# количество пропусков\n",
    "data['Reviews'].isna().sum()\n",
    "# выведет 2 пропуска\n",
    "\n",
    "# так же пропуски можно проверить соответствует ли признак значению  [[], []] , т.е. двум пустым спискам\n",
    "(data['Reviews'] == '[[], []]').sum()\n",
    "# таких пропусков уже сильно больше. Таких нашлось 8112\n",
    "# пропуски найденные с помощью isna() можно заполнить пустыми списками\n",
    "\n",
    "data['Reviews'] = data['Reviews'].fillna('[[], []]')\n",
    "\n",
    "# создам признак отображающий есть ли пропуск в данном признаке\n",
    "data['reviews_is_NAN'] = (data['Reviews'] == '[[], []]').astype(int)\n",
    "\n",
    "# признак состоит из двух последних отзывов и даты, в которой этот отзыв оставлен \n",
    "# для начала можно попробовать извлечь значения дат и попробовать извлечь новые знания из этого\n",
    "data['date_of_reviews'] = data['Reviews'].str.findall('\\d+/\\d+/\\d+')\n",
    "\n",
    "# сразу можно проверить, действительно ли содержится два отзыва\n",
    "data['len_date_of_reviews'] = data['date_of_reviews'].apply(len)\n",
    "\n",
    "# быстрая проверка количества отзывов\n",
    "data['len_date_of_reviews'].unique()\n"
   ]
  },
  {
   "cell_type": "code",
   "execution_count": 33,
   "metadata": {},
   "outputs": [
    {
     "data": {
      "text/plain": [
       "5680"
      ]
     },
     "execution_count": 33,
     "metadata": {},
     "output_type": "execute_result"
    }
   ],
   "source": [
    "# встретить значение 0 в признаке len_date_of_reviews было ожидаемо, смотрим на значение = 1\n",
    "data[data['len_date_of_reviews'] == 1].shape[0]\n",
    "\n",
    "# Значений где всего один отзыв оказалось много. Данный факт отмечен в столбце len_date_of_reviews"
   ]
  },
  {
   "cell_type": "code",
   "execution_count": 34,
   "metadata": {},
   "outputs": [
    {
     "data": {
      "text/plain": [
       "10978    [['We visited 21/10/17', 'Best Kebab in London'], ['12/22/2017', '10/19/2017']]  \n",
       "15476    [['The desserts arcade !', 'Visit today 3/1/2017'], ['06/02/2017', '01/03/2017']]\n",
       "24968    [['Good Museum Cafeteria', 'Lunch 30/5/2017'], ['04/13/2017', '05/30/2017']]     \n",
       "47956    [['lunch 29/9/2016', 'Unplanned Great Dinner'], ['09/30/2016', '08/25/2016']]    \n",
       "Name: Reviews, dtype: object"
      ]
     },
     "execution_count": 34,
     "metadata": {},
     "output_type": "execute_result"
    }
   ],
   "source": [
    "# случаев когда оказалось 3 даты немного, поэтому можно их рассмореть поближе\n",
    "data[data['len_date_of_reviews'] == 3].Reviews"
   ]
  },
  {
   "cell_type": "code",
   "execution_count": 35,
   "metadata": {},
   "outputs": [],
   "source": [
    "# видно что некоторые пользователи записывали дату своего посещения\n",
    "# этот можно можно немного отредактировать\n",
    "data['date_of_reviews'] = data['date_of_reviews'].apply(lambda x: x[1:] if len(x) > 2 else x)\n",
    "\n",
    "# соответственно надо испрвить колонку len_date_of_reviews, т.к. значений = 3 больше нет\n",
    "data['len_date_of_reviews'] = data['date_of_reviews'].apply(len)"
   ]
  },
  {
   "cell_type": "code",
   "execution_count": 36,
   "metadata": {},
   "outputs": [],
   "source": [
    "def days_between_dates(dates):\n",
    "\n",
    "#     это функция высчитывает количество дней между отзывами\n",
    "        \n",
    "    if len(dates) == 0:\n",
    "        return 1800\n",
    "    if len(dates) == 1:\n",
    "        return 3600\n",
    "    dt_list = []\n",
    "    for date in dates:\n",
    "        dt = pd.to_datetime(date)\n",
    "        dt_list.append(dt)\n",
    "    return int((max(dt_list) - min(dt_list)).days)"
   ]
  },
  {
   "cell_type": "code",
   "execution_count": 37,
   "metadata": {},
   "outputs": [],
   "source": [
    "# создание нового признака. Количество дней между последними отзывами, если отзывов нет, выведет -1, если отзыв один, выведет -2 \n",
    "data['days_between'] = data['date_of_reviews'].apply(days_between_dates)"
   ]
  },
  {
   "cell_type": "code",
   "execution_count": 38,
   "metadata": {},
   "outputs": [
    {
     "data": {
      "text/plain": [
       "0        1800\n",
       "1        3   \n",
       "2        5   \n",
       "3        11  \n",
       "4        2   \n",
       "        ..   \n",
       "49995    42  \n",
       "49996    45  \n",
       "49997    100 \n",
       "49998    37  \n",
       "49999    14  \n",
       "Name: days_between, Length: 50000, dtype: int64"
      ]
     },
     "execution_count": 38,
     "metadata": {},
     "output_type": "execute_result"
    }
   ],
   "source": [
    "data['days_between']"
   ]
  },
  {
   "cell_type": "markdown",
   "metadata": {},
   "source": [
    "Пробуски в признаке встречаются. Так же есть признаки, где данные заполнены наполовину. Например 1 отзыв и соответственно одна дата.\n",
    "- заполнены пропуски и создан признак с отметкой об этом\n",
    "- создан признак с количеством отзывов для конкретного рестора\n",
    "- создан признак перерыв между двумя датами. \n",
    "\n",
    "В дальнешей можно попробовать найти оттенок отзыва. При переходе на случайную ссылку, представленной в данном датасе я заметил что оценка которая стоит в датасете не совпадает с оценкой в ресторане, поэтому не уверен что необходимо парсить данные со страницы ресторанов. Можно попробовать в дальнейшем создать новый признак такой как в какое время суток чаще всего посещают каждое заведение, но опять таки. Я не знаю насколько информация из 2020 года будет актуально для 2017"
   ]
  },
  {
   "cell_type": "markdown",
   "metadata": {},
   "source": [
    "## 2.8. URL_TA"
   ]
  },
  {
   "cell_type": "code",
   "execution_count": 39,
   "metadata": {},
   "outputs": [
    {
     "data": {
      "text/plain": [
       "/Restaurant_Review-g187514-d8753348-Reviews-Tropecientos-Madrid.html                                       2\n",
       "/Restaurant_Review-g187514-d793170-Reviews-Caripen_Bistro-Madrid.html                                      2\n",
       "/Restaurant_Review-g187514-d1028622-Reviews-La_Terraza_del_Urban-Madrid.html                               2\n",
       "/Restaurant_Review-g187514-d12488993-Reviews-Kathmandu_Tandoori_House_Nepali_Indian_Cuisine-Madrid.html    2\n",
       "/Restaurant_Review-g187514-d9877640-Reviews-Raku_Sushi-Madrid.html                                         2\n",
       "                                                                                                          ..\n",
       "/Restaurant_Review-g274856-d3377030-Reviews-Burger_Bar-Warsaw_Mazovia_Province_Central_Poland.html         1\n",
       "/Restaurant_Review-g187147-d3731107-Reviews-Le_Richer-Paris_Ile_de_France.html                             1\n",
       "/Restaurant_Review-g189158-d11802057-Reviews-La_Strada-Lisbon_Lisbon_District_Central_Portugal.html        1\n",
       "/Restaurant_Review-g187514-d990995-Reviews-Luso-Madrid.html                                                1\n",
       "/Restaurant_Review-g187497-d8757440-Reviews-Pans_Company-Barcelona_Catalonia.html                          1\n",
       "Name: URL_TA, Length: 49963, dtype: int64"
      ]
     },
     "execution_count": 39,
     "metadata": {},
     "output_type": "execute_result"
    }
   ],
   "source": [
    "data['URL_TA'].value_counts()"
   ]
  },
  {
   "cell_type": "markdown",
   "metadata": {},
   "source": [
    "Я думал что таким образом можнжо будет вычислить сетевые рестораны, но увы. Не знаю как может пригодиться этот признак, поэтому в дальнейшем я просто его удалю"
   ]
  },
  {
   "cell_type": "markdown",
   "metadata": {},
   "source": [
    "## 2.9 ID_TA"
   ]
  },
  {
   "cell_type": "code",
   "execution_count": 40,
   "metadata": {},
   "outputs": [
    {
     "data": {
      "text/plain": [
       "d5617412     2\n",
       "d1568045     2\n",
       "d10047799    2\n",
       "d3685055     2\n",
       "d3396817     2\n",
       "            ..\n",
       "d696881      1\n",
       "d2005424     1\n",
       "d8132523     1\n",
       "d10911068    1\n",
       "d1423496     1\n",
       "Name: ID_TA, Length: 49963, dtype: int64"
      ]
     },
     "execution_count": 40,
     "metadata": {},
     "output_type": "execute_result"
    }
   ],
   "source": [
    "data['ID_TA'].value_counts()"
   ]
  },
  {
   "cell_type": "markdown",
   "metadata": {},
   "source": [
    "### И один из моих любимых - [корреляция признаков](https://ru.wikipedia.org/wiki/Корреляция)\n",
    "На этом графике уже сейчас вы сможете заметить, как признаки связаны между собой и с целевой переменной."
   ]
  },
  {
   "cell_type": "code",
   "execution_count": 41,
   "metadata": {},
   "outputs": [
    {
     "data": {
      "text/plain": [
       "<matplotlib.axes._subplots.AxesSubplot at 0x7f2383d59e80>"
      ]
     },
     "execution_count": 41,
     "metadata": {},
     "output_type": "execute_result"
    },
    {
     "data": {
      "image/png": "[encoded data removed]",
      "text/plain": [
       "<Figure size 1080x720 with 2 Axes>"
      ]
     },
     "metadata": {
      "needs_background": "light"
     },
     "output_type": "display_data"
    }
   ],
   "source": [
    "plt.rcParams['figure.figsize'] = (15,10)\n",
    "sns.heatmap(data.drop(['sample'], axis=1).corr(),)"
   ]
  },
  {
   "cell_type": "markdown",
   "metadata": {},
   "source": [
    "Вообще благодаря визуализации в этом датасете можно узнать много интересных фактов, например:\n",
    "* где больше Пицерий в Мадриде или Лондоне?\n",
    "* в каком городе кухня ресторанов более разнообразна?\n",
    "\n",
    "придумайте свои вопрос и найдите на него ответ в данных)"
   ]
  },
  {
   "cell_type": "markdown",
   "metadata": {},
   "source": [
    "# Data Preprocessing\n",
    "Теперь, для удобства и воспроизводимости кода, завернем всю обработку в одну большую функцию."
   ]
  },
  {
   "cell_type": "code",
   "execution_count": 42,
   "metadata": {},
   "outputs": [],
   "source": [
    "def preproc_data(df_input):\n",
    "    '''includes several functions to pre-process the predictor data.'''\n",
    "    \n",
    "    scaler = StandardScaler()\n",
    "    \n",
    "    data = df_input.copy()\n",
    "    \n",
    "    ############################## Restaurant_id   ###################################\n",
    "    \n",
    "    # создания признака один ли ресторан или это сеть\n",
    "    chain_restaurant = data.groupby('Restaurant_id')['City'].count().rename('one_or_more')\n",
    "    data = pd.merge(data, chain_restaurant, on='Restaurant_id')\n",
    "    \n",
    "    ############################## City   ###################################\n",
    "    \n",
    "    # население каждого города\n",
    "    data['population'] = data['City'].map(population)\n",
    "    # Определение страны для каждого города из датасета\n",
    "    data['country'] = data['City'].map(country)\n",
    "    # сколько ресторанов в каждом городе\n",
    "    restaurant_in_city = data.groupby('City')['ID_TA'].count().rename('restaurant_in_city')\n",
    "    data = pd.merge(data, restaurant_in_city, on='City')\n",
    "    # количество ресторанов на каждого человека\n",
    "    data['restaurant_per_person'] = data['restaurant_in_city'] / data['population']\n",
    "    # столица или не столица\n",
    "    data['capital'] = data['City'].apply(lambda x: 0 if x in not_Capital else 1 )\n",
    "    # one hot enconding for city and contry\n",
    "    dummy_city = pd.get_dummies(data['City'])\n",
    "    dummy_country = pd.get_dummies(data['country'])\n",
    "    data = pd.concat([data, dummy_city, dummy_country], axis=1) \n",
    "    \n",
    "    ############################## Cuisine  ###################################\n",
    "    \n",
    "    # создаю столбец, с отметками о том, где были пропуски\n",
    "    data['Cuisine_style_ISNA'] = data['Cuisine Style'].isna().astype(int)\n",
    "    # заполнение пустых ячеек\n",
    "    data['Cuisine Style'] = data['Cuisine Style'].fillna(\"['Other']\")\n",
    "    # преобразование стилей кухни к нормальному виду\n",
    "    data['Cuisine Style'] = data['Cuisine Style'].str.findall(r\"'(\\b.*?\\b)'\")\n",
    "    # разнообразие кухни\n",
    "    data['variety'] = data['Cuisine Style'].apply(len)    \n",
    "    # созднаие dummy переменных для видов кухни\n",
    "    for cuisin in set_cuisins:\n",
    "        data[cuisin] = data['Cuisine Style'].apply(lambda x: 1 if cuisin in x else 0)\n",
    "        \n",
    "    ############################## Price Range  ###################################\n",
    "    \n",
    "    # перед обработкой признака, создаю колонку с отображениями пропуска\n",
    "    data['Price_Range_isNAN'] = data['Price Range'].isnull().astype(int)\n",
    "    # заполнение пропусков\n",
    "    data['Price Range'] = data['Price Range'].fillna('$$ - $$$')\n",
    "    # замена значений типа объект на циферки \n",
    "    replace_price_range = {'$': 0, '$$ - $$$': 1, '$$$$':2}    \n",
    "    data['Price Range'] = data['Price Range'].map(replace_price_range)\n",
    "    \n",
    "    ############################## Number of Reviews  ###################################\n",
    "    \n",
    "    # отмечу строки с пропусками, для создам специальный столбец\n",
    "    data['Number_of_Reviews_isNAN'] = data['Number of Reviews'].isnull().astype(int)\n",
    "    # заполнение средними по каждому городу, но надо до каонца разобраться с синтаксисом конструкции трансформ\n",
    "    data['Number of Reviews'] = data.groupby(\"City\")['Number of Reviews'].transform(lambda x: x.fillna(x.mean()))\n",
    "    # количество отзывов на каждого человека в городе\n",
    "    # мне кажется что в данном случае будет проще находить зависимость рейтинга от количества отзывов, если такая связь вообще существет\n",
    "    data['reviews_per_each_person'] = (data['Number of Reviews'] / data['population'])\n",
    "#     стандартизация данных т..к получаются очень маленькие числа\n",
    "    data['reviews_per_each_person'] = scaler.fit_transform(data[['reviews_per_each_person']])\n",
    "    \n",
    "    \n",
    "    reviews_per_city = data.groupby(by='City')['Number of Reviews'].mean()\n",
    "    data['reviews_per_city'] = data['City'].apply(lambda x: reviews_per_city[x])\n",
    "    \n",
    "    ############################## Ranking  ###################################    \n",
    "    \n",
    "    mean_per_city = data.groupby('City')['Ranking'].mean()\n",
    "    data['mean_ranking_per_city'] = data['City'].apply(lambda x: mean_per_city[x])\n",
    "    #  масмимальный ранкинг для каждого города\n",
    "    max_per_city = data.groupby('City')['Ranking'].max()\n",
    "    data['max_per_city'] = data['City'].apply(lambda x: max_per_city[x])\n",
    "    # стандартизация\n",
    "    data['stand'] = (data['Ranking'] - data['mean_ranking_per_city']) / data['max_per_city']\n",
    "    \n",
    "    ############################## Reviews  ###################################\n",
    "    \n",
    "    # пропуски найденные с помощью isna() можно заполнить пустыми списками\n",
    "    data['Reviews'] = data['Reviews'].fillna('[[], []]')\n",
    "    # создам признак отображающий есть ли пропуск в данном признаке\n",
    "    data['reviews_is_NAN'] = (data['Reviews'] == '[[], []]').astype(int)\n",
    "    # признак состоит из двух последних отзывов и даты, в которой этот отзыв оставлен \n",
    "    # для начала можно попробовать извлечь значения дат и попробовать извлечь новые знания для этого\n",
    "    data['date_of_reviews'] = data['Reviews'].str.findall('\\d+/\\d+/\\d+')\n",
    "    # сразу можно проверить, действительно ли содержится два отзыва\n",
    "    data['len_date_of_reviews'] = data['date_of_reviews'].apply(len)\n",
    "    # видно что некоторые пользователи записывали дату своего посещения\n",
    "    # этот можно можно немного отредактировать\n",
    "    data['date_of_reviews'] = data.date_of_reviews.apply(lambda x: x[1:] if len(x) == 3 else x)\n",
    "    # соответственно надо испрвить колонку len_date_of_reviews, т.к. значений = 3 больше нет\n",
    "    data['len_date_of_reviews'] = data['date_of_reviews'].apply(len)\n",
    "    # создание нового признака. Количество дней между последними отзывами, если отзывов нет, выведет -1, если отзыв один, выведет -2 \n",
    "    data['days_between'] = data['date_of_reviews'].apply(days_between_dates)    \n",
    "    \n",
    "    return data"
   ]
  },
  {
   "cell_type": "markdown",
   "metadata": {},
   "source": [
    ">По хорошему, можно было бы перевести эту большую функцию в класс и разбить на подфункции (согласно ООП). "
   ]
  },
  {
   "cell_type": "code",
   "execution_count": 43,
   "metadata": {},
   "outputs": [
    {
     "name": "stdout",
     "output_type": "stream",
     "text": [
      "<class 'pandas.core.frame.DataFrame'>\n",
      "RangeIndex: 50000 entries, 0 to 49999\n",
      "Data columns (total 11 columns):\n",
      "Restaurant_id        50000 non-null object\n",
      "City                 50000 non-null object\n",
      "Cuisine Style        38410 non-null object\n",
      "Ranking              50000 non-null float64\n",
      "Price Range          32639 non-null object\n",
      "Number of Reviews    46800 non-null float64\n",
      "Reviews              49998 non-null object\n",
      "URL_TA               50000 non-null object\n",
      "ID_TA                50000 non-null object\n",
      "sample               50000 non-null int64\n",
      "Rating               50000 non-null float64\n",
      "dtypes: float64(3), int64(1), object(7)\n",
      "memory usage: 4.2+ MB\n"
     ]
    }
   ],
   "source": [
    "# на всякий случай, заново подгружаем данные\n",
    "df_train = pd.read_csv(DATA_DIR+'/main_task.csv')\n",
    "df_test = pd.read_csv(DATA_DIR+'/kaggle_task.csv')\n",
    "df_train['sample'] = 1 # помечаем где у нас трейн\n",
    "df_test['sample'] = 0 # помечаем где у нас тест\n",
    "df_test['Rating'] = 0 # в тесте у нас нет значения Rating, мы его должны предсказать, по этому пока просто заполняем нулями\n",
    "\n",
    "df = df_test.append(df_train, sort=False).reset_index(drop=True) # объединяем\n",
    "df.info()"
   ]
  },
  {
   "cell_type": "markdown",
   "metadata": {},
   "source": [
    "#### Запускаем и проверяем что получилось"
   ]
  },
  {
   "cell_type": "code",
   "execution_count": 44,
   "metadata": {},
   "outputs": [
    {
     "data": {
      "text/html": [
       "<div>\n",
       "<style scoped>\n",
       "    .dataframe tbody tr th:only-of-type {\n",
       "        vertical-align: middle;\n",
       "    }\n",
       "\n",
       "    .dataframe tbody tr th {\n",
       "        vertical-align: top;\n",
       "    }\n",
       "\n",
       "    .dataframe thead th {\n",
       "        text-align: right;\n",
       "    }\n",
       "</style>\n",
       "<table border=\"1\" class=\"dataframe\">\n",
       "  <thead>\n",
       "    <tr style=\"text-align: right;\">\n",
       "      <th></th>\n",
       "      <th>Restaurant_id</th>\n",
       "      <th>City</th>\n",
       "      <th>Cuisine Style</th>\n",
       "      <th>Ranking</th>\n",
       "      <th>Price Range</th>\n",
       "      <th>Number of Reviews</th>\n",
       "      <th>Reviews</th>\n",
       "      <th>URL_TA</th>\n",
       "      <th>ID_TA</th>\n",
       "      <th>sample</th>\n",
       "      <th>...</th>\n",
       "      <th>Number_of_Reviews_isNAN</th>\n",
       "      <th>reviews_per_each_person</th>\n",
       "      <th>reviews_per_city</th>\n",
       "      <th>mean_ranking_per_city</th>\n",
       "      <th>max_per_city</th>\n",
       "      <th>stand</th>\n",
       "      <th>reviews_is_NAN</th>\n",
       "      <th>date_of_reviews</th>\n",
       "      <th>len_date_of_reviews</th>\n",
       "      <th>days_between</th>\n",
       "    </tr>\n",
       "  </thead>\n",
       "  <tbody>\n",
       "    <tr>\n",
       "      <th>19040</th>\n",
       "      <td>id_4913</td>\n",
       "      <td>Milan</td>\n",
       "      <td>[Italian, Pizza]</td>\n",
       "      <td>4916.0</td>\n",
       "      <td>0</td>\n",
       "      <td>81.0</td>\n",
       "      <td>[['best experience', 'Crust was fantastic, very nice people'], ['10/07/2017', '01/17/2016']]</td>\n",
       "      <td>/Restaurant_Review-g187849-d4023195-Reviews-Pizzamente_pizza-Milan_Lombardy.html</td>\n",
       "      <td>d4023195</td>\n",
       "      <td>1</td>\n",
       "      <td>...</td>\n",
       "      <td>0</td>\n",
       "      <td>-0.132434</td>\n",
       "      <td>168.298869</td>\n",
       "      <td>3106.02784</td>\n",
       "      <td>6275.0</td>\n",
       "      <td>0.288442</td>\n",
       "      <td>0</td>\n",
       "      <td>[10/07/2017, 01/17/2016]</td>\n",
       "      <td>2</td>\n",
       "      <td>629</td>\n",
       "    </tr>\n",
       "    <tr>\n",
       "      <th>45178</th>\n",
       "      <td>id_1807</td>\n",
       "      <td>Barcelona</td>\n",
       "      <td>[Spanish, Vegetarian Friendly, Gluten Free Options]</td>\n",
       "      <td>1808.0</td>\n",
       "      <td>1</td>\n",
       "      <td>391.0</td>\n",
       "      <td>[['Quirky service and average food', 'Classy decor, the rest much worse'], ['01/04/2018', '01/01/2018']]</td>\n",
       "      <td>/Restaurant_Review-g187497-d3392907-Reviews-Restaurante_Ferran-Barcelona_Catalonia.html</td>\n",
       "      <td>d3392907</td>\n",
       "      <td>1</td>\n",
       "      <td>...</td>\n",
       "      <td>0</td>\n",
       "      <td>0.318538</td>\n",
       "      <td>135.683096</td>\n",
       "      <td>3879.42268</td>\n",
       "      <td>7796.0</td>\n",
       "      <td>-0.265703</td>\n",
       "      <td>0</td>\n",
       "      <td>[01/04/2018, 01/01/2018]</td>\n",
       "      <td>2</td>\n",
       "      <td>3</td>\n",
       "    </tr>\n",
       "  </tbody>\n",
       "</table>\n",
       "<p>2 rows × 210 columns</p>\n",
       "</div>"
      ],
      "text/plain": [
       "      Restaurant_id       City  \\\n",
       "19040  id_4913       Milan       \n",
       "45178  id_1807       Barcelona   \n",
       "\n",
       "                                             Cuisine Style  Ranking  \\\n",
       "19040  [Italian, Pizza]                                     4916.0    \n",
       "45178  [Spanish, Vegetarian Friendly, Gluten Free Options]  1808.0    \n",
       "\n",
       "       Price Range  Number of Reviews  \\\n",
       "19040  0            81.0                \n",
       "45178  1            391.0               \n",
       "\n",
       "                                                                                                        Reviews  \\\n",
       "19040  [['best experience', 'Crust was fantastic, very nice people'], ['10/07/2017', '01/17/2016']]               \n",
       "45178  [['Quirky service and average food', 'Classy decor, the rest much worse'], ['01/04/2018', '01/01/2018']]   \n",
       "\n",
       "                                                                                        URL_TA  \\\n",
       "19040  /Restaurant_Review-g187849-d4023195-Reviews-Pizzamente_pizza-Milan_Lombardy.html          \n",
       "45178  /Restaurant_Review-g187497-d3392907-Reviews-Restaurante_Ferran-Barcelona_Catalonia.html   \n",
       "\n",
       "          ID_TA  sample  ...  Number_of_Reviews_isNAN  \\\n",
       "19040  d4023195  1       ...  0                         \n",
       "45178  d3392907  1       ...  0                         \n",
       "\n",
       "       reviews_per_each_person  reviews_per_city mean_ranking_per_city  \\\n",
       "19040 -0.132434                 168.298869        3106.02784             \n",
       "45178  0.318538                 135.683096        3879.42268             \n",
       "\n",
       "       max_per_city     stand  reviews_is_NAN           date_of_reviews  \\\n",
       "19040  6275.0        0.288442  0               [10/07/2017, 01/17/2016]   \n",
       "45178  7796.0       -0.265703  0               [01/04/2018, 01/01/2018]   \n",
       "\n",
       "       len_date_of_reviews  days_between  \n",
       "19040  2                    629           \n",
       "45178  2                    3             \n",
       "\n",
       "[2 rows x 210 columns]"
      ]
     },
     "execution_count": 44,
     "metadata": {},
     "output_type": "execute_result"
    }
   ],
   "source": [
    "df_preproc = preproc_data(df)\n",
    "df_preproc.sample(2)"
   ]
  },
  {
   "cell_type": "code",
   "execution_count": 45,
   "metadata": {},
   "outputs": [],
   "source": [
    "object_columns = df_preproc.select_dtypes(include='object').columns\n",
    "df_preproc.drop(object_columns, axis = 1, inplace=True)"
   ]
  },
  {
   "cell_type": "code",
   "execution_count": 46,
   "metadata": {},
   "outputs": [
    {
     "name": "stdout",
     "output_type": "stream",
     "text": [
      "<class 'pandas.core.frame.DataFrame'>\n",
      "Int64Index: 50000 entries, 0 to 49999\n",
      "Columns: 202 entries, Ranking to days_between\n",
      "dtypes: float64(9), int64(139), uint8(54)\n",
      "memory usage: 59.4 MB\n"
     ]
    }
   ],
   "source": [
    "df_preproc.info()"
   ]
  },
  {
   "cell_type": "code",
   "execution_count": 47,
   "metadata": {},
   "outputs": [],
   "source": [
    "# Теперь выделим тестовую часть\n",
    "train_data = df_preproc.query('sample == 1').drop(['sample'], axis=1)\n",
    "test_data = df_preproc.query('sample == 0').drop(['sample'], axis=1)\n",
    "\n",
    "y = train_data.Rating.values            # наш таргет\n",
    "X = train_data.drop(['Rating'], axis=1)"
   ]
  },
  {
   "cell_type": "markdown",
   "metadata": {},
   "source": [
    "**Перед тем как отправлять наши данные на обучение, разделим данные на еще один тест и трейн, для валидации. \n",
    "Это поможет нам проверить, как хорошо наша модель работает, до отправки submissiona на kaggle.**"
   ]
  },
  {
   "cell_type": "code",
   "execution_count": 48,
   "metadata": {},
   "outputs": [],
   "source": [
    "# Воспользуемся специальной функцие train_test_split для разбивки тестовых данных\n",
    "# выделим 20% данных на валидацию (параметр test_size)\n",
    "X_train, X_test, y_train, y_test = train_test_split(X, y, test_size=0.2, random_state=RANDOM_SEED)"
   ]
  },
  {
   "cell_type": "code",
   "execution_count": 49,
   "metadata": {},
   "outputs": [
    {
     "data": {
      "text/plain": [
       "((10000, 201), (40000, 201), (40000, 200), (32000, 200), (8000, 200))"
      ]
     },
     "execution_count": 49,
     "metadata": {},
     "output_type": "execute_result"
    }
   ],
   "source": [
    "# проверяем\n",
    "test_data.shape, train_data.shape, X.shape, X_train.shape, X_test.shape"
   ]
  },
  {
   "cell_type": "markdown",
   "metadata": {},
   "source": [
    "# Model \n",
    "Сам ML"
   ]
  },
  {
   "cell_type": "code",
   "execution_count": 50,
   "metadata": {},
   "outputs": [],
   "source": [
    "# Импортируем необходимые библиотеки:\n",
    "from sklearn.ensemble import RandomForestRegressor # инструмент для создания и обучения модели\n",
    "from sklearn import metrics # инструменты для оценки точности модели"
   ]
  },
  {
   "cell_type": "code",
   "execution_count": 51,
   "metadata": {},
   "outputs": [],
   "source": [
    "# Создаём модель (НАСТРОЙКИ НЕ ТРОГАЕМ)\n",
    "model = RandomForestRegressor(n_estimators=100, verbose=1, n_jobs=-1, random_state=RANDOM_SEED)"
   ]
  },
  {
   "cell_type": "code",
   "execution_count": 52,
   "metadata": {},
   "outputs": [
    {
     "name": "stderr",
     "output_type": "stream",
     "text": [
      "[Parallel(n_jobs=-1)]: Using backend ThreadingBackend with 4 concurrent workers.\n",
      "[Parallel(n_jobs=-1)]: Done  42 tasks      | elapsed:    9.8s\n",
      "[Parallel(n_jobs=-1)]: Done 100 out of 100 | elapsed:   22.3s finished\n",
      "[Parallel(n_jobs=4)]: Using backend ThreadingBackend with 4 concurrent workers.\n",
      "[Parallel(n_jobs=4)]: Done  42 tasks      | elapsed:    0.0s\n",
      "[Parallel(n_jobs=4)]: Done 100 out of 100 | elapsed:    0.1s finished\n"
     ]
    }
   ],
   "source": [
    "# Обучаем модель на тестовом наборе данных\n",
    "model.fit(X_train, y_train)\n",
    "\n",
    "# Используем обученную модель для предсказания рейтинга ресторанов в тестовой выборке.\n",
    "# Предсказанные значения записываем в переменную y_pred\n",
    "y_pred = model.predict(X_test)\n",
    "y_pred = np.round(y_pred*2) / 2"
   ]
  },
  {
   "cell_type": "code",
   "execution_count": 53,
   "metadata": {},
   "outputs": [
    {
     "name": "stdout",
     "output_type": "stream",
     "text": [
      "MAE: 0.1765\n"
     ]
    }
   ],
   "source": [
    "# Сравниваем предсказанные значения (y_pred) с реальными (y_test), и смотрим насколько они в среднем отличаются\n",
    "# Метрика называется Mean Absolute Error (MAE) и показывает среднее отклонение предсказанных значений от фактических.\n",
    "print('MAE:', metrics.mean_absolute_error(y_test, y_pred))"
   ]
  },
  {
   "cell_type": "code",
   "execution_count": 54,
   "metadata": {},
   "outputs": [
    {
     "data": {
      "text/plain": [
       "<matplotlib.axes._subplots.AxesSubplot at 0x7f23448837f0>"
      ]
     },
     "execution_count": 54,
     "metadata": {},
     "output_type": "execute_result"
    },
    {
     "data": {
      "image/png": "[encoded data removed]",
      "text/plain": [
       "<Figure size 720x720 with 1 Axes>"
      ]
     },
     "metadata": {
      "needs_background": "light"
     },
     "output_type": "display_data"
    }
   ],
   "source": [
    "# в RandomForestRegressor есть возможность вывести самые важные признаки для модели\n",
    "plt.rcParams['figure.figsize'] = (10,10)\n",
    "feat_importances = pd.Series(model.feature_importances_, index=X.columns)\n",
    "feat_importances.nlargest(15).plot(kind='barh')"
   ]
  },
  {
   "cell_type": "markdown",
   "metadata": {},
   "source": [
    "# Submission\n",
    "Если все устраевает - готовим Submission на кагл"
   ]
  },
  {
   "cell_type": "code",
   "execution_count": 55,
   "metadata": {},
   "outputs": [
    {
     "data": {
      "text/html": [
       "<div>\n",
       "<style scoped>\n",
       "    .dataframe tbody tr th:only-of-type {\n",
       "        vertical-align: middle;\n",
       "    }\n",
       "\n",
       "    .dataframe tbody tr th {\n",
       "        vertical-align: top;\n",
       "    }\n",
       "\n",
       "    .dataframe thead th {\n",
       "        text-align: right;\n",
       "    }\n",
       "</style>\n",
       "<table border=\"1\" class=\"dataframe\">\n",
       "  <thead>\n",
       "    <tr style=\"text-align: right;\">\n",
       "      <th></th>\n",
       "      <th>Ranking</th>\n",
       "      <th>Price Range</th>\n",
       "      <th>Number of Reviews</th>\n",
       "      <th>Rating</th>\n",
       "      <th>one_or_more</th>\n",
       "      <th>population</th>\n",
       "      <th>restaurant_in_city</th>\n",
       "      <th>restaurant_per_person</th>\n",
       "      <th>capital</th>\n",
       "      <th>Amsterdam</th>\n",
       "      <th>...</th>\n",
       "      <th>Price_Range_isNAN</th>\n",
       "      <th>Number_of_Reviews_isNAN</th>\n",
       "      <th>reviews_per_each_person</th>\n",
       "      <th>reviews_per_city</th>\n",
       "      <th>mean_ranking_per_city</th>\n",
       "      <th>max_per_city</th>\n",
       "      <th>stand</th>\n",
       "      <th>reviews_is_NAN</th>\n",
       "      <th>len_date_of_reviews</th>\n",
       "      <th>days_between</th>\n",
       "    </tr>\n",
       "  </thead>\n",
       "  <tbody>\n",
       "    <tr>\n",
       "      <th>21793</th>\n",
       "      <td>7573.0</td>\n",
       "      <td>1</td>\n",
       "      <td>109.0</td>\n",
       "      <td>0.0</td>\n",
       "      <td>3</td>\n",
       "      <td>3223334</td>\n",
       "      <td>3813</td>\n",
       "      <td>0.001183</td>\n",
       "      <td>1</td>\n",
       "      <td>0</td>\n",
       "      <td>...</td>\n",
       "      <td>0</td>\n",
       "      <td>0</td>\n",
       "      <td>-0.197365</td>\n",
       "      <td>99.911888</td>\n",
       "      <td>4388.516391</td>\n",
       "      <td>8809.0</td>\n",
       "      <td>0.361503</td>\n",
       "      <td>0</td>\n",
       "      <td>2</td>\n",
       "      <td>43</td>\n",
       "    </tr>\n",
       "    <tr>\n",
       "      <th>14786</th>\n",
       "      <td>10550.0</td>\n",
       "      <td>1</td>\n",
       "      <td>5.0</td>\n",
       "      <td>0.0</td>\n",
       "      <td>3</td>\n",
       "      <td>8982256</td>\n",
       "      <td>7193</td>\n",
       "      <td>0.000801</td>\n",
       "      <td>1</td>\n",
       "      <td>0</td>\n",
       "      <td>...</td>\n",
       "      <td>1</td>\n",
       "      <td>0</td>\n",
       "      <td>-0.280061</td>\n",
       "      <td>137.968381</td>\n",
       "      <td>8169.707354</td>\n",
       "      <td>16444.0</td>\n",
       "      <td>0.144751</td>\n",
       "      <td>0</td>\n",
       "      <td>2</td>\n",
       "      <td>36</td>\n",
       "    </tr>\n",
       "    <tr>\n",
       "      <th>36526</th>\n",
       "      <td>2368.0</td>\n",
       "      <td>0</td>\n",
       "      <td>34.0</td>\n",
       "      <td>0.0</td>\n",
       "      <td>9</td>\n",
       "      <td>3644826</td>\n",
       "      <td>2705</td>\n",
       "      <td>0.000742</td>\n",
       "      <td>1</td>\n",
       "      <td>0</td>\n",
       "      <td>...</td>\n",
       "      <td>0</td>\n",
       "      <td>0</td>\n",
       "      <td>-0.258251</td>\n",
       "      <td>63.772188</td>\n",
       "      <td>3255.417745</td>\n",
       "      <td>6372.0</td>\n",
       "      <td>-0.139268</td>\n",
       "      <td>0</td>\n",
       "      <td>2</td>\n",
       "      <td>133</td>\n",
       "    </tr>\n",
       "    <tr>\n",
       "      <th>35726</th>\n",
       "      <td>2333.0</td>\n",
       "      <td>0</td>\n",
       "      <td>68.0</td>\n",
       "      <td>0.0</td>\n",
       "      <td>9</td>\n",
       "      <td>3644826</td>\n",
       "      <td>2705</td>\n",
       "      <td>0.000742</td>\n",
       "      <td>1</td>\n",
       "      <td>0</td>\n",
       "      <td>...</td>\n",
       "      <td>0</td>\n",
       "      <td>0</td>\n",
       "      <td>-0.235057</td>\n",
       "      <td>63.772188</td>\n",
       "      <td>3255.417745</td>\n",
       "      <td>6372.0</td>\n",
       "      <td>-0.144761</td>\n",
       "      <td>0</td>\n",
       "      <td>2</td>\n",
       "      <td>62</td>\n",
       "    </tr>\n",
       "    <tr>\n",
       "      <th>49134</th>\n",
       "      <td>1397.0</td>\n",
       "      <td>1</td>\n",
       "      <td>12.0</td>\n",
       "      <td>0.0</td>\n",
       "      <td>2</td>\n",
       "      <td>664046</td>\n",
       "      <td>776</td>\n",
       "      <td>0.001169</td>\n",
       "      <td>1</td>\n",
       "      <td>0</td>\n",
       "      <td>...</td>\n",
       "      <td>1</td>\n",
       "      <td>0</td>\n",
       "      <td>-0.236513</td>\n",
       "      <td>93.987517</td>\n",
       "      <td>880.213918</td>\n",
       "      <td>1787.0</td>\n",
       "      <td>0.289192</td>\n",
       "      <td>0</td>\n",
       "      <td>1</td>\n",
       "      <td>3600</td>\n",
       "    </tr>\n",
       "    <tr>\n",
       "      <th>490</th>\n",
       "      <td>12325.0</td>\n",
       "      <td>1</td>\n",
       "      <td>80.0</td>\n",
       "      <td>0.0</td>\n",
       "      <td>7</td>\n",
       "      <td>2160928</td>\n",
       "      <td>6108</td>\n",
       "      <td>0.002827</td>\n",
       "      <td>1</td>\n",
       "      <td>0</td>\n",
       "      <td>...</td>\n",
       "      <td>0</td>\n",
       "      <td>0</td>\n",
       "      <td>-0.189396</td>\n",
       "      <td>117.040915</td>\n",
       "      <td>6938.557138</td>\n",
       "      <td>13986.0</td>\n",
       "      <td>0.385131</td>\n",
       "      <td>0</td>\n",
       "      <td>2</td>\n",
       "      <td>36</td>\n",
       "    </tr>\n",
       "    <tr>\n",
       "      <th>10757</th>\n",
       "      <td>8897.0</td>\n",
       "      <td>0</td>\n",
       "      <td>4.0</td>\n",
       "      <td>0.0</td>\n",
       "      <td>6</td>\n",
       "      <td>8982256</td>\n",
       "      <td>7193</td>\n",
       "      <td>0.000801</td>\n",
       "      <td>1</td>\n",
       "      <td>0</td>\n",
       "      <td>...</td>\n",
       "      <td>0</td>\n",
       "      <td>0</td>\n",
       "      <td>-0.280337</td>\n",
       "      <td>137.968381</td>\n",
       "      <td>8169.707354</td>\n",
       "      <td>16444.0</td>\n",
       "      <td>0.044228</td>\n",
       "      <td>0</td>\n",
       "      <td>2</td>\n",
       "      <td>182</td>\n",
       "    </tr>\n",
       "    <tr>\n",
       "      <th>33795</th>\n",
       "      <td>2340.0</td>\n",
       "      <td>1</td>\n",
       "      <td>88.0</td>\n",
       "      <td>0.0</td>\n",
       "      <td>7</td>\n",
       "      <td>1756056</td>\n",
       "      <td>1021</td>\n",
       "      <td>0.000581</td>\n",
       "      <td>1</td>\n",
       "      <td>0</td>\n",
       "      <td>...</td>\n",
       "      <td>0</td>\n",
       "      <td>0</td>\n",
       "      <td>-0.156846</td>\n",
       "      <td>158.680214</td>\n",
       "      <td>1219.061704</td>\n",
       "      <td>2440.0</td>\n",
       "      <td>0.459401</td>\n",
       "      <td>0</td>\n",
       "      <td>2</td>\n",
       "      <td>135</td>\n",
       "    </tr>\n",
       "    <tr>\n",
       "      <th>513</th>\n",
       "      <td>10180.0</td>\n",
       "      <td>1</td>\n",
       "      <td>11.0</td>\n",
       "      <td>0.0</td>\n",
       "      <td>15</td>\n",
       "      <td>2160928</td>\n",
       "      <td>6108</td>\n",
       "      <td>0.002827</td>\n",
       "      <td>1</td>\n",
       "      <td>0</td>\n",
       "      <td>...</td>\n",
       "      <td>1</td>\n",
       "      <td>0</td>\n",
       "      <td>-0.268788</td>\n",
       "      <td>117.040915</td>\n",
       "      <td>6938.557138</td>\n",
       "      <td>13986.0</td>\n",
       "      <td>0.231763</td>\n",
       "      <td>1</td>\n",
       "      <td>0</td>\n",
       "      <td>1800</td>\n",
       "    </tr>\n",
       "    <tr>\n",
       "      <th>32912</th>\n",
       "      <td>2629.0</td>\n",
       "      <td>1</td>\n",
       "      <td>4.0</td>\n",
       "      <td>0.0</td>\n",
       "      <td>2</td>\n",
       "      <td>869709</td>\n",
       "      <td>1372</td>\n",
       "      <td>0.001578</td>\n",
       "      <td>1</td>\n",
       "      <td>1</td>\n",
       "      <td>...</td>\n",
       "      <td>0</td>\n",
       "      <td>0</td>\n",
       "      <td>-0.270009</td>\n",
       "      <td>148.744436</td>\n",
       "      <td>1591.589650</td>\n",
       "      <td>3254.0</td>\n",
       "      <td>0.318811</td>\n",
       "      <td>0</td>\n",
       "      <td>1</td>\n",
       "      <td>3600</td>\n",
       "    </tr>\n",
       "  </tbody>\n",
       "</table>\n",
       "<p>10 rows × 201 columns</p>\n",
       "</div>"
      ],
      "text/plain": [
       "       Ranking  Price Range  Number of Reviews  Rating  one_or_more  \\\n",
       "21793  7573.0   1            109.0              0.0     3             \n",
       "14786  10550.0  1            5.0                0.0     3             \n",
       "36526  2368.0   0            34.0               0.0     9             \n",
       "35726  2333.0   0            68.0               0.0     9             \n",
       "49134  1397.0   1            12.0               0.0     2             \n",
       "490    12325.0  1            80.0               0.0     7             \n",
       "10757  8897.0   0            4.0                0.0     6             \n",
       "33795  2340.0   1            88.0               0.0     7             \n",
       "513    10180.0  1            11.0               0.0     15            \n",
       "32912  2629.0   1            4.0                0.0     2             \n",
       "\n",
       "       population  restaurant_in_city  restaurant_per_person  capital  \\\n",
       "21793  3223334     3813                0.001183               1         \n",
       "14786  8982256     7193                0.000801               1         \n",
       "36526  3644826     2705                0.000742               1         \n",
       "35726  3644826     2705                0.000742               1         \n",
       "49134  664046      776                 0.001169               1         \n",
       "490    2160928     6108                0.002827               1         \n",
       "10757  8982256     7193                0.000801               1         \n",
       "33795  1756056     1021                0.000581               1         \n",
       "513    2160928     6108                0.002827               1         \n",
       "32912  869709      1372                0.001578               1         \n",
       "\n",
       "       Amsterdam  ...  Price_Range_isNAN  Number_of_Reviews_isNAN  \\\n",
       "21793  0          ...  0                  0                         \n",
       "14786  0          ...  1                  0                         \n",
       "36526  0          ...  0                  0                         \n",
       "35726  0          ...  0                  0                         \n",
       "49134  0          ...  1                  0                         \n",
       "490    0          ...  0                  0                         \n",
       "10757  0          ...  0                  0                         \n",
       "33795  0          ...  0                  0                         \n",
       "513    0          ...  1                  0                         \n",
       "32912  1          ...  0                  0                         \n",
       "\n",
       "       reviews_per_each_person  reviews_per_city  mean_ranking_per_city  \\\n",
       "21793 -0.197365                 99.911888         4388.516391             \n",
       "14786 -0.280061                 137.968381        8169.707354             \n",
       "36526 -0.258251                 63.772188         3255.417745             \n",
       "35726 -0.235057                 63.772188         3255.417745             \n",
       "49134 -0.236513                 93.987517         880.213918              \n",
       "490   -0.189396                 117.040915        6938.557138             \n",
       "10757 -0.280337                 137.968381        8169.707354             \n",
       "33795 -0.156846                 158.680214        1219.061704             \n",
       "513   -0.268788                 117.040915        6938.557138             \n",
       "32912 -0.270009                 148.744436        1591.589650             \n",
       "\n",
       "       max_per_city     stand  reviews_is_NAN  len_date_of_reviews  \\\n",
       "21793  8809.0        0.361503  0               2                     \n",
       "14786  16444.0       0.144751  0               2                     \n",
       "36526  6372.0       -0.139268  0               2                     \n",
       "35726  6372.0       -0.144761  0               2                     \n",
       "49134  1787.0        0.289192  0               1                     \n",
       "490    13986.0       0.385131  0               2                     \n",
       "10757  16444.0       0.044228  0               2                     \n",
       "33795  2440.0        0.459401  0               2                     \n",
       "513    13986.0       0.231763  1               0                     \n",
       "32912  3254.0        0.318811  0               1                     \n",
       "\n",
       "       days_between  \n",
       "21793  43            \n",
       "14786  36            \n",
       "36526  133           \n",
       "35726  62            \n",
       "49134  3600          \n",
       "490    36            \n",
       "10757  182           \n",
       "33795  135           \n",
       "513    1800          \n",
       "32912  3600          \n",
       "\n",
       "[10 rows x 201 columns]"
      ]
     },
     "execution_count": 55,
     "metadata": {},
     "output_type": "execute_result"
    }
   ],
   "source": [
    "test_data.sample(10)"
   ]
  },
  {
   "cell_type": "code",
   "execution_count": 56,
   "metadata": {},
   "outputs": [],
   "source": [
    "test_data = test_data.drop(['Rating'], axis=1)"
   ]
  },
  {
   "cell_type": "code",
   "execution_count": 57,
   "metadata": {},
   "outputs": [
    {
     "data": {
      "text/html": [
       "<div>\n",
       "<style scoped>\n",
       "    .dataframe tbody tr th:only-of-type {\n",
       "        vertical-align: middle;\n",
       "    }\n",
       "\n",
       "    .dataframe tbody tr th {\n",
       "        vertical-align: top;\n",
       "    }\n",
       "\n",
       "    .dataframe thead th {\n",
       "        text-align: right;\n",
       "    }\n",
       "</style>\n",
       "<table border=\"1\" class=\"dataframe\">\n",
       "  <thead>\n",
       "    <tr style=\"text-align: right;\">\n",
       "      <th></th>\n",
       "      <th>Restaurant_id</th>\n",
       "      <th>Rating</th>\n",
       "    </tr>\n",
       "  </thead>\n",
       "  <tbody>\n",
       "    <tr>\n",
       "      <th>0</th>\n",
       "      <td>id_0</td>\n",
       "      <td>2.0</td>\n",
       "    </tr>\n",
       "    <tr>\n",
       "      <th>1</th>\n",
       "      <td>id_1</td>\n",
       "      <td>2.5</td>\n",
       "    </tr>\n",
       "    <tr>\n",
       "      <th>2</th>\n",
       "      <td>id_2</td>\n",
       "      <td>4.0</td>\n",
       "    </tr>\n",
       "    <tr>\n",
       "      <th>3</th>\n",
       "      <td>id_3</td>\n",
       "      <td>1.0</td>\n",
       "    </tr>\n",
       "    <tr>\n",
       "      <th>4</th>\n",
       "      <td>id_4</td>\n",
       "      <td>4.0</td>\n",
       "    </tr>\n",
       "    <tr>\n",
       "      <th>...</th>\n",
       "      <td>...</td>\n",
       "      <td>...</td>\n",
       "    </tr>\n",
       "    <tr>\n",
       "      <th>9995</th>\n",
       "      <td>id_9995</td>\n",
       "      <td>3.0</td>\n",
       "    </tr>\n",
       "    <tr>\n",
       "      <th>9996</th>\n",
       "      <td>id_9996</td>\n",
       "      <td>1.5</td>\n",
       "    </tr>\n",
       "    <tr>\n",
       "      <th>9997</th>\n",
       "      <td>id_9997</td>\n",
       "      <td>4.5</td>\n",
       "    </tr>\n",
       "    <tr>\n",
       "      <th>9998</th>\n",
       "      <td>id_9998</td>\n",
       "      <td>1.0</td>\n",
       "    </tr>\n",
       "    <tr>\n",
       "      <th>9999</th>\n",
       "      <td>id_9999</td>\n",
       "      <td>2.5</td>\n",
       "    </tr>\n",
       "  </tbody>\n",
       "</table>\n",
       "<p>10000 rows × 2 columns</p>\n",
       "</div>"
      ],
      "text/plain": [
       "     Restaurant_id  Rating\n",
       "0     id_0          2.0   \n",
       "1     id_1          2.5   \n",
       "2     id_2          4.0   \n",
       "3     id_3          1.0   \n",
       "4     id_4          4.0   \n",
       "...    ...          ...   \n",
       "9995  id_9995       3.0   \n",
       "9996  id_9996       1.5   \n",
       "9997  id_9997       4.5   \n",
       "9998  id_9998       1.0   \n",
       "9999  id_9999       2.5   \n",
       "\n",
       "[10000 rows x 2 columns]"
      ]
     },
     "execution_count": 57,
     "metadata": {},
     "output_type": "execute_result"
    }
   ],
   "source": [
    "sample_submission"
   ]
  },
  {
   "cell_type": "code",
   "execution_count": 58,
   "metadata": {},
   "outputs": [
    {
     "name": "stderr",
     "output_type": "stream",
     "text": [
      "[Parallel(n_jobs=4)]: Using backend ThreadingBackend with 4 concurrent workers.\n",
      "[Parallel(n_jobs=4)]: Done  42 tasks      | elapsed:    0.0s\n",
      "[Parallel(n_jobs=4)]: Done 100 out of 100 | elapsed:    0.1s finished\n"
     ]
    }
   ],
   "source": [
    "predict_submission = model.predict(test_data)\n",
    "predict_submission = np.round(predict_submission*2) / 2"
   ]
  },
  {
   "cell_type": "code",
   "execution_count": 59,
   "metadata": {},
   "outputs": [
    {
     "data": {
      "text/plain": [
       "array([3. , 4.5, 3. , ..., 3.5, 4.5, 5. ])"
      ]
     },
     "execution_count": 59,
     "metadata": {},
     "output_type": "execute_result"
    }
   ],
   "source": [
    "predict_submission"
   ]
  },
  {
   "cell_type": "code",
   "execution_count": 60,
   "metadata": {},
   "outputs": [
    {
     "data": {
      "text/html": [
       "<div>\n",
       "<style scoped>\n",
       "    .dataframe tbody tr th:only-of-type {\n",
       "        vertical-align: middle;\n",
       "    }\n",
       "\n",
       "    .dataframe tbody tr th {\n",
       "        vertical-align: top;\n",
       "    }\n",
       "\n",
       "    .dataframe thead th {\n",
       "        text-align: right;\n",
       "    }\n",
       "</style>\n",
       "<table border=\"1\" class=\"dataframe\">\n",
       "  <thead>\n",
       "    <tr style=\"text-align: right;\">\n",
       "      <th></th>\n",
       "      <th>Restaurant_id</th>\n",
       "      <th>Rating</th>\n",
       "    </tr>\n",
       "  </thead>\n",
       "  <tbody>\n",
       "    <tr>\n",
       "      <th>0</th>\n",
       "      <td>id_0</td>\n",
       "      <td>3.0</td>\n",
       "    </tr>\n",
       "    <tr>\n",
       "      <th>1</th>\n",
       "      <td>id_1</td>\n",
       "      <td>4.5</td>\n",
       "    </tr>\n",
       "    <tr>\n",
       "      <th>2</th>\n",
       "      <td>id_2</td>\n",
       "      <td>3.0</td>\n",
       "    </tr>\n",
       "    <tr>\n",
       "      <th>3</th>\n",
       "      <td>id_3</td>\n",
       "      <td>5.0</td>\n",
       "    </tr>\n",
       "    <tr>\n",
       "      <th>4</th>\n",
       "      <td>id_4</td>\n",
       "      <td>4.5</td>\n",
       "    </tr>\n",
       "    <tr>\n",
       "      <th>5</th>\n",
       "      <td>id_5</td>\n",
       "      <td>4.0</td>\n",
       "    </tr>\n",
       "    <tr>\n",
       "      <th>6</th>\n",
       "      <td>id_6</td>\n",
       "      <td>4.0</td>\n",
       "    </tr>\n",
       "    <tr>\n",
       "      <th>7</th>\n",
       "      <td>id_7</td>\n",
       "      <td>3.0</td>\n",
       "    </tr>\n",
       "    <tr>\n",
       "      <th>8</th>\n",
       "      <td>id_8</td>\n",
       "      <td>3.0</td>\n",
       "    </tr>\n",
       "    <tr>\n",
       "      <th>9</th>\n",
       "      <td>id_9</td>\n",
       "      <td>4.0</td>\n",
       "    </tr>\n",
       "  </tbody>\n",
       "</table>\n",
       "</div>"
      ],
      "text/plain": [
       "  Restaurant_id  Rating\n",
       "0  id_0          3.0   \n",
       "1  id_1          4.5   \n",
       "2  id_2          3.0   \n",
       "3  id_3          5.0   \n",
       "4  id_4          4.5   \n",
       "5  id_5          4.0   \n",
       "6  id_6          4.0   \n",
       "7  id_7          3.0   \n",
       "8  id_8          3.0   \n",
       "9  id_9          4.0   "
      ]
     },
     "execution_count": 60,
     "metadata": {},
     "output_type": "execute_result"
    }
   ],
   "source": [
    "sample_submission['Rating'] = predict_submission\n",
    "sample_submission.to_csv('submission.csv', index=False)\n",
    "sample_submission.head(10)"
   ]
  },
  {
   "cell_type": "markdown",
   "metadata": {},
   "source": [
    "# What's next?\n",
    "Или что делать, чтоб улучшить результат:\n",
    "* Обработать оставшиеся признаки в понятный для машины формат\n",
    "* Посмотреть, что еще можно извлечь из признаков\n",
    "* Сгенерировать новые признаки\n",
    "* Подгрузить дополнительные данные, например: по населению или благосостоянию городов\n",
    "* Подобрать состав признаков\n",
    "\n",
    "В общем, процесс творческий и весьма увлекательный! Удачи в соревновании!\n"
   ]
  },
  {
   "cell_type": "code",
   "execution_count": null,
   "metadata": {},
   "outputs": [],
   "source": []
  }
 ],
 "metadata": {
  "kernelspec": {
   "display_name": "Python 3",
   "language": "python",
   "name": "python3"
  },
  "language_info": {
   "codemirror_mode": {
    "name": "ipython",
    "version": 3
   },
   "file_extension": ".py",
   "mimetype": "text/x-python",
   "name": "python",
   "nbconvert_exporter": "python",
   "pygments_lexer": "ipython3",
   "version": "3.8.3"
  }
 },
 "nbformat": 4,
 "nbformat_minor": 4
}
