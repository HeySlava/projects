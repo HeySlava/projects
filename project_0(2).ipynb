{
 "cells": [
  {
   "cell_type": "code",
   "execution_count": 1,
   "metadata": {},
   "outputs": [
    {
     "name": "stdout",
     "output_type": "stream",
     "text": [
      "Мой алгоритм отгадывает число в среднем за 5.044 попыток\n"
     ]
    }
   ],
   "source": [
    "import random\n",
    "import math \n",
    "date = {}\n",
    "count_list = []\n",
    "\n",
    "def game():\n",
    "    '''Функция использует данные больше или меньше, деля на 2 область, \n",
    "       где находится число.\n",
    "       Функция возвращает загаданное сгенерированное число и число попыток'''\n",
    "    predict = 88\n",
    "    max_pred = 100  # максимальное предполагаемое число\n",
    "    min_pred = 0  # минимальное предполагаемое число\n",
    "    number = random.randint(1, max_pred)\n",
    "    count = 1\n",
    "    \n",
    "    while number != predict:\n",
    "        count += 1\n",
    "        if number < predict:\n",
    "            max_pred = predict\n",
    "            predict = math.ceil((predict + min_pred) / 2)\n",
    "            \n",
    "        if number > predict:\n",
    "            min_pred = predict\n",
    "            predict = math.ceil((predict + max_pred) / 2)\n",
    "            \n",
    "    return (predict, count)\n",
    "\n",
    "\n",
    "for repeat in range(1000):  # количество тестов для выявления среднего попыток отгадывания\n",
    "    count_list.append(game()[1])\n",
    "    \n",
    "average = sum(count_list) / len(count_list)\n",
    "\n",
    "print('Мой алгоритм отгадывает число в среднем за {} попыток'.format(average))"
   ]
  }
 ],
 "metadata": {
  "kernelspec": {
   "display_name": "Python 3",
   "language": "python",
   "name": "python3"
  },
  "language_info": {
   "codemirror_mode": {
    "name": "ipython",
    "version": 3
   },
   "file_extension": ".py",
   "mimetype": "text/x-python",
   "name": "python",
   "nbconvert_exporter": "python",
   "pygments_lexer": "ipython3",
   "version": "3.8.3"
  }
 },
 "nbformat": 4,
 "nbformat_minor": 4
}
