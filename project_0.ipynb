{
 "cells": [
  {
   "cell_type": "code",
   "execution_count": 32,
   "metadata": {},
   "outputs": [
    {
     "name": "stdout",
     "output_type": "stream",
     "text": [
      "Загадано число от 1 до 100\n",
      "Мой алгоритм угадывает число в среднем за 4 попытки\n"
     ]
    },
    {
     "data": {
      "text/plain": [
       "4"
      ]
     },
     "execution_count": 32,
     "metadata": {},
     "output_type": "execute_result"
    }
   ],
   "source": [
    "import numpy as np\n",
    "import math\n",
    "count = 0                            # счетчик попыток\n",
    "number = np.random.randint(1,101)    # загадали число\n",
    "print (\"Загадано число от 1 до 100\")     \n",
    "\n",
    "def score_game(game_core):\n",
    "    '''Запускаем игру 1000 раз, чтобы узнать, как быстро игра угадывает число'''\n",
    "    count_ls = []\n",
    "    np.random.seed(1)  # фиксируем RANDOM SEED, чтобы ваш эксперимент был воспроизводим!\n",
    "    random_array = np.random.randint(1,101, size=(1000))\n",
    "    for number in random_array:\n",
    "        count_ls.append(game_core(number))\n",
    "    score = int(np.mean(count_ls))\n",
    "    print(f\"Мой алгоритм угадывает число в среднем за {score} попытки\")\n",
    "    return(score)\n",
    "\n",
    "def game_core_v2(number):\n",
    "    '''Функция использует данные больше или меньше, деля на 2 область, \n",
    "       где находится число.\n",
    "       Функция возвращает число попыток'''\n",
    "    predict = 50\n",
    "    max_pred = 100  # максимальное предполагаемое число\n",
    "    min_pred = 0  # минимальное предполагаемое число\n",
    "    count = 1\n",
    "    \n",
    "    while number != predict: # условие завершения цикла\n",
    "        count += 1\n",
    "        if number < predict:\n",
    "            max_pred = predict\n",
    "            predict = math.ceil((predict + min_pred) / 2)\n",
    "            \n",
    "        if number > predict:\n",
    "            min_pred = predict\n",
    "            predict = math.ceil((predict + max_pred) / 2)\n",
    "    return count\n",
    "\n",
    "score_game(game_core_v2)"
   ]
  },
  {
   "cell_type": "code",
   "execution_count": null,
   "metadata": {},
   "outputs": [],
   "source": []
  }
 ],
 "metadata": {
  "kernelspec": {
   "display_name": "Python 3",
   "language": "python",
   "name": "python3"
  },
  "language_info": {
   "codemirror_mode": {
    "name": "ipython",
    "version": 3
   },
   "file_extension": ".py",
   "mimetype": "text/x-python",
   "name": "python",
   "nbconvert_exporter": "python",
   "pygments_lexer": "ipython3",
   "version": "3.8.3"
  }
 },
 "nbformat": 4,
 "nbformat_minor": 4
}
